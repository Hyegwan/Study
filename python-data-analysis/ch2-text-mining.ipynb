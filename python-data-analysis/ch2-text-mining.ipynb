{
 "cells": [
  {
   "cell_type": "markdown",
   "id": "76c55b7d",
   "metadata": {},
   "source": [
    "### 목차\n",
    "1. 웹 크롤링으로 기초 데이터 수집하기  \n",
    "2. 나무위키 최근 변경 페이지 키워드 분석하기  \n",
    "3. 특정 키워드가 있는 게시물 크롤링을 위해 트위터 API 사용하기  \n",
    "4. 트위터 API로 '손흥민'과 연관된 키워드 분석하기  "
   ]
  },
  {
   "cell_type": "markdown",
   "id": "258ccbf5",
   "metadata": {},
   "source": [
    "# 1. 웹 크롤링으로 기초 데이터 수집하기"
   ]
  },
  {
   "cell_type": "markdown",
   "id": "f5b7800a",
   "metadata": {},
   "source": [
    "## 1.1 웹 크롤링 라이브러리 사용하기 "
   ]
  },
  {
   "cell_type": "markdown",
   "id": "edf80e05",
   "metadata": {},
   "source": [
    "파이썬에서는 **BeatifulSoup**과 **requests**라는 라이브러리로 웹 크롤러를 만들 수 있다.  \n",
    "requests는 특정 URL로부터 HTML 문서를 가져오는 작업을 수행하는데,    \n",
    "나무위키 페이지와 같이 HTML문서가 Javascript로 동적 로딩되는 경우가 있다.  \n",
    "그래서 requests 대신 **Selenium** 라이브러리를 사용하여, 크롬 브라우저로 동적 웹 크롤링을 수행하도록 하겠다.  \n",
    "셀레니움이란: 컴퓨터에 설치되어있는 웹 브라우저를 자동으로 구동해주는 라이브러리\n",
    "\n",
    "터미널을 실행하여 아래의 파이썬 모듈을 설치한다.  \n",
    "- pip install selenium beautifylsoup4\n",
    "\n",
    "터미널에서 homebrew를 이용하여 chromedriver를 설치한다.  \n",
    "- brew install chromedriver"
   ]
  },
  {
   "cell_type": "code",
   "execution_count": 1,
   "id": "a9ba8f0f",
   "metadata": {},
   "outputs": [
    {
     "name": "stderr",
     "output_type": "stream",
     "text": [
      "/var/folders/hf/v7h_0c452jq2_96439gvcks40000gn/T/ipykernel_5301/3513294632.py:13: DeprecationWarning: executable_path has been deprecated, please pass in a Service object\n",
      "  driver = webdriver.Chrome(path) # 크롬 드라이버 사용\n"
     ]
    },
    {
     "name": "stdout",
     "output_type": "stream",
     "text": [
      "https://namu.wiki/w/%EC%98%A4%EB%9D%BD%EC%8B%A4/%EC%A0%9C%EC%A3%BC/%ED%8F%90%EC%97%85\n",
      "https://namu.wiki/w/%ED%8B%80:%EB%A7%88%EB%A6%B0%20%EC%BB%B5\n",
      "https://namu.wiki/w/%EC%8A%A4%EB%AA%A8%EB%AA%A8%EB%AA%A8%EB%AA%A8%EB%AA%A8%EB%AA%A8%20~%EC%A7%80%EC%83%81%20%EC%B5%9C%EA%B0%95%EC%9D%98%20%EC%8B%A0%EB%B6%80~\n"
     ]
    }
   ],
   "source": [
    "## 페이지의 URL 정보 추출하기 ##\n",
    "\n",
    "# [0] 라이브러리 호출\n",
    "from selenium import webdriver\n",
    "from bs4 import BeautifulSoup\n",
    "import re\n",
    "\n",
    "# [1] 크롬 드라이버의 실행 경로 지정\n",
    "path = \"/usr/local/bin/chromedriver\" # brew로 설치된 chromedriver의 path (Mac)\n",
    "source_url = \"https://namu.wiki/RecentChanges\" # 크롤링할 사이트 주소 정의\n",
    "\n",
    "# [2] 크롬 드라이버를 이용하여 URL의 HTML문서를 가져오기\n",
    "driver = webdriver.Chrome(path) # 크롬 드라이버 사용\n",
    "driver.get(source_url) # 드라이버가 브라우징 할 페이지 소스 입력\n",
    "req = driver.page_source\n",
    "\n",
    "# [3] 이를 BeautifulSoup() 클래스의 soup 객체로 변환\n",
    "soup = BeautifulSoup(req, \"html.parser\") # 사이트의 html 구조에 기반하여 데이터를 파싱\n",
    "\n",
    "# [4] find(), findall() 함수를 사용하여 특정 HTML 태그 혹은 특정 HTML 클래스를 가진 데이터 가져오기\n",
    "contents_table = soup.find(name=\"table\")\n",
    "table_body = contents_table.find(name=\"tbody\")\n",
    "table_rows = table_body.find_all(name=\"tr\")\n",
    "\n",
    "page_url_base = \"https://namu.wiki\" # a 태그의 href 속성을 리스트로 추출하여 크롤링할 페이지 리스트 생성\n",
    "page_urls = []\n",
    "for index in range(0, len(table_rows)):\n",
    "    first_td = table_rows[index].find_all('td')[0]\n",
    "    td_url = first_td.find_all('a')\n",
    "    if len(td_url) > 0:\n",
    "        page_url = page_url_base + td_url[0].get('href')\n",
    "        if \"png\" not in page_url:\n",
    "            page_urls.append(page_url)\n",
    "\n",
    "page_urls = list(set(page_urls)) # 중복 url 제거\n",
    "for page in page_urls[:3]:\n",
    "    print(page)"
   ]
  },
  {
   "cell_type": "markdown",
   "id": "68a4438f",
   "metadata": {},
   "source": [
    "에러는 셀레니움이 3에서 4로 업데이트 되면서 기존 방식이 아닌 새로운 방식으로 코드를 작성하라는 의미. 크롤링이 돌아가긴 한다. "
   ]
  },
  {
   "cell_type": "markdown",
   "id": "83cd8d09",
   "metadata": {},
   "source": [
    "## 1.2 텍스트 정보 수집하기 "
   ]
  },
  {
   "cell_type": "markdown",
   "id": "1adbc5a0",
   "metadata": {},
   "source": [
    "다음 코드는 최근 변경된 문서 중 한 페이지의 텍스트 정보를 크롤링한 것이다.  \n",
    "이전 단계와 다른점은 get()함수 대신 **text()** 함수를 사용하여 태그의 텍스트 정보만을 추출했다는 점이다."
   ]
  },
  {
   "cell_type": "code",
   "execution_count": 2,
   "id": "00f34e15",
   "metadata": {},
   "outputs": [
    {
     "name": "stderr",
     "output_type": "stream",
     "text": [
      "/var/folders/hf/v7h_0c452jq2_96439gvcks40000gn/T/ipykernel_5301/2173636984.py:4: DeprecationWarning: executable_path has been deprecated, please pass in a Service object\n",
      "  driver = webdriver.Chrome(path)\n"
     ]
    },
    {
     "name": "stdout",
     "output_type": "stream",
     "text": [
      "오락실/제주/폐업 \n",
      "\n",
      "\n",
      "오락실없어진 존재\n",
      "\n",
      "\n",
      "   상위 문서: 오락실/제주폐업된 오락실의 위치정보서울경기인천강원대전세종충남충북부산울산경남대구경북광주전남전북제주1. 작성전 유의사항2. 서귀포시2.1. 아트오락실2.2. 은하수게임랜드3. 제주시3.1. 가족오락관 한라대점3.2. 메가박스 제주 메가게임타운3.3. 제주 원 게임장3.4. 제주 탑동 게임랜드3.5. 제주 어게인 게임장3.6. 제주 유니코 키드랜드3.7. 퍼니랜드 대학로점1. 작성전 유의사항[편집]가나다순입니다.정보를 공유할 만한 오락실이라고 생각한다면 그 오락실에 관한 정보를 올려주세요.현재 영업 중인 제주특별자치도 내의 오락실은 오락실/제주 문서를 참조하십시오.2. 서귀포시[편집]2.1. 아트오락실[편집]주소: 제주특별자치도 서귀포시 중앙로 93영업시간 : 10시 ~보유 했던 게임EZ2DJ platinum 코인 플스게임기타 고전게임들2007년까지 영업했던 오락실, 폐업 이유는 불확실하고 근처 학생들이 자주 찾았다. 지하 오락실이라 분위기가 많이 어둡고 침침했다. 화장실로 가는 계단벽에 크게 원으로 구멍이 나있어, 내부를 볼 수 있었다. 칸막이로 플스게임과 고전게임을 나누어서 배치했으며, 지금은 재활병원으로 바뀌었다.2.2. 은하수게임랜드[편집]주소: 제주특별자치도 서귀포시 동문로 56영업시간: 오전 10시~오후 8시보유 했던 게임EZ2DJ 3rd 1대 - 200 원코인 플스게임(위닝 일레븐)타임 크라이시스메탈슬러그 3KOF 2003스트라이커즈 1945 플러스 (네오지오 기판)삼국전기(IGS버전)버추어 스트라이커2 VER98(JFA제휴 버전)2009년 초반까지 존재했던 오락실. 근처에 서귀포중학교 가 있으며 당시에 하교후 들러오는 학생들로 분주했으며 옆에 PC방[1]과 분식점이 있어서 이용객이 많이 있던 시절이었다.[2] 이 오락실은 90년대 초반에는 지금은 대패삼겹살 집으로 바뀐 곳으로 규모가 큰곳에서 운영했으며 버추어 캅, 메탈슬러그 1, 사무라이 스피리츠 아마쿠사 강림 등 당시에 인기가 많았던 게임들을 가동했으며 화장품도 겸업으로 했었다. 그러다 2000년대 중반에 자금 사정으로 현재 다방이 있는 규모로 바꿔서 운영했으며 점주분의 건강악화 사정등으로 가게를 넘겼다. EZ2DJ 3rd 의 상태가 매우 안좋게 유지되었다. 폐업 이후 다방은 지금도 정상 운영중이다.3. 제주시[편집]3.1. 가족오락관 한라대점[편집]주소: 제주특별자치도 제주시 한라대학로 69  네이버 거리뷰위치: 한라대학교 정문 근처(파리바게뜨 맞은편) 혹은 시티주유소(한라대학교 방향) 근방영업시간: 24시간보유 했던 기기비트온 PRIME 2 1대 (500원 1크레딧)EZ2AC -FINAL- 1대EZ2AC : FINAL EX 1대 (500원 1크레딧 / LCD 모니터, 외부엠프 있음)히든캐치 5 1대노래방 12대 (시간제 500원 3분 1000원 12분)농구게임 2대철권 태그 토너먼트 2 언리미티드 2대 (일본 내수판, 왼쪽 태그 안됨)레이스 온 2대EZ2AC를 플레이 중 노래방의 소리 때문에 게임소리가 묻힐 수 있다.왼쪽 기체는 10키이상 모드, 오른쪽 기체는 7키이하 모드에 적합하다. 오른쪽 기기의 코인 투입기가 인식이 잘 안되는 경우가 많다.건물 자체가 철거되면서 사라졌다.3.2. 메가박스 제주 메가게임타운[편집]주소: 제주특별자치도 제주시 중앙로14길 18보유 했던 기기타임 크라이시스 3 1대 (일본 내수판, 플레이/컨티뉴 1,000원, 고장)[3]철권 6 BR 2대부스형 노래방 2대 (TJ 미확인)메탈슬러그 5 1대건버드 1대스트라이커즈 1945 1대아타리 테트리스 1대그레이트 비시바시 챔프 1대히든캐치 5 1대 (고장)[4]뽑기3.3. 제주 원 게임장[편집]보유 했던 게임펌프 잇 업 FIESTA EX유비트 코피어스 2대철권 6EZ2DJ 4th테크니카한때 제주도에서 유일하게 유비트 로컬 매칭이 가능하던 오락실이라 만족스럽지 않은 패널상태에도 불구하고 리듬게이머들의 성지였던 곳이다. 그러나 심각한 경영난으로 폐업을 했고 카페로 바뀌었다.3.4. 제주 탑동 게임랜드[편집]주소: 제주특별자치도 제주시 건입동 1442-2 네이버 거리뷰위치: 탑동 놀이공원 근처 맥도날드 건물에 위치.제주월드21(탑동놀이공원) 맥도날드 확장 리뉴얼 오픈으로 인해 폐업된 상태.3.5. 제주 어게인 게임장[편집]주소: 제주특별자치도 제주시 이도2동 1179번지 네이버 거리뷰위치: 제주시청쪽 버스정류장 근처 탐앤탐스 커피 바로 옆에 위치.영업시간: 11시~?보유 했던 기기드럼매니아 V7 (4스테이지)EZ2DJ 7th BE철권 6 BR 2조제주도에서 제일 오래된 오락실이었으나 2012년 11월경 폐업했다.3.6. 제주 유니코 키드랜드[편집]주소: 제주특별자치도 제주시 탑동로 38 5층보유 했던 기기건블레이드 NY 1대 (SD 기체)데이토나 USA 1대MANX TT 슈퍼바이크 1대 (SD 기체)코인 라이더 9대(Motoi)페라리 F40포크레인SKY FOX탱크미확인 5대이마트 제주점 건물 상층부에 있던 유령상가였던 유니코 안에 있던 어린이를 타겟으로 한 오락실.3.7. 퍼니랜드 대학로점[편집]주소: 제주특별자치도 제주시 신성로13길 20 1층 위치: 제주시청 맞은편 골목 안쪽(대학로)에 있다.영업 시간: 오후 1시 ~ 새벽 2시보유 했던 기기펌프 잇 업 PRIME 2 1대 (1000원 1크레딧 / 5라이프, TX 기체)철권 6 BR 4대히든캐치 5 2대렛츠 고 정글 1대타임 크라이시스 4 1대더 하우스 오브 더 데드 4 1대더 비시바시 1대철권 태그 토너먼트 2 언리미티드 4대철권 7 FR 2대메탈슬러그 2 1대 (500원, 레벨6)메탈슬러그 3 1대 (500원)2019년 3월 중순을 시작으로 기계수리 및 교체를 명목으로 휴업을 했다가 4월경에 재오픈 했지만 2019년 7월 21일 기준 기계들을 전부 내놓고 돼지갈비 집으로 바꿨다.      소형견인 연천자동차운전학원  www.ycdrive.com       소형견인1일완성,1종대형1,2종면허, 매일시험,캠핑카,카라반,서울셔틀,토일요일교육  중랑구 먹골역 일등실내운전  0264065378.modoo.at       1일4시간 40시간 20만원 80시간 25만원 중랑학원 녹천학원 삼성학원 강사출신  SK홈앤서비스  www.hnsdirectmall.com       가입혜택현금, 요금 최대 95만원할인, 채팅상담,상담예약, 전국유일SK전문설치기업 [1] 지금도 계속 영업중.[2] 분식집이 있던 장소는 숙박업소로 바뀌었다.[3] 1P의 화면이 잘려 있어서 건콘 영점이 제대로 안 맞으며, 2P는 왼쪽으로 갈수록 발사위치가 안 맞다.[4] 윈도우 상에 문제가 생겼는지 오류 안내가 뜬다.\n"
     ]
    }
   ],
   "source": [
    "## URL 페이지 정보를 기반으로 크롤링하기 ##\n",
    "\n",
    "# [1] 크롬 드라이버 사용\n",
    "driver = webdriver.Chrome(path)\n",
    "\n",
    "# [2] 드라이버가 브라우징 할 페이지 소스 입력\n",
    "driver.get(page_urls[0]) # 첫번째 최근 변경된 문서를 크롤링\n",
    "req = driver.page_source\n",
    "\n",
    "soup = BeautifulSoup(req, \"html.parser\")\n",
    "\n",
    "contents_table = soup.find(name=\"body\") # 본문 # name=\"article\"이 없어서 \"body\"로 대체\n",
    "title = contents_table.find_all('h1')[0] # 제목\n",
    "category = contents_table.find_all('ul')[2] # 카테고리\n",
    "content_paragraphs = contents_table.find_all(name=\"div\", attrs={\"class\":\"m5t+tA2K\"}) # 본문에 있는 모든 텍스트\n",
    "# attrs: attributes 속성값\n",
    "\n",
    "content_corpus_list = []\n",
    "for paragraphs in content_paragraphs:\n",
    "    content_corpus_list.append(paragraphs.text)\n",
    "content_corpus = \"\".join(content_corpus_list)\n",
    "\n",
    "print(title.text)\n",
    "print(\"\\n\")\n",
    "print(category.text)\n",
    "print(\"\\n\")\n",
    "print(content_corpus)\n",
    "\n",
    "driver.close() # 크롤링에 사용한 브라우저 종료\n"
   ]
  },
  {
   "cell_type": "markdown",
   "id": "f6b4ba89",
   "metadata": {},
   "source": [
    "# 2. 나무위키 최근 변경 페이지 키워드 분석하기 "
   ]
  },
  {
   "cell_type": "markdown",
   "id": "67dac036",
   "metadata": {},
   "source": [
    "## 2.1 크롤링: 웹 데이터 가져오기"
   ]
  },
  {
   "cell_type": "markdown",
   "id": "8ab86c47",
   "metadata": {},
   "source": [
    "이전 단계와 동일한 방법으로 웹 데이터를 크롤링한다.  \n",
    "단, 이번에는 모든 URL의 데이터를 가져와보자."
   ]
  },
  {
   "cell_type": "code",
   "execution_count": 3,
   "id": "f31655f7",
   "metadata": {},
   "outputs": [
    {
     "name": "stderr",
     "output_type": "stream",
     "text": [
      "/var/folders/hf/v7h_0c452jq2_96439gvcks40000gn/T/ipykernel_5301/3536218100.py:17: DeprecationWarning: executable_path has been deprecated, please pass in a Service object\n",
      "  driver = webdriver.Chrome(path) # for Mac\n"
     ]
    }
   ],
   "source": [
    "## BeautifulSoup을 이용해 웹 크롤링하기 ##\n",
    "\n",
    "import pandas as pd\n",
    "import numpy as np\n",
    "import matplotlib.pyplot as plt\n",
    "from selenium import webdriver\n",
    "from bs4 import BeautifulSoup\n",
    "import re\n",
    "\n",
    "# brew로 설치된 chromedriver의 path (Mac)\n",
    "path = \"/usr/local/bin/chromedriver\"\n",
    "\n",
    "# 크롤링할 사이트 주소 정의\n",
    "source_url = \"https://namu.wiki/RecentChanges\"\n",
    "\n",
    "# 사이트의 html 구조에 기반하여 크롤링 수행\n",
    "driver = webdriver.Chrome(path) # for Mac\n",
    "driver.get(source_url)\n",
    "req = driver.page_source\n",
    "soup = BeautifulSoup(req, \"html.parser\")\n",
    "\n",
    "contents_table = soup.find(name=\"table\")\n",
    "table_body = contents_table.find(name=\"tbody\")\n",
    "table_rows = table_body.find_all(name=\"tr\")\n",
    "\n",
    "page_url_base = \"https://namu.wiki\"\n",
    "page_urls = []\n",
    "for index in range(0, len(table_rows)):\n",
    "    first_td = table_rows[index].find_all('td')[0]\n",
    "    td_url = first_td.find_all('a')\n",
    "    if len(td_url) > 0:\n",
    "        page_url = page_url_base + td_url[0].get('href')\n",
    "        if 'png' not in page_url:\n",
    "            page_urls.append(page_url)\n",
    "\n",
    "# 중복 url 제거\n",
    "page_urls = list(set(page_urls))\n",
    "\n",
    "# 크롤링에 사용한 브라우저 종료\n",
    "driver.close()"
   ]
  },
  {
   "cell_type": "markdown",
   "id": "15ed99aa",
   "metadata": {},
   "source": [
    "이제 이 주소들에 다시 한번 접근하여 문서의 본문과 제목, 그리고 카테고리에 등장하는 텍스트 데이터를 가져와보자."
   ]
  },
  {
   "cell_type": "code",
   "execution_count": 21,
   "id": "9226fce4",
   "metadata": {},
   "outputs": [
    {
     "name": "stderr",
     "output_type": "stream",
     "text": [
      "/var/folders/hf/v7h_0c452jq2_96439gvcks40000gn/T/ipykernel_5301/231738873.py:10: DeprecationWarning: executable_path has been deprecated, please pass in a Service object\n",
      "  driver = webdriver.Chrome(path)\n",
      "/var/folders/hf/v7h_0c452jq2_96439gvcks40000gn/T/ipykernel_5301/231738873.py:10: DeprecationWarning: executable_path has been deprecated, please pass in a Service object\n",
      "  driver = webdriver.Chrome(path)\n",
      "/var/folders/hf/v7h_0c452jq2_96439gvcks40000gn/T/ipykernel_5301/231738873.py:10: DeprecationWarning: executable_path has been deprecated, please pass in a Service object\n",
      "  driver = webdriver.Chrome(path)\n",
      "/var/folders/hf/v7h_0c452jq2_96439gvcks40000gn/T/ipykernel_5301/231738873.py:10: DeprecationWarning: executable_path has been deprecated, please pass in a Service object\n",
      "  driver = webdriver.Chrome(path)\n",
      "/var/folders/hf/v7h_0c452jq2_96439gvcks40000gn/T/ipykernel_5301/231738873.py:10: DeprecationWarning: executable_path has been deprecated, please pass in a Service object\n",
      "  driver = webdriver.Chrome(path)\n"
     ]
    },
    {
     "data": {
      "text/html": [
       "<div>\n",
       "<style scoped>\n",
       "    .dataframe tbody tr th:only-of-type {\n",
       "        vertical-align: middle;\n",
       "    }\n",
       "\n",
       "    .dataframe tbody tr th {\n",
       "        vertical-align: top;\n",
       "    }\n",
       "\n",
       "    .dataframe thead th {\n",
       "        text-align: right;\n",
       "    }\n",
       "</style>\n",
       "<table border=\"1\" class=\"dataframe\">\n",
       "  <thead>\n",
       "    <tr style=\"text-align: right;\">\n",
       "      <th></th>\n",
       "      <th>title</th>\n",
       "      <th>category</th>\n",
       "      <th>content_text</th>\n",
       "    </tr>\n",
       "  </thead>\n",
       "  <tbody>\n",
       "    <tr>\n",
       "      <th>0</th>\n",
       "      <td>오락실/제주/폐업</td>\n",
       "      <td>오락실없어진 존재</td>\n",
       "      <td>상위 문서: 오락실/제주폐업된 오락실의 위치정보서울경기인천강원대전세종충남충북부...</td>\n",
       "    </tr>\n",
       "    <tr>\n",
       "      <th>1</th>\n",
       "      <td>코타키나발루</td>\n",
       "      <td>말레이시아의 도시코타키나발루휴양지</td>\n",
       "      <td>코타 키나발루Kota Kinabalu국가말레이시아지역사바면적351㎢인구536,000...</td>\n",
       "    </tr>\n",
       "    <tr>\n",
       "      <th>2</th>\n",
       "      <td>스모모모모모모 ~지상 최강의 신부~</td>\n",
       "      <td>스모모모모모모 ~지상 최강의 신부~일본 만화/목록일본 애니메이션/목록</td>\n",
       "      <td>은(는) 여기로 연결됩니다. 개구리 중사 케로로의 등장인물에 대한 내용은 스모...</td>\n",
       "    </tr>\n",
       "    <tr>\n",
       "      <th>3</th>\n",
       "      <td>슈츠슈타펠</td>\n",
       "      <td>슈츠슈타펠</td>\n",
       "      <td>파시즘 [ 펼치기 · 접기 ]이념파시즘 · 군국주의 · 국가주의 · 국수주의 · 전...</td>\n",
       "    </tr>\n",
       "    <tr>\n",
       "      <th>4</th>\n",
       "      <td>세르히오 라모스/클럽 경력</td>\n",
       "      <td>축구선수/커리어</td>\n",
       "      <td>상위 문서: 세르히오 라모스   관련 문서: 세르히오 라모스/국가대표 경력, ...</td>\n",
       "    </tr>\n",
       "  </tbody>\n",
       "</table>\n",
       "</div>"
      ],
      "text/plain": [
       "                  title                                category  \\\n",
       "0            오락실/제주/폐업                                오락실없어진 존재   \n",
       "1               코타키나발루                       말레이시아의 도시코타키나발루휴양지   \n",
       "2  스모모모모모모 ~지상 최강의 신부~   스모모모모모모 ~지상 최강의 신부~일본 만화/목록일본 애니메이션/목록   \n",
       "3                슈츠슈타펠                                    슈츠슈타펠   \n",
       "4       세르히오 라모스/클럽 경력                                 축구선수/커리어   \n",
       "\n",
       "                                        content_text  \n",
       "0     상위 문서: 오락실/제주폐업된 오락실의 위치정보서울경기인천강원대전세종충남충북부...  \n",
       "1  코타 키나발루Kota Kinabalu국가말레이시아지역사바면적351㎢인구536,000...  \n",
       "2     은(는) 여기로 연결됩니다. 개구리 중사 케로로의 등장인물에 대한 내용은 스모...  \n",
       "3  파시즘 [ 펼치기 · 접기 ]이념파시즘 · 군국주의 · 국가주의 · 국수주의 · 전...  \n",
       "4     상위 문서: 세르히오 라모스   관련 문서: 세르히오 라모스/국가대표 경력, ...  "
      ]
     },
     "execution_count": 21,
     "metadata": {},
     "output_type": "execute_result"
    }
   ],
   "source": [
    "## 나무위키의 최근 변경 데이터 크롤링하기\n",
    "# 크롤링한 데이터를 데이터 프레임으로 만들기 위해 준비\n",
    "columns = ['title', 'category', 'content_text']\n",
    "df = pd.DataFrame(columns=columns)\n",
    "\n",
    "# 각 페이지별 '제목', '카테고리', '본문' 정보를 데이터 프레임으로 생성\n",
    "for page_url in page_urls[:5]: # 최근 변경 내역 상위 5개 링크에 대해서만 진행 \n",
    "    \n",
    "    # 사이트의 html 구조에 기반하여 크롤링 수행\n",
    "    driver = webdriver.Chrome(path)\n",
    "    driver.get(page_url)\n",
    "    req = driver.page_source\n",
    "    soup = BeautifulSoup(req, \"html.parser\")\n",
    "    \n",
    "    # 본문... \"article\"이 없는 경우가 있어서 \"body\"로 대체\n",
    "    contents_table = soup.find(name=\"body\") # 본문\n",
    "    \n",
    "    # 제목\n",
    "    # title = contents_table.find_all('h1')[0] # 'list index out of range' 에러 발생해서 아래와 같이 대체\n",
    "    if len(contents_table.find_all('h1')) > 0:\n",
    "        title = contents_table.find_all('h1')[0]\n",
    "    else:\n",
    "        title = None # 타이틀이 없을 수가 있나\n",
    "    \n",
    "    # 카테고리\n",
    "    # 카테고리 정보가 없는 경우를 확인\n",
    "    # contenst_table도 article이 없는 경우 있는 경우를 아래처럼 적용할 수 있을 듯\n",
    "    if len(contents_table.find_all('ul')) > 0:\n",
    "        category = contents_table.find_all('ul')[2]\n",
    "    else:\n",
    "        category = None \n",
    "    \n",
    "    # 본문내의 텍스트 추출\n",
    "    content_paragraphs = contents_table.find_all(name=\"div\", attrs={\"class\":\"m5t+tA2K\"})\n",
    "    content_corpus_list = []\n",
    "    \n",
    "    # 페이지 내 '제목' 정보에서 개행 문자를 제거한 뒤 추출\n",
    "    # 만약 없는 경우, 빈 문자열로 대체\n",
    "    if title is not None:\n",
    "        row_title = title.text.replace(\"\\n\", \" \")\n",
    "    else:\n",
    "        row_title = \"\"\n",
    "    \n",
    "    # '본문' 정보도 위와 같이 처리\n",
    "    if content_paragraphs is not None:\n",
    "        for paragraphs in content_paragraphs:\n",
    "            if paragraphs is not None:\n",
    "                content_corpus_list.append(paragraphs.text.replace(\"\\n\", \" \"))\n",
    "            else:\n",
    "                content_corpus_list.append(\"\")\n",
    "    else:\n",
    "        content_corpus_list.append(\"\")\n",
    "    \n",
    "    # '카테고리' 정보에서 \"분류\"라는 단어와 개행 문자를 제거한 뒤 추출\n",
    "    # 만약 없는 경우, 빈 문자열로 대체\n",
    "    if category is not None:\n",
    "        row_category = category.text.replace(\"\\n\", \" \")\n",
    "        row_category = category.text.replace(\"분류\", \" \")\n",
    "    else: \n",
    "        row_category = \"\" \n",
    "    \n",
    "    \n",
    "    # 모든 정보를 하나의 데이터 프레임에 저장\n",
    "    row = [row_title, row_category, \"\".join(content_corpus_list)] # [제목, 카테고리, 본문]\n",
    "    # series = pd.Series(row, index=df.columns)\n",
    "    # df = df.append(series, ignore_index=True) # append 대신 concat 쓰기\n",
    "    df_new = pd.DataFrame([row], columns=columns)\n",
    "    df = pd.concat([df, df_new], axis=0, ignore_index=True)\n",
    "    \n",
    "    # 크롤링에 사용한 브라우저를 종료\n",
    "    driver.close()\n",
    "    \n",
    "# 데이터 프레임 출력\n",
    "df.head()"
   ]
  },
  {
   "cell_type": "markdown",
   "id": "2467c1ba",
   "metadata": {},
   "source": [
    "## 2.2 추출: 키워드 정보 추출하기 "
   ]
  },
  {
   "cell_type": "markdown",
   "id": "35754f34",
   "metadata": {},
   "source": [
    "다음은 수집한 텍스트 데이터에서 키워드 정보를 추출하는 단계입니다.  \n",
    "이를 위해 **텍스트 전처리** 작업이 필요합니다.  \n",
    "\n",
    "파이썬에서는 're'라는 모듈을 통해 **정규표현식**을 사용할 수 있습니다.  \n",
    "정규표현식이란 특정한 규칙을 가진 문자열의 집합을 표현하는 방식입니다. (ex. 한글만 추출)"
   ]
  },
  {
   "cell_type": "code",
   "execution_count": 5,
   "id": "c1626fc5",
   "metadata": {},
   "outputs": [
    {
     "name": "stdout",
     "output_type": "stream",
     "text": [
      "  상위 문서 오락실제주폐업된 오락실의 위치정보서울경기인천강원대전세종충남충북부산울산경남대구경북광주전남전북제주 작성전 유의사항 서귀포시 아트오락실 은하수게임랜드 제주시 가족오락관 한라대점 메가박스 제주 메가게임타운 제주 원 게임장 제주 탑동 게임랜드 제주 어게인 게임장 제주 유니코 키드랜드 퍼니랜드 대학로점 작성전 유의사항편집가나다순입니다정보를 공유할 만한 오락실이라고 생각한다면 그 오락실에 관한 정보를 올려주세요현재 영업 중인 제주특별자치도 내의 오락실은 오락실제주 문서를 참조하십시오 서귀포시편집 아트오락실편집주소 제주특별자치도 서귀포시 중앙로 영업시간  시 보유 했던 게임  코인 플스게임기타 고전게임들년까지 영업했던 오락실 폐업 이유는 불확실하고 근처 학생들이 자주 찾았다 지하 오락실이라 분위기가 많이 어둡고 침침했다 화장실로 가는 계단벽에 크게 원으로 구멍이 나있어 내부를 볼 수 있었다 칸막이로 플스게임과 고전게임을 나누어서 배치했으며 지금은 재활병원으로 바뀌었다 은하수게임랜드편집주소 제주특별자치도 서귀포시 동문로 영업시간 오전 시오후 시보유 했던 게임  대   원코인 플스게임위닝 일레븐타임 크라이시스메탈슬러그  스트라이커즈  플러스 네오지오 기판삼국전기버전버추어 스트라이커 제휴 버전년 초반까지 존재했던 오락실 근처에 서귀포중학교 가 있으며 당시에 하교후 들러오는 학생들로 분주했으며 옆에 방과 분식점이 있어서 이용객이 많이 있던 시절이었다 이 오락실은 년대 초반에는 지금은 대패삼겹살 집으로 바뀐 곳으로 규모가 큰곳에서 운영했으며 버추어 캅 메탈슬러그  사무라이 스피리츠 아마쿠사 강림 등 당시에 인기가 많았던 게임들을 가동했으며 화장품도 겸업으로 했었다 그러다 년대 중반에 자금 사정으로 현재 다방이 있는 규모로 바꿔서 운영했으며 점주분의 건강악화 사정등으로 가게를 넘겼다   의 상태가 매우 안좋게 유지되었다 폐업 이후 다방은 지금도 정상 운영중이다 제주시편집 가족오락관 한라대점편집주소 제주특별자치도 제주시 한라대학로   네이버 거리뷰위치 한라대학교 정문 근처파리바게뜨 맞은편 혹은 시티주유소한라대학교 방향 근방영업시간 시간보유 했던 기기비트온   대 원 크레딧  대    대 원 크레딧   모니터 외부엠프 있음히든캐치  대노래방 대 시간제 원 분 원 분농구게임 대철권 태그 토너먼트  언리미티드 대 일본 내수판 왼쪽 태그 안됨레이스 온 대를 플레이 중 노래방의 소리 때문에 게임소리가 묻힐 수 있다왼쪽 기체는 키이상 모드 오른쪽 기체는 키이하 모드에 적합하다 오른쪽 기기의 코인 투입기가 인식이 잘 안되는 경우가 많다건물 자체가 철거되면서 사라졌다 메가박스 제주 메가게임타운편집주소 제주특별자치도 제주시 중앙로길 보유 했던 기기타임 크라이시스  대 일본 내수판 플레이컨티뉴 원 고장철권   대부스형 노래방 대  미확인메탈슬러그  대건버드 대스트라이커즈  대아타리 테트리스 대그레이트 비시바시 챔프 대히든캐치  대 고장뽑기 제주 원 게임장편집보유 했던 게임펌프 잇 업  유비트 코피어스 대철권  테크니카한때 제주도에서 유일하게 유비트 로컬 매칭이 가능하던 오락실이라 만족스럽지 않은 패널상태에도 불구하고 리듬게이머들의 성지였던 곳이다 그러나 심각한 경영난으로 폐업을 했고 카페로 바뀌었다 제주 탑동 게임랜드편집주소 제주특별자치도 제주시 건입동  네이버 거리뷰위치 탑동 놀이공원 근처 맥도날드 건물에 위치제주월드탑동놀이공원 맥도날드 확장 리뉴얼 오픈으로 인해 폐업된 상태 제주 어게인 게임장편집주소 제주특별자치도 제주시 이도동 번지 네이버 거리뷰위치 제주시청쪽 버스정류장 근처 탐앤탐스 커피 바로 옆에 위치영업시간 시보유 했던 기기드럼매니아  스테이지  철권   조제주도에서 제일 오래된 오락실이었으나 년 월경 폐업했다 제주 유니코 키드랜드편집주소 제주특별자치도 제주시 탑동로  층보유 했던 기기건블레이드  대  기체데이토나  대  슈퍼바이크 대  기체코인 라이더 대페라리 포크레인 탱크미확인 대이마트 제주점 건물 상층부에 있던 유령상가였던 유니코 안에 있던 어린이를 타겟으로 한 오락실 퍼니랜드 대학로점편집주소 제주특별자치도 제주시 신성로길  층 위치 제주시청 맞은편 골목 안쪽대학로에 있다영업 시간 오후 시  새벽 시보유 했던 기기펌프 잇 업   대 원 크레딧  라이프  기체철권   대히든캐치  대렛츠 고 정글 대타임 크라이시스  대더 하우스 오브 더 데드  대더 비시바시 대철권 태그 토너먼트  언리미티드 대철권   대메탈슬러그  대 원 레벨메탈슬러그  대 원년 월 중순을 시작으로 기계수리 및 교체를 명목으로 휴업을 했다가 월경에 재오픈 했지만 년 월 일 기준 기계들을 전부 내놓고 돼지갈비 집으로 바꿨다      찜닭가게에 어울리는 에어간판        기본에어간판입체에어간판드루와 간판드루와동영상 눈에 띄는 홍보용 에어풍선간판 공장직거래 거품뺀 가격 인증  자동차외형복원은 병규외형복원         가성비 덴트 정확하고 신속한 만족도 높은 수리 덴트 판금도색 외형복원 전문점  광진구덴트 매직터치광진점         자동차 내외장 관리 전문점 보험수리전문 소중한 차량 처음 처럼 만들어 드립니다  지금도 계속 영업중 분식집이 있던 장소는 숙박업소로 바뀌었다 의 화면이 잘려 있어서 건콘 영점이 제대로 안 맞으며 는 왼쪽으로 갈수록 발사위치가 안 맞다 윈도우 상에 문제가 생겼는지 오류 안내가 뜬다\n"
     ]
    }
   ],
   "source": [
    "## 텍스트 데이터 전처리하기 ##\n",
    "# 텍스트 정제 함수: 한글 이외의 문자는 전부 제거\n",
    "def text_cleaning(text):\n",
    "    hangul = re.compile('[^ ㄱ-ㅣ가-힣]+') # 한글의 정규표현식\n",
    "    result = hangul.sub('', text)\n",
    "    return result\n",
    "\n",
    "print(text_cleaning(df['content_text'][0]))"
   ]
  },
  {
   "cell_type": "code",
   "execution_count": 6,
   "id": "4b52087b",
   "metadata": {},
   "outputs": [
    {
     "data": {
      "text/html": [
       "<div>\n",
       "<style scoped>\n",
       "    .dataframe tbody tr th:only-of-type {\n",
       "        vertical-align: middle;\n",
       "    }\n",
       "\n",
       "    .dataframe tbody tr th {\n",
       "        vertical-align: top;\n",
       "    }\n",
       "\n",
       "    .dataframe thead th {\n",
       "        text-align: right;\n",
       "    }\n",
       "</style>\n",
       "<table border=\"1\" class=\"dataframe\">\n",
       "  <thead>\n",
       "    <tr style=\"text-align: right;\">\n",
       "      <th></th>\n",
       "      <th>title</th>\n",
       "      <th>category</th>\n",
       "      <th>content_text</th>\n",
       "    </tr>\n",
       "  </thead>\n",
       "  <tbody>\n",
       "    <tr>\n",
       "      <th>0</th>\n",
       "      <td>오락실제주폐업</td>\n",
       "      <td>오락실없어진 존재</td>\n",
       "      <td>상위 문서 오락실제주폐업된 오락실의 위치정보서울경기인천강원대전세종충남충북부산울산...</td>\n",
       "    </tr>\n",
       "    <tr>\n",
       "      <th>1</th>\n",
       "      <td>코타키나발루</td>\n",
       "      <td>말레이시아의 도시코타키나발루휴양지</td>\n",
       "      <td>코타 키나발루 국가말레이시아지역사바면적인구 년 기준시장노르딘 시만시간대코타키나발루 ...</td>\n",
       "    </tr>\n",
       "    <tr>\n",
       "      <th>2</th>\n",
       "      <td>스모모모모모모 지상 최강의 신부</td>\n",
       "      <td>스모모모모모모 지상 최강의 신부일본 만화목록일본 애니메이션목록</td>\n",
       "      <td>은는 여기로 연결됩니다 개구리 중사 케로로의 등장인물에 대한 내용은 스모모 문서...</td>\n",
       "    </tr>\n",
       "    <tr>\n",
       "      <th>3</th>\n",
       "      <td>슈츠슈타펠</td>\n",
       "      <td>슈츠슈타펠</td>\n",
       "      <td>파시즘  펼치기  접기 이념파시즘  군국주의  국가주의  국수주의  전체주의  권위...</td>\n",
       "    </tr>\n",
       "    <tr>\n",
       "      <th>4</th>\n",
       "      <td>세르히오 라모스클럽 경력</td>\n",
       "      <td>축구선수커리어</td>\n",
       "      <td>상위 문서 세르히오 라모스  관련 문서 세르히오 라모스국가대표 경력      개...</td>\n",
       "    </tr>\n",
       "  </tbody>\n",
       "</table>\n",
       "</div>"
      ],
      "text/plain": [
       "                title                            category  \\\n",
       "0            오락실제주폐업                            오락실없어진 존재   \n",
       "1             코타키나발루                   말레이시아의 도시코타키나발루휴양지   \n",
       "2  스모모모모모모 지상 최강의 신부   스모모모모모모 지상 최강의 신부일본 만화목록일본 애니메이션목록   \n",
       "3              슈츠슈타펠                                슈츠슈타펠   \n",
       "4      세르히오 라모스클럽 경력                              축구선수커리어   \n",
       "\n",
       "                                        content_text  \n",
       "0    상위 문서 오락실제주폐업된 오락실의 위치정보서울경기인천강원대전세종충남충북부산울산...  \n",
       "1  코타 키나발루 국가말레이시아지역사바면적인구 년 기준시장노르딘 시만시간대코타키나발루 ...  \n",
       "2    은는 여기로 연결됩니다 개구리 중사 케로로의 등장인물에 대한 내용은 스모모 문서...  \n",
       "3  파시즘  펼치기  접기 이념파시즘  군국주의  국가주의  국수주의  전체주의  권위...  \n",
       "4    상위 문서 세르히오 라모스  관련 문서 세르히오 라모스국가대표 경력      개...  "
      ]
     },
     "execution_count": 6,
     "metadata": {},
     "output_type": "execute_result"
    }
   ],
   "source": [
    "## 모든 데이터에 전처리 적용하기 ##\n",
    "# 각 피처마다 데이터 전처리를 적용합니다\n",
    "df['title'] = df['title'].apply(lambda x: text_cleaning(x))\n",
    "df['category'] = df['category'].apply(lambda x: text_cleaning(x))\n",
    "df['content_text'] = df['content_text'].apply(lambda x: text_cleaning(x))\n",
    "df.head(5)"
   ]
  },
  {
   "cell_type": "markdown",
   "id": "2bded593",
   "metadata": {},
   "source": [
    "다음 과정은 키워드를 추출한 뒤, 빈도 분석을 수행한다.  \n",
    "키워드 추출이란 좁은 의미에서는 명사, 혹은 형태소 단위의 문자열을 추출하는 것이다.  \n",
    "이를 수행하기 위해 말뭉치라는 것을 만들어야 한다.  \n",
    "말뭉치는 말 그대로 텍스트 데이터의 뭉텅이를 의미한다.  \n",
    "이번 예제에서는 제목 말뭉치, 카테고리 말뭉치, 본문 말뭉치 총 3개의 말뭉치를 생성한다."
   ]
  },
  {
   "cell_type": "code",
   "execution_count": 7,
   "id": "6b42f869",
   "metadata": {},
   "outputs": [
    {
     "name": "stdout",
     "output_type": "stream",
     "text": [
      "오락실제주폐업 코타키나발루 스모모모모모모 지상 최강의 신부 슈츠슈타펠 세르히오 라모스클럽 경력 \n"
     ]
    }
   ],
   "source": [
    "## 각 피처마다 말뭉치 만들기 ##\n",
    "title_corpus = \"\".join(df['title'].tolist())\n",
    "category_corpus = \"\".join(df['category'].tolist())\n",
    "content_corpus = \"\".join(df['content_text'].tolist())\n",
    "print(title_corpus)\n",
    "\n",
    "# join 함수는 매개변수 요소 하나하나를 합쳐서 하나의 문자열로 바꾸어 반환하는 함수\n",
    "# \"\".join(['a', 'b', 'c']) -> \"abc\" 문자열 반환\n",
    "# \"_\".join(['a', 'b', 'c']) -> \"a_b_c\" 문자열 반환 # \"구분자\".join(list)"
   ]
  },
  {
   "cell_type": "code",
   "execution_count": 8,
   "id": "997c2061",
   "metadata": {},
   "outputs": [
    {
     "data": {
      "text/plain": [
       "['오락실제주폐업 ', '코타키나발루 ', '스모모모모모모 지상 최강의 신부 ', '슈츠슈타펠 ', '세르히오 라모스클럽 경력 ']"
      ]
     },
     "execution_count": 8,
     "metadata": {},
     "output_type": "execute_result"
    }
   ],
   "source": [
    "# \"\".join() 인데 공백이 있는 이유\n",
    "df['title'].tolist() # 모든 요소 마지막에 공백이 있음 # 위에서 텍스트 전처리할 때 \"\\n\"을 \" \"로 바꾼 결과"
   ]
  },
  {
   "cell_type": "markdown",
   "id": "35679039",
   "metadata": {},
   "source": [
    "이제 각 말뭉치 안에서 등장하는 형태소를 추출한다.  \n",
    "파이썬의 한국어 형태소 추출 라이브러리 중 가장 쉽게 사용할 수 있는 konlpy를 사용한다."
   ]
  },
  {
   "cell_type": "code",
   "execution_count": 14,
   "id": "d4cc0d47",
   "metadata": {},
   "outputs": [
    {
     "data": {
      "text/plain": [
       "[('것', 110), ('독일', 110), ('이', 100), ('번', 94), ('문단', 92)]"
      ]
     },
     "execution_count": 14,
     "metadata": {},
     "output_type": "execute_result"
    }
   ],
   "source": [
    "## konlpy를 이용해 키워드 추출하기 ##\n",
    "from konlpy.tag import Okt\n",
    "from collections import Counter\n",
    "\n",
    "# konlpy의 형태소 분석기로 명사 단위의 키워드를 추출\n",
    "nouns_tagger = Okt()\n",
    "nouns = nouns_tagger.nouns(content_corpus)\n",
    "count = Counter(nouns)\n",
    "count.most_common(5)"
   ]
  },
  {
   "cell_type": "markdown",
   "id": "7e36a8f7",
   "metadata": {},
   "source": [
    "우선 한 글자 키워드를 제거한다. 특정한 의미를 가지는 한 글자 키워드는 따로 예외 처리를 해주는 것이 좋지만 본 예제에서는 그러한 과정을 생략한다.  "
   ]
  },
  {
   "cell_type": "code",
   "execution_count": 13,
   "id": "f2456619",
   "metadata": {},
   "outputs": [
    {
     "name": "stdout",
     "output_type": "stream",
     "text": [
      "[('독일', 110), ('문단', 92), ('친위대', 79), ('문서', 72), ('역사', 65)]\n"
     ]
    }
   ],
   "source": [
    "## 키워드 가다듬기: 한 글자 키워드 제거하기 ##\n",
    "remove_char_counter = Counter({x: count[x] for x in count if len(x) > 1}) # 길이가 2 이상인 단어만 추출\n",
    "print(remove_char_counter.most_common(5))"
   ]
  },
  {
   "cell_type": "markdown",
   "id": "a2807a19",
   "metadata": {},
   "source": [
    "이제 실질적인 의미가 없는 키워드를 처리한다.  \n",
    "'입니다', '그', '저' 와 같은 관사나 접속사 등은 실질적인 의미가 없으면서 동시에 의미적인 독립을 할 수 없는 품사이다.  \n",
    "이러한 키워드를 **불용어**라고 한다.\n",
    "텍스트 마이닝에서는 불용어를 분석 단계에서 제거하는 과정을 거친다.  \n",
    "이 단계에서 필요한 것이 **불용어 사전**이다.  \n",
    "아래의 stopwords가 한국어의 약식 불용어 사전 예시이다. 이 불용어 사전에는 '아', '휴' 처럼 키워드로서의 의미를 가지지 않는 형태소들이 포함되어 있다.  "
   ]
  },
  {
   "cell_type": "code",
   "execution_count": 15,
   "id": "59090d3c",
   "metadata": {},
   "outputs": [
    {
     "name": "stdout",
     "output_type": "stream",
     "text": [
      "['아', '휴', '아이구', '아이쿠', '아이고', '어', '나', '우리', '저희', '따라']\n"
     ]
    }
   ],
   "source": [
    "## 키워드 가다듬기: 불용어 사전 ##\n",
    "# 한국어 약식 불용어 사전 예시 파일. 출처: https://www.ranks.nl/stopwords/korean\n",
    "korean_stopwords_path = 'Desktop/python-data-analysis-master/data/korean_stopwords.txt'\n",
    "\n",
    "# 텍스트 파일 오픈\n",
    "with open(korean_stopwords_path, encoding='utf8') as f:\n",
    "    stopwords = f.readlines()\n",
    "stopwords = [x.strip() for x in stopwords] # 문자열 및 공백 제거. 선행과 후행 문자가 제거된 문자열을 반환\n",
    "print(stopwords[:10])"
   ]
  },
  {
   "cell_type": "markdown",
   "id": "fb5a9833",
   "metadata": {},
   "source": [
    "현재 분석 중인 데이터에서만 적용되는 불용어도 추가해주어야 한다.  \n",
    "'상위', '문서', '내용'과 같은 단어를 불용어 사전에 추가해보자.  \n",
    "이 단어들은 나무위키 문서 페이지에서 많이 사용하는 단어이지만 특별한 의미를 가지지 않는 키워드이다.  \n",
    "만약 이러한 불용어를 더 많이 추가한다면 키워드 분석의 질을 더욱 높일 수 있다."
   ]
  },
  {
   "cell_type": "code",
   "execution_count": 17,
   "id": "13a068d1",
   "metadata": {},
   "outputs": [
    {
     "name": "stdout",
     "output_type": "stream",
     "text": [
      "[('독일', 110), ('문단', 92), ('친위대', 79), ('역사', 65), ('국방군', 61)]\n"
     ]
    }
   ],
   "source": [
    "## 키워드 가다듬기: 불용어 제거하기 ##\n",
    "# 나무위키 페이지에 적용이 필요한 불용어 추가\n",
    "namu_wiki_stopwords = ['상위', '문서', '내용', '누설', '아래', '해당', '설명', '표기', '추가', '모든', '사용',\n",
    "                      '매우', '가장', '줄거리', '요소', '상황', '편집', '틀', '경우', '때문', '모습', '정도',\n",
    "                       '이후', '사실', '생각', '인물', '이름', '년월']\n",
    "\n",
    "for stopword in namu_wiki_stopwords:\n",
    "    stopwords.append(stopword)\n",
    "\n",
    "# 키워드 데이터에서 불용어 제거\n",
    "remove_char_counter = Counter({x: remove_char_counter[x] for x in count if x not in stopwords}) \n",
    "# stoprwords에 포함 안 되는 단어만 추출\n",
    "\n",
    "print(remove_char_counter.most_common(5))"
   ]
  },
  {
   "cell_type": "markdown",
   "id": "ccf13c4e",
   "metadata": {},
   "source": [
    "##  2.3 시각화: 워드 클라우드 시각화하기"
   ]
  },
  {
   "cell_type": "markdown",
   "id": "6f9bb3a9",
   "metadata": {},
   "source": [
    "키워드 빈도 분석에 가장 적합한 시각화 방식은 **워드 클라우드** 기법이다.  \n",
    "파이썬에서는 여러 가지 워드 클라우드 패키지를 제공하는데 그 중에서 가장 널리 사용되는 **pytagcloud**를 사용해보자.  "
   ]
  },
  {
   "cell_type": "markdown",
   "id": "59383559",
   "metadata": {},
   "source": [
    "[1] pytagcloud 패키지 설치  \n",
    "pip install pytagcloud pygame simplejson\n",
    "\n",
    "[2] 한글 폰트 다운받기  \n",
    "https://hangeul.naver.com/webfont/NanumGothic/NanumGothic.ttf\n",
    "\n",
    "[3] pytagcloud 패키지 경로에 한글 폰트 복사하기\n",
    "다운로드한 폰트를 아나콘다의 가상환경 라이브러리 패키지 경로에 복사한다.  \n",
    "경로: /Users/hyegwan/opt/anaconda3/envs/pybook/lib/python3.8/site-packages/pytagcloud/fonts \n",
    "\n",
    "[4] 현재 폴더에 있는 fonts.json 파일을 아래와 같이 수정하기  \n",
    "\n",
    "[{  \n",
    "\n",
    "    \n",
    "        \"name\": \"NanumGothic\",\n",
    "        \"ttf\": \"NanumGothic.ttf\",\n",
    "        \"web\": \"http://fonts.googleapis.com/css?family=Nanum+Gothic\"\n",
    "\n",
    "}]"
   ]
  },
  {
   "cell_type": "code",
   "execution_count": 18,
   "id": "2ca0d7a9",
   "metadata": {},
   "outputs": [
    {
     "name": "stdout",
     "output_type": "stream",
     "text": [
      "pygame 2.1.2 (SDL 2.0.18, Python 3.8.16)\n",
      "Hello from the pygame community. https://www.pygame.org/contribute.html\n"
     ]
    },
    {
     "data": {
      "image/jpeg": "[encoded data removed]",
      "text/plain": [
       "<IPython.core.display.Image object>"
      ]
     },
     "execution_count": 18,
     "metadata": {},
     "output_type": "execute_result"
    }
   ],
   "source": [
    "## pytagcloud 사용하기 ##\n",
    "import random\n",
    "import pytagcloud\n",
    "import webbrowser\n",
    "\n",
    "# 가장 출현 빈도수가 높은 40개의 단어 선정\n",
    "ranked_tags = remove_char_counter.most_common(40)\n",
    "\n",
    "# pytagcloud로 출력할 40개의 단어를 입력. 단어 출력의 최대 크기는 80으로 제한\n",
    "taglist = pytagcloud.make_tags(ranked_tags, maxsize=80)\n",
    "\n",
    "# pytagcloud 이미지 생성. 폰트는 나눔 고딕\n",
    "pytagcloud.create_tag_image(taglist, 'wordcloud.jpg', \n",
    "                            size=(900, 600), \n",
    "                            fontname='NanumGothic', \n",
    "                            rectangular=False) # 워드클라우드를 사각형으로 할 건지, 원형으로 출력할 건지 명시\n",
    "\n",
    "# 생성한 이미지를 주피터 노트북상에서 출력\n",
    "from IPython.display import Image\n",
    "Image(filename='wordcloud.jpg')"
   ]
  },
  {
   "cell_type": "markdown",
   "id": "722c483e",
   "metadata": {},
   "source": [
    "**정리**  \n",
    "- 정규표현식을 활용한 텍스트 전처리  \n",
    "    텍스트 분석 방향에 맞는 문자를 선별하는 방법이다. 예제에서는 한글을 추출하기 위한 정규표현식을 적용하였다.\n",
    "\n",
    "- 형태소 분석기를 활용한 키워드 추출  \n",
    "    konlpy 등의 형태소 분석기를 통해 데이터에서 키워드를 추출할 수 있다.  \n",
    "    \n",
    "- 불용어 사전 적용  \n",
    "    많이 등장하지만 실질적인 의미를 갖지 못하는 형태소를 '불용어'라고 정의하고, 이를 데이터에서 제거한다.  "
   ]
  },
  {
   "cell_type": "markdown",
   "id": "66506c4d",
   "metadata": {},
   "source": [
    "# 3. 특정 키워드가 있는 게시물 크롤링을 위해 트위터 API 사용하기 "
   ]
  },
  {
   "cell_type": "markdown",
   "id": "eb87a07f",
   "metadata": {},
   "source": [
    "이번에는 SNS 데이터의 연관 키워드를 분석해보자.  \n",
    "예제에서는 가장 기본적인 관계 분석 방법인 **연관 규칙(Association Rule)** 을 활용하여 키워드 간의 관계를 분석한다.  \n",
    "그리고 이를 네트워크 그래프로 시각화하는 과정까지 학습한다.  "
   ]
  },
  {
   "cell_type": "markdown",
   "id": "7b96ad50",
   "metadata": {},
   "source": [
    "[1] 트위터 API 등록 - 메모장에서 토큰 메모 참고\n",
    "\n",
    "[2] 파이썬 API 설정  \n",
    "tweepy 라이브러리 설치 - pip install tweepy"
   ]
  },
  {
   "cell_type": "code",
   "execution_count": 19,
   "id": "b1353fc9",
   "metadata": {},
   "outputs": [
    {
     "name": "stdout",
     "output_type": "stream",
     "text": [
      "[{'screen_name': 'Son7_THA', 'name': 'SonheungminFCThai 🇹🇭🇰🇷 (AsiaFan)', 'id': 1530985172258390018, 'id_str': '1530985172258390018', 'indices': [3, 12]}]\n",
      "[{'text': 'HMSJ07', 'indices': [77, 84]}, {'text': 'HMFCT07', 'indices': [85, 93]}, {'text': 'SON7', 'indices': [94, 99]}, {'text': 'loveSS', 'indices': [100, 107]}, {'text': 'COYS', 'indices': [108, 113]}, {'text': 'THFC', 'indices': [114, 119]}, {'text': 'Sonny', 'indices': [120, 126]}]\n",
      "RT @Son7_THA: 🎧Cause I know what you like boy\n",
      "You’re my chemical hype boy 🎧\n",
      "\n",
      "#HMSJ07​#HMFCT07​#SON7​#loveSS​#COYS​#THFC​#Sonny​#sonheungmin…\n",
      "[{'screen_name': 'shmpics', 'name': 'ؘ', 'id': 1528688142798442497, 'id_str': '1528688142798442497', 'indices': [3, 11]}]\n",
      "[{'text': 'Sonny', 'indices': [50, 56]}, {'text': '손흥민', 'indices': [60, 64]}, {'text': 'SonHeungMin', 'indices': [65, 77]}]\n",
      "RT @shmpics: Pape Matar Sarr’s TikTok update with #Sonny! \n",
      "\n",
      "#손흥민 #SonHeungMin https://t.co/OnRrgF6g5V\n",
      "[{'screen_name': 'MbG6OULFha21BQr', 'name': '손흥민 결혼반대😠', 'id': 1307495663958073345, 'id_str': '1307495663958073345', 'indices': [3, 19]}]\n",
      "[]\n",
      "RT @MbG6OULFha21BQr: 악🤣 손흥민ㅋㅋ\n",
      "현실말투ㅋㅋ\n",
      "내 친구인줄ㅋㅋㅋ https://t.co/3NFwVeRtiz\n"
     ]
    }
   ],
   "source": [
    "## 파이썬 API 사용하기 ##\n",
    "import tweepy\n",
    "\n",
    "# 발급 완료된 KEY를 입력\n",
    "CONSUMER_KEY = \"\"\n",
    "CONSUMER_SECRET = \"\" \n",
    "ACCESS_TOKEN_KEY = \"\"\n",
    "ACCESS_TOKEN_SECRET = \"\" # 셀이 돌아간 후 삭제\n",
    "\n",
    "# 개인정보 인증을 요청하는 Handler\n",
    "auth = tweepy.OAuthHandler(CONSUMER_KEY, CONSUMER_SECRET)\n",
    "\n",
    "# 인증 요청 수행\n",
    "auth.set_access_token(ACCESS_TOKEN_KEY, ACCESS_TOKEN_SECRET)\n",
    "\n",
    "# twitter API를 사용하기 위한 준비\n",
    "api = tweepy.API(auth)\n",
    "\n",
    "# twitter API를 사용하여 '손흥민'이 포함된 트윗들을 크롤링한 뒤, entities에서 'user_mentions', 'hashtags'를 추출한다\n",
    "keyword = \"손흥민\"\n",
    "tweets = api.search_tweets(keyword)\n",
    "for tweet in tweets[:3]: # 예시로 3개만 크롤링\n",
    "    print(tweet.entities['user_mentions'])\n",
    "    print(tweet.entities['hashtags'])\n",
    "    print(tweet.text)"
   ]
  },
  {
   "cell_type": "markdown",
   "id": "d700b596",
   "metadata": {},
   "source": [
    "# 4. 트위터 API로 '손흥민'과 연관된 키워드 분석하기 "
   ]
  },
  {
   "cell_type": "markdown",
   "id": "b099c49a",
   "metadata": {},
   "source": [
    "이번 예제에서 사용할 **연관 분석** 이란 **데이터의 집합으로부터 특별한 규칙을 찾아내는 분석 방법** 이다.  \n",
    "\n",
    "ex.) 기저귀를 구매하는 사람들은 휴지도 함께 구매한다  \n",
    "조건절 A: 기저귀를 구매한다\n",
    "결과절 B: 휴지를 구매한다 \n",
    "\n",
    "이러한 규칙을 평가할 수 있는 지표로는 **지지도(support)와 신뢰도(confidence), 그리고 향상도(lift)** 와 같은 지표들이 있다."
   ]
  },
  {
   "cell_type": "markdown",
   "id": "0290ab45",
   "metadata": {},
   "source": [
    "평가지표 \n",
    "\n",
    "[1] 지지도 support  \n",
    "- (A의 지지도) support A = P(A)\n",
    "- (규칙에 대한 지지도) support A -> B = P(A교B)  \n",
    "\n",
    "[2] 신뢰도 confidence  \n",
    "- confidence A -> B = P(B|A) = P(A교B) / P(A)\n",
    "\n",
    "[3] 향상도 lift\n",
    "- lift A -> B = P(B|A)/P(B) = P(A교B) / (P(A) * P(B))\n",
    "- 일반적으로 향상도는 1보다 큰 것이 좋다."
   ]
  },
  {
   "cell_type": "markdown",
   "id": "f1cb9b86",
   "metadata": {},
   "source": [
    "## 4.1 API 호출: 트위터 API로 데이터 가져오기 "
   ]
  },
  {
   "cell_type": "markdown",
   "id": "03b40a68",
   "metadata": {},
   "source": [
    "'손흥민'이라는 키워드를 포함한 트윗 데이터를 수집해보자.  \n",
    "먼저, 크롤링된 메타데이터에서 텍스트 데이터만을 수집한다.  \n",
    "아래처럼 Cursor 객체를 이용하면 1000개의 트윗 데이터를 수집할 수 있다."
   ]
  },
  {
   "cell_type": "code",
   "execution_count": 23,
   "id": "1f2086fa",
   "metadata": {},
   "outputs": [
    {
     "data": {
      "text/html": [
       "<div>\n",
       "<style scoped>\n",
       "    .dataframe tbody tr th:only-of-type {\n",
       "        vertical-align: middle;\n",
       "    }\n",
       "\n",
       "    .dataframe tbody tr th {\n",
       "        vertical-align: top;\n",
       "    }\n",
       "\n",
       "    .dataframe thead th {\n",
       "        text-align: right;\n",
       "    }\n",
       "</style>\n",
       "<table border=\"1\" class=\"dataframe\">\n",
       "  <thead>\n",
       "    <tr style=\"text-align: right;\">\n",
       "      <th></th>\n",
       "      <th>created</th>\n",
       "      <th>tweet_text</th>\n",
       "    </tr>\n",
       "  </thead>\n",
       "  <tbody>\n",
       "    <tr>\n",
       "      <th>0</th>\n",
       "      <td>Thu Feb 09 03:32:44 +0000 2023</td>\n",
       "      <td>RT @MbG6OULFha21BQr: 악🤣 손흥민ㅋㅋ\\n현실말투ㅋㅋ\\n내 친구인줄ㅋ...</td>\n",
       "    </tr>\n",
       "    <tr>\n",
       "      <th>1</th>\n",
       "      <td>Thu Feb 09 03:32:38 +0000 2023</td>\n",
       "      <td>RT @shmlswpshos: 손흥민은 써서 음료수 까지 먹고 있는데 이강인은 미각...</td>\n",
       "    </tr>\n",
       "    <tr>\n",
       "      <th>2</th>\n",
       "      <td>Thu Feb 09 03:26:46 +0000 2023</td>\n",
       "      <td>RT @Son7_THA: 🎧Cause I know what you like boy\\...</td>\n",
       "    </tr>\n",
       "    <tr>\n",
       "      <th>3</th>\n",
       "      <td>Thu Feb 09 03:25:59 +0000 2023</td>\n",
       "      <td>RT @shmpics: Pape Matar Sarr’s TikTok update w...</td>\n",
       "    </tr>\n",
       "    <tr>\n",
       "      <th>4</th>\n",
       "      <td>Thu Feb 09 03:25:37 +0000 2023</td>\n",
       "      <td>RT @MbG6OULFha21BQr: 악🤣 손흥민ㅋㅋ\\n현실말투ㅋㅋ\\n내 친구인줄ㅋ...</td>\n",
       "    </tr>\n",
       "  </tbody>\n",
       "</table>\n",
       "</div>"
      ],
      "text/plain": [
       "                          created  \\\n",
       "0  Thu Feb 09 03:32:44 +0000 2023   \n",
       "1  Thu Feb 09 03:32:38 +0000 2023   \n",
       "2  Thu Feb 09 03:26:46 +0000 2023   \n",
       "3  Thu Feb 09 03:25:59 +0000 2023   \n",
       "4  Thu Feb 09 03:25:37 +0000 2023   \n",
       "\n",
       "                                          tweet_text  \n",
       "0  RT @MbG6OULFha21BQr: 악🤣 손흥민ㅋㅋ\\n현실말투ㅋㅋ\\n내 친구인줄ㅋ...  \n",
       "1  RT @shmlswpshos: 손흥민은 써서 음료수 까지 먹고 있는데 이강인은 미각...  \n",
       "2  RT @Son7_THA: 🎧Cause I know what you like boy\\...  \n",
       "3  RT @shmpics: Pape Matar Sarr’s TikTok update w...  \n",
       "4  RT @MbG6OULFha21BQr: 악🤣 손흥민ㅋㅋ\\n현실말투ㅋㅋ\\n내 친구인줄ㅋ...  "
      ]
     },
     "execution_count": 23,
     "metadata": {},
     "output_type": "execute_result"
    }
   ],
   "source": [
    "## API 데이터로 데이터 프레임 생성하기 ##\n",
    "import pandas as pd\n",
    "import numpy as np\n",
    "import matplotlib.pyplot as plt\n",
    "import tweepy\n",
    "\n",
    "# 발급 완료된 KEY를 입력\n",
    "CONSUMER_KEY = \"\"\n",
    "CONSUMER_SECRET = \"\" \n",
    "ACCESS_TOKEN_KEY = \"\"\n",
    "ACCESS_TOKEN_SECRET = \"\" # 셀이 돌아간 후 삭제\n",
    "\n",
    "# 개인정보 인증을 요청하는 Handler\n",
    "auth = tweepy.OAuthHandler(CONSUMER_KEY, CONSUMER_SECRET)\n",
    "\n",
    "# 인증 요청 수행\n",
    "auth.set_access_token(ACCESS_TOKEN_KEY, ACCESS_TOKEN_SECRET)\n",
    "\n",
    "# twitter API를 사용하기 위한 준비\n",
    "api = tweepy.API(auth)\n",
    "\n",
    "# 크롤링된 데이터를 저장할 데이터 프레임\n",
    "columns = ['created', 'tweet_text']\n",
    "df = pd.DataFrame(columns=columns)\n",
    "\n",
    "# 크롤링을 수행할 갯수를 입력하고, Cursor 객체를 사용하여 크롤링을 수행\n",
    "max_tweets = 1000\n",
    "keyword = \"손흥민\"\n",
    "searched_tweets = [status for status in tweepy.Cursor(api.search_tweets, q=keyword).items(max_tweets)]\n",
    "\n",
    "# '손흥민'이 포함된 1000개의 트윗들에서, 'text', 'created_at' 정보를 데이터 프레임으로 저장합니다. \n",
    "for tweet in searched_tweets:\n",
    "    tweet_json = tweet._json\n",
    "    tweet_text = tweet_json['text']\n",
    "    created = tweet_json['created_at']\n",
    "    row = [created, tweet_text]\n",
    "    # series = pd.Series(row, index=df.columns)\n",
    "    # df = df.append(series, ignore_index=True)\n",
    "    # The frame.append method is deprecated and will be removed from pandas in a future version. \n",
    "    # Use pandas.concat instead.\n",
    "    \n",
    "    # concat으로 dataframe 이랑 series를 합칠 수 없어서,, (같은 타입끼리만 되는듯?)\n",
    "    # 아니면 방법이 있는데 내가 몰라서 ㅋㅋ \n",
    "    # series 말고 dataframe 형식으로 새로 만들어서 붙이기\n",
    "    # 이때 df_append에 columns를 df와 똑같이 지정해줘야 원하는대로 기존 df 밑에 똑디 붙음\n",
    "    # columns 지정 안 하면 기존 df 옆에 붙어서 세로로 쌓인다. (기존 df의 값으로는 NaN이 채워진다)\n",
    "    df_append = pd.DataFrame([row], columns=columns)\n",
    "    df = pd.concat([df, df_append], axis=0, ignore_index=True)\n",
    "\n",
    "df.head() "
   ]
  },
  {
   "cell_type": "markdown",
   "id": "e4489aae",
   "metadata": {},
   "source": [
    "## 4.2 추출: 키워드 추출하기 "
   ]
  },
  {
   "cell_type": "markdown",
   "id": "42278ee1",
   "metadata": {},
   "source": [
    "한글 문자열을 기준으로 키워드 추출을 수행한다.  \n",
    "text_cleaning()함수로 데이터 프레임에 정규표현식을 적용한다.  "
   ]
  },
  {
   "cell_type": "code",
   "execution_count": 24,
   "id": "899c2b3a",
   "metadata": {},
   "outputs": [
    {
     "data": {
      "text/html": [
       "<div>\n",
       "<style scoped>\n",
       "    .dataframe tbody tr th:only-of-type {\n",
       "        vertical-align: middle;\n",
       "    }\n",
       "\n",
       "    .dataframe tbody tr th {\n",
       "        vertical-align: top;\n",
       "    }\n",
       "\n",
       "    .dataframe thead th {\n",
       "        text-align: right;\n",
       "    }\n",
       "</style>\n",
       "<table border=\"1\" class=\"dataframe\">\n",
       "  <thead>\n",
       "    <tr style=\"text-align: right;\">\n",
       "      <th></th>\n",
       "      <th>created</th>\n",
       "      <th>tweet_text</th>\n",
       "      <th>ko_text</th>\n",
       "    </tr>\n",
       "  </thead>\n",
       "  <tbody>\n",
       "    <tr>\n",
       "      <th>0</th>\n",
       "      <td>Thu Feb 09 03:32:44 +0000 2023</td>\n",
       "      <td>RT @MbG6OULFha21BQr: 악🤣 손흥민ㅋㅋ\\n현실말투ㅋㅋ\\n내 친구인줄ㅋ...</td>\n",
       "      <td>악 손흥민ㅋㅋ현실말투ㅋㅋ내 친구인줄ㅋㅋㅋ</td>\n",
       "    </tr>\n",
       "    <tr>\n",
       "      <th>1</th>\n",
       "      <td>Thu Feb 09 03:32:38 +0000 2023</td>\n",
       "      <td>RT @shmlswpshos: 손흥민은 써서 음료수 까지 먹고 있는데 이강인은 미각...</td>\n",
       "      <td>손흥민은 써서 음료수 까지 먹고 있는데 이강인은 미각도 강인한 남자인가봄</td>\n",
       "    </tr>\n",
       "    <tr>\n",
       "      <th>2</th>\n",
       "      <td>Thu Feb 09 03:26:46 +0000 2023</td>\n",
       "      <td>RT @Son7_THA: 🎧Cause I know what you like boy\\...</td>\n",
       "      <td></td>\n",
       "    </tr>\n",
       "    <tr>\n",
       "      <th>3</th>\n",
       "      <td>Thu Feb 09 03:25:59 +0000 2023</td>\n",
       "      <td>RT @shmpics: Pape Matar Sarr’s TikTok update w...</td>\n",
       "      <td>손흥민</td>\n",
       "    </tr>\n",
       "    <tr>\n",
       "      <th>4</th>\n",
       "      <td>Thu Feb 09 03:25:37 +0000 2023</td>\n",
       "      <td>RT @MbG6OULFha21BQr: 악🤣 손흥민ㅋㅋ\\n현실말투ㅋㅋ\\n내 친구인줄ㅋ...</td>\n",
       "      <td>악 손흥민ㅋㅋ현실말투ㅋㅋ내 친구인줄ㅋㅋㅋ</td>\n",
       "    </tr>\n",
       "  </tbody>\n",
       "</table>\n",
       "</div>"
      ],
      "text/plain": [
       "                          created  \\\n",
       "0  Thu Feb 09 03:32:44 +0000 2023   \n",
       "1  Thu Feb 09 03:32:38 +0000 2023   \n",
       "2  Thu Feb 09 03:26:46 +0000 2023   \n",
       "3  Thu Feb 09 03:25:59 +0000 2023   \n",
       "4  Thu Feb 09 03:25:37 +0000 2023   \n",
       "\n",
       "                                          tweet_text  \\\n",
       "0  RT @MbG6OULFha21BQr: 악🤣 손흥민ㅋㅋ\\n현실말투ㅋㅋ\\n내 친구인줄ㅋ...   \n",
       "1  RT @shmlswpshos: 손흥민은 써서 음료수 까지 먹고 있는데 이강인은 미각...   \n",
       "2  RT @Son7_THA: 🎧Cause I know what you like boy\\...   \n",
       "3  RT @shmpics: Pape Matar Sarr’s TikTok update w...   \n",
       "4  RT @MbG6OULFha21BQr: 악🤣 손흥민ㅋㅋ\\n현실말투ㅋㅋ\\n내 친구인줄ㅋ...   \n",
       "\n",
       "                                       ko_text  \n",
       "0                      악 손흥민ㅋㅋ현실말투ㅋㅋ내 친구인줄ㅋㅋㅋ   \n",
       "1    손흥민은 써서 음료수 까지 먹고 있는데 이강인은 미각도 강인한 남자인가봄   \n",
       "2                                               \n",
       "3                                        손흥민    \n",
       "4                      악 손흥민ㅋㅋ현실말투ㅋㅋ내 친구인줄ㅋㅋㅋ   "
      ]
     },
     "execution_count": 24,
     "metadata": {},
     "output_type": "execute_result"
    }
   ],
   "source": [
    "## 텍스트 데이터 전처리 하기 ##\n",
    "import re\n",
    "\n",
    "# 텍스트 정제 함수: 한글 이외의 문자는 전부 제거\n",
    "def text_cleaning(text):\n",
    "    hangul = re.compile('[^ ㄱ-ㅣ가-힣]+') # 한글의 정규표현식\n",
    "    # result = hangul.sub('', text) # substitute \n",
    "    result = re.sub(hangul, '', text) # re.sub（정규 표현식, 치환 문자, 대상 문자열）\n",
    "    return result\n",
    "\n",
    "# 'tweet_text' 피처에 이를 적용\n",
    "df['ko_text'] = df['tweet_text'].apply(lambda x: text_cleaning(x))\n",
    "df.head()"
   ]
  },
  {
   "cell_type": "markdown",
   "id": "4f27730d",
   "metadata": {},
   "source": [
    "이번에는 형태소 데이터를 연관 분석에 용이한 데이터 형태로 만들기 위해  \n",
    "말뭉치를 만들지 않고 **하나의 열 데이터 단위**로 키워드를 추출한다.  \n",
    "이 과정에서는 Okt 클래스의 nouns를 사용하여 명사 단위의 키워드를 추출한다."
   ]
  },
  {
   "cell_type": "code",
   "execution_count": 25,
   "id": "586a9465",
   "metadata": {},
   "outputs": [],
   "source": [
    "## konlpy를 이용한 키워드 추출하기 ##\n",
    "# 한국어 약식 불용어 사전 예시 파일. 출처: https://www.ranks.nl/stopwords/korean\n",
    "korean_stopwords_path = 'Desktop/python-data-analysis-master/data/korean_stopwords.txt'\n",
    "\n",
    "with open(korean_stopwords_path, encoding='utf8') as f:\n",
    "    stopwords = f.readlines() \n",
    "    # 개행 문자(\\n)를 기준으로 모든 줄을 읽어서 한 라인씩 리스트로 값을 반환 (각 라인이 리스트의 각 요소가 된다)\n",
    "    # f.readline()과 다름 유의! readline은 리스트로 반환하지 않고 한 줄씩 읽는데에 그친다.\n",
    "\n",
    "stopwords1= [x.strip() for x in stopwords] # 문자열 앞뒤의 공백 또는 특별한 문자 삭제\n",
    "# 여기서 개행문자가 삭제 된다."
   ]
  },
  {
   "cell_type": "code",
   "execution_count": 26,
   "id": "cb84fa1f",
   "metadata": {},
   "outputs": [
    {
     "name": "stdout",
     "output_type": "stream",
     "text": [
      "['아\\n', '휴\\n', '아이구\\n']\n",
      "['아', '휴', '아이구']\n"
     ]
    }
   ],
   "source": [
    "print(stopwords[:3])\n",
    "print(stopwords1[:3])"
   ]
  },
  {
   "cell_type": "code",
   "execution_count": 27,
   "id": "b50ebf38",
   "metadata": {},
   "outputs": [
    {
     "data": {
      "text/html": [
       "<div>\n",
       "<style scoped>\n",
       "    .dataframe tbody tr th:only-of-type {\n",
       "        vertical-align: middle;\n",
       "    }\n",
       "\n",
       "    .dataframe tbody tr th {\n",
       "        vertical-align: top;\n",
       "    }\n",
       "\n",
       "    .dataframe thead th {\n",
       "        text-align: right;\n",
       "    }\n",
       "</style>\n",
       "<table border=\"1\" class=\"dataframe\">\n",
       "  <thead>\n",
       "    <tr style=\"text-align: right;\">\n",
       "      <th></th>\n",
       "      <th>created</th>\n",
       "      <th>tweet_text</th>\n",
       "      <th>ko_text</th>\n",
       "      <th>nouns</th>\n",
       "    </tr>\n",
       "  </thead>\n",
       "  <tbody>\n",
       "    <tr>\n",
       "      <th>0</th>\n",
       "      <td>Thu Feb 09 03:32:44 +0000 2023</td>\n",
       "      <td>RT @MbG6OULFha21BQr: 악🤣 손흥민ㅋㅋ\\n현실말투ㅋㅋ\\n내 친구인줄ㅋ...</td>\n",
       "      <td>악 손흥민ㅋㅋ현실말투ㅋㅋ내 친구인줄ㅋㅋㅋ</td>\n",
       "      <td>[손흥민, 현실, 말투, 친구]</td>\n",
       "    </tr>\n",
       "    <tr>\n",
       "      <th>1</th>\n",
       "      <td>Thu Feb 09 03:32:38 +0000 2023</td>\n",
       "      <td>RT @shmlswpshos: 손흥민은 써서 음료수 까지 먹고 있는데 이강인은 미각...</td>\n",
       "      <td>손흥민은 써서 음료수 까지 먹고 있는데 이강인은 미각도 강인한 남자인가봄</td>\n",
       "      <td>[손흥민, 음료수, 이강인, 미각, 남자]</td>\n",
       "    </tr>\n",
       "    <tr>\n",
       "      <th>2</th>\n",
       "      <td>Thu Feb 09 03:26:46 +0000 2023</td>\n",
       "      <td>RT @Son7_THA: 🎧Cause I know what you like boy\\...</td>\n",
       "      <td></td>\n",
       "      <td>[]</td>\n",
       "    </tr>\n",
       "    <tr>\n",
       "      <th>3</th>\n",
       "      <td>Thu Feb 09 03:25:59 +0000 2023</td>\n",
       "      <td>RT @shmpics: Pape Matar Sarr’s TikTok update w...</td>\n",
       "      <td>손흥민</td>\n",
       "      <td>[손흥민]</td>\n",
       "    </tr>\n",
       "    <tr>\n",
       "      <th>4</th>\n",
       "      <td>Thu Feb 09 03:25:37 +0000 2023</td>\n",
       "      <td>RT @MbG6OULFha21BQr: 악🤣 손흥민ㅋㅋ\\n현실말투ㅋㅋ\\n내 친구인줄ㅋ...</td>\n",
       "      <td>악 손흥민ㅋㅋ현실말투ㅋㅋ내 친구인줄ㅋㅋㅋ</td>\n",
       "      <td>[손흥민, 현실, 말투, 친구]</td>\n",
       "    </tr>\n",
       "  </tbody>\n",
       "</table>\n",
       "</div>"
      ],
      "text/plain": [
       "                          created  \\\n",
       "0  Thu Feb 09 03:32:44 +0000 2023   \n",
       "1  Thu Feb 09 03:32:38 +0000 2023   \n",
       "2  Thu Feb 09 03:26:46 +0000 2023   \n",
       "3  Thu Feb 09 03:25:59 +0000 2023   \n",
       "4  Thu Feb 09 03:25:37 +0000 2023   \n",
       "\n",
       "                                          tweet_text  \\\n",
       "0  RT @MbG6OULFha21BQr: 악🤣 손흥민ㅋㅋ\\n현실말투ㅋㅋ\\n내 친구인줄ㅋ...   \n",
       "1  RT @shmlswpshos: 손흥민은 써서 음료수 까지 먹고 있는데 이강인은 미각...   \n",
       "2  RT @Son7_THA: 🎧Cause I know what you like boy\\...   \n",
       "3  RT @shmpics: Pape Matar Sarr’s TikTok update w...   \n",
       "4  RT @MbG6OULFha21BQr: 악🤣 손흥민ㅋㅋ\\n현실말투ㅋㅋ\\n내 친구인줄ㅋ...   \n",
       "\n",
       "                                       ko_text                    nouns  \n",
       "0                      악 손흥민ㅋㅋ현실말투ㅋㅋ내 친구인줄ㅋㅋㅋ         [손흥민, 현실, 말투, 친구]  \n",
       "1    손흥민은 써서 음료수 까지 먹고 있는데 이강인은 미각도 강인한 남자인가봄   [손흥민, 음료수, 이강인, 미각, 남자]  \n",
       "2                                                                    []  \n",
       "3                                        손흥민                      [손흥민]  \n",
       "4                      악 손흥민ㅋㅋ현실말투ㅋㅋ내 친구인줄ㅋㅋㅋ         [손흥민, 현실, 말투, 친구]  "
      ]
     },
     "execution_count": 27,
     "metadata": {},
     "output_type": "execute_result"
    }
   ],
   "source": [
    "from konlpy.tag import Okt\n",
    "from collections import Counter\n",
    "\n",
    "def get_nouns(x):\n",
    "    nouns_tagger = Okt()\n",
    "    nouns = nouns_tagger.nouns(x) # Okt 클래스의 nouns를 사용하여 명사 단위의 키워드 추출\n",
    "    \n",
    "    # 한 글자 키워드 제거\n",
    "    nouns = [noun for noun in nouns if len(noun) > 1]\n",
    "    \n",
    "    # 불용어 제거\n",
    "    nouns = [noun for noun in nouns if noun not in stopwords]\n",
    "    \n",
    "    return nouns\n",
    "\n",
    "# 'ko_text' 피처에 get_nouns 함수 적용\n",
    "df['nouns'] = df['ko_text'].apply(lambda x: get_nouns(x))\n",
    "df.head()"
   ]
  },
  {
   "cell_type": "markdown",
   "id": "4924c5a9",
   "metadata": {},
   "source": [
    "##  4.3 분석: 연관 분석을 이용한 키워드 분석하기"
   ]
  },
  {
   "cell_type": "markdown",
   "id": "9a6182f0",
   "metadata": {},
   "source": [
    "apyori 라이브러리를 사용하면 df[nouns] 형태의 데이터에서 연관 규칙을 쉽게 실행할 수 있다.  \n",
    "- pip install apyori\n",
    "\n",
    "연관 규칙의 지지도, 신뢰도, 향상도, 나아가 규칙의 조건절과 결과절까지 확인할 수 있다."
   ]
  },
  {
   "cell_type": "markdown",
   "id": "4bc23b63",
   "metadata": {},
   "source": [
    "아래에서 사용된 apriori() 함수는 *Apriori 알고리즘*을 적용하여 연관 규칙을 계산하는 함수이다.  \n",
    "\n",
    "Apriori 알고리즘이란  \n",
    "데이터에서 생성될 수 있는 가능한 모든 연관 규칙 중에 빈발 집합(Frequent sets)만을 우선적으로 고려하여 규칙 생성의 과정을 간소화한 것이다.  \n",
    "일반적인 연관 분석은 데이터에서 생성될 수 있는 모든 규칙을 계산하기 때문에 Apriori와 같은 *빈도 제한 알고리즘*을 사용하는 것이 더욱 효율적이다.  \n",
    "\n",
    "Apriori는 초월 집합(Superset)이라는 개념을 도입하여 규칙의 형태를 제한한다.  \n",
    "만약 규칙 (A)의 지지도가 의미 있는 수준을 넘지 못한다면 초월 집합들((A,B), (A,B,C))의 지지도는 더욱 작을 것이다.  \n",
    "이 때문에 A의 초월 집합들은 굳이 계산할 필요가 없는 규칙들이 된다.  \n",
    "따라서 (A)의 초월집합들을 제한하면 일종의 가지치기처럼 규칙의 형태를 효율적으로 제한할 수 있다."
   ]
  },
  {
   "cell_type": "code",
   "execution_count": 30,
   "id": "94073495",
   "metadata": {},
   "outputs": [
    {
     "data": {
      "text/plain": [
       "[RelationRecord(items=frozenset({'손흥민'}), support=1.0, ordered_statistics=[OrderedStatistic(items_base=frozenset(), items_add=frozenset({'손흥민'}), confidence=1.0, lift=1.0)]),\n",
       " RelationRecord(items=frozenset({'시소코'}), support=0.3333333333333333, ordered_statistics=[OrderedStatistic(items_base=frozenset(), items_add=frozenset({'시소코'}), confidence=0.3333333333333333, lift=1.0)]),\n",
       " RelationRecord(items=frozenset({'케인'}), support=0.6666666666666666, ordered_statistics=[OrderedStatistic(items_base=frozenset(), items_add=frozenset({'케인'}), confidence=0.6666666666666666, lift=1.0)])]"
      ]
     },
     "execution_count": 30,
     "metadata": {},
     "output_type": "execute_result"
    }
   ],
   "source": [
    "## 파이썬에서 연관 분석 사용하기 ##\n",
    "from apyori import apriori\n",
    "\n",
    "# df[nouns] 형태의 데이터(트랜잭션 데이터)를 생성\n",
    "transactions = [\n",
    "    ['손흥민', '시소코'],\n",
    "    ['손흥민', '케인'],\n",
    "    ['손흥민', '케인', '포체티노']  \n",
    "]\n",
    "\n",
    "# 연관 분석 수행\n",
    "results = list(apriori(transactions))\n",
    "results[:3]"
   ]
  },
  {
   "cell_type": "code",
   "execution_count": 31,
   "id": "d850c25f",
   "metadata": {},
   "outputs": [
    {
     "data": {
      "text/plain": [
       "[RelationRecord(items=frozenset({'손흥민'}), support=1.0, ordered_statistics=[OrderedStatistic(items_base=frozenset(), items_add=frozenset({'손흥민'}), confidence=1.0, lift=1.0)]),\n",
       " RelationRecord(items=frozenset({'케인'}), support=0.6666666666666666, ordered_statistics=[OrderedStatistic(items_base=frozenset(), items_add=frozenset({'케인'}), confidence=0.6666666666666666, lift=1.0)]),\n",
       " RelationRecord(items=frozenset({'손흥민', '케인'}), support=0.6666666666666666, ordered_statistics=[OrderedStatistic(items_base=frozenset(), items_add=frozenset({'손흥민', '케인'}), confidence=0.6666666666666666, lift=1.0), OrderedStatistic(items_base=frozenset({'손흥민'}), items_add=frozenset({'케인'}), confidence=0.6666666666666666, lift=1.0), OrderedStatistic(items_base=frozenset({'케인'}), items_add=frozenset({'손흥민'}), confidence=1.0, lift=1.0)])]"
      ]
     },
     "execution_count": 31,
     "metadata": {},
     "output_type": "execute_result"
    }
   ],
   "source": [
    "# 지지도 0.5, 신뢰도 0.6, 향상도 1.0 이상이면서 \n",
    "# (손흥민, 케인)처럼 규칙의 크기가 2 이하인 규칙을 추출\n",
    "list(apriori(transactions, \n",
    "            min_support=0.5,\n",
    "            min_confidence=0.6,\n",
    "            min_lift=1.0,\n",
    "            max_length=2)\n",
    "    )"
   ]
  },
  {
   "cell_type": "markdown",
   "id": "c7ff509f",
   "metadata": {},
   "source": [
    "이제 연관 분석을 트위터 키워드에 적용하고 연관 규칙을 추출한다.  "
   ]
  },
  {
   "cell_type": "code",
   "execution_count": 33,
   "id": "eb4f1221",
   "metadata": {},
   "outputs": [
    {
     "name": "stdout",
     "output_type": "stream",
     "text": [
      "[['손흥민', '현실', '말투', '친구'], ['손흥민', '음료수', '이강인', '미각', '남자'], ['손흥민'], ['손흥민', '현실', '말투', '친구'], ['손흥민']]\n"
     ]
    }
   ],
   "source": [
    "## 트위터 연관 키워드 분석하기 ##\n",
    "# 트랜잭션 데이터를 추출\n",
    "transactions = df['nouns'].tolist()\n",
    "\n",
    "# 공백 문자열 방지\n",
    "transactions = [transaction for transaction in transactions if transaction]\n",
    "\n",
    "print(transactions[:5])"
   ]
  },
  {
   "cell_type": "code",
   "execution_count": 36,
   "id": "2214e5f5",
   "metadata": {},
   "outputs": [
    {
     "name": "stdout",
     "output_type": "stream",
     "text": [
      "[RelationRecord(items=frozenset({'얼굴', '레전드'}), support=0.054600606673407485, ordered_statistics=[OrderedStatistic(items_base=frozenset({'레전드'}), items_add=frozenset({'얼굴'}), confidence=0.9152542372881357, lift=15.880463871543268), OrderedStatistic(items_base=frozenset({'얼굴'}), items_add=frozenset({'레전드'}), confidence=0.9473684210526316, lift=15.880463871543267)]), RelationRecord(items=frozenset({'타임', '레전드'}), support=0.054600606673407485, ordered_statistics=[OrderedStatistic(items_base=frozenset({'레전드'}), items_add=frozenset({'타임'}), confidence=0.9152542372881357, lift=14.368038740920099), OrderedStatistic(items_base=frozenset({'타임'}), items_add=frozenset({'레전드'}), confidence=0.8571428571428572, lift=14.368038740920099)]), RelationRecord(items=frozenset({'맨시티', '이강인'}), support=0.1557128412537917, ordered_statistics=[OrderedStatistic(items_base=frozenset({'맨시티'}), items_add=frozenset({'이강인'}), confidence=0.9935483870967741, lift=5.5203334541500535), OrderedStatistic(items_base=frozenset({'이강인'}), items_add=frozenset({'맨시티'}), confidence=0.8651685393258427, lift=5.520333454150054)])]\n"
     ]
    }
   ],
   "source": [
    "# 연관 분석 수행 (파라미터 적용)\n",
    "results = list(apriori(transactions,\n",
    "                      min_support=0.05,\n",
    "                      min_confidnece=0.1,\n",
    "                      min_lift=5,\n",
    "                      max_length=2))\n",
    "print(results[:3])"
   ]
  },
  {
   "cell_type": "code",
   "execution_count": 37,
   "id": "b3a19f46",
   "metadata": {},
   "outputs": [
    {
     "data": {
      "text/html": [
       "<div>\n",
       "<style scoped>\n",
       "    .dataframe tbody tr th:only-of-type {\n",
       "        vertical-align: middle;\n",
       "    }\n",
       "\n",
       "    .dataframe tbody tr th {\n",
       "        vertical-align: top;\n",
       "    }\n",
       "\n",
       "    .dataframe thead th {\n",
       "        text-align: right;\n",
       "    }\n",
       "</style>\n",
       "<table border=\"1\" class=\"dataframe\">\n",
       "  <thead>\n",
       "    <tr style=\"text-align: right;\">\n",
       "      <th></th>\n",
       "      <th>source</th>\n",
       "      <th>target</th>\n",
       "      <th>support</th>\n",
       "    </tr>\n",
       "  </thead>\n",
       "  <tbody>\n",
       "    <tr>\n",
       "      <th>0</th>\n",
       "      <td>얼굴</td>\n",
       "      <td>레전드</td>\n",
       "      <td>0.054601</td>\n",
       "    </tr>\n",
       "    <tr>\n",
       "      <th>1</th>\n",
       "      <td>타임</td>\n",
       "      <td>레전드</td>\n",
       "      <td>0.054601</td>\n",
       "    </tr>\n",
       "    <tr>\n",
       "      <th>2</th>\n",
       "      <td>맨시티</td>\n",
       "      <td>이강인</td>\n",
       "      <td>0.155713</td>\n",
       "    </tr>\n",
       "    <tr>\n",
       "      <th>3</th>\n",
       "      <td>맨시티</td>\n",
       "      <td>이승기</td>\n",
       "      <td>0.155713</td>\n",
       "    </tr>\n",
       "    <tr>\n",
       "      <th>4</th>\n",
       "      <td>맨시티</td>\n",
       "      <td>튀르키예</td>\n",
       "      <td>0.155713</td>\n",
       "    </tr>\n",
       "  </tbody>\n",
       "</table>\n",
       "</div>"
      ],
      "text/plain": [
       "  source target   support\n",
       "0     얼굴    레전드  0.054601\n",
       "1     타임    레전드  0.054601\n",
       "2    맨시티    이강인  0.155713\n",
       "3    맨시티    이승기  0.155713\n",
       "4    맨시티   튀르키예  0.155713"
      ]
     },
     "execution_count": 37,
     "metadata": {},
     "output_type": "execute_result"
    }
   ],
   "source": [
    "# 위 결과를 데이터 프레임 형태로 정리\n",
    "columns = ['source', 'target', 'support'] # ['조건절', '결과절', '지지도']\n",
    "network_df = pd.DataFrame(columns=columns)\n",
    "\n",
    "for result in results:\n",
    "    if len(result.items) == 2:\n",
    "        items = [x for x in result.items]\n",
    "        row = [items[0], items[1], result.support]\n",
    "        df_new = pd.DataFrame([row], columns=columns) # [row], row 차이는 아래에 \n",
    "        network_df = pd.concat([network_df, df_new], axis=0, ignore_index=True)\n",
    "\n",
    "network_df.head()"
   ]
  },
  {
   "cell_type": "code",
   "execution_count": 38,
   "id": "2c617f12",
   "metadata": {},
   "outputs": [
    {
     "data": {
      "text/html": [
       "<div>\n",
       "<style scoped>\n",
       "    .dataframe tbody tr th:only-of-type {\n",
       "        vertical-align: middle;\n",
       "    }\n",
       "\n",
       "    .dataframe tbody tr th {\n",
       "        vertical-align: top;\n",
       "    }\n",
       "\n",
       "    .dataframe thead th {\n",
       "        text-align: right;\n",
       "    }\n",
       "</style>\n",
       "<table border=\"1\" class=\"dataframe\">\n",
       "  <thead>\n",
       "    <tr style=\"text-align: right;\">\n",
       "      <th></th>\n",
       "      <th>0</th>\n",
       "      <th>1</th>\n",
       "      <th>2</th>\n",
       "    </tr>\n",
       "  </thead>\n",
       "  <tbody>\n",
       "    <tr>\n",
       "      <th>0</th>\n",
       "      <td>튀르키예</td>\n",
       "      <td>이승기</td>\n",
       "      <td>0.158746</td>\n",
       "    </tr>\n",
       "  </tbody>\n",
       "</table>\n",
       "</div>"
      ],
      "text/plain": [
       "      0    1         2\n",
       "0  튀르키예  이승기  0.158746"
      ]
     },
     "execution_count": 38,
     "metadata": {},
     "output_type": "execute_result"
    }
   ],
   "source": [
    "# [row], row 차이\n",
    "df1 = pd.DataFrame([row])\n",
    "df1"
   ]
  },
  {
   "cell_type": "code",
   "execution_count": 39,
   "id": "8a01d005",
   "metadata": {},
   "outputs": [
    {
     "data": {
      "text/html": [
       "<div>\n",
       "<style scoped>\n",
       "    .dataframe tbody tr th:only-of-type {\n",
       "        vertical-align: middle;\n",
       "    }\n",
       "\n",
       "    .dataframe tbody tr th {\n",
       "        vertical-align: top;\n",
       "    }\n",
       "\n",
       "    .dataframe thead th {\n",
       "        text-align: right;\n",
       "    }\n",
       "</style>\n",
       "<table border=\"1\" class=\"dataframe\">\n",
       "  <thead>\n",
       "    <tr style=\"text-align: right;\">\n",
       "      <th></th>\n",
       "      <th>0</th>\n",
       "    </tr>\n",
       "  </thead>\n",
       "  <tbody>\n",
       "    <tr>\n",
       "      <th>0</th>\n",
       "      <td>튀르키예</td>\n",
       "    </tr>\n",
       "    <tr>\n",
       "      <th>1</th>\n",
       "      <td>이승기</td>\n",
       "    </tr>\n",
       "    <tr>\n",
       "      <th>2</th>\n",
       "      <td>0.158746</td>\n",
       "    </tr>\n",
       "  </tbody>\n",
       "</table>\n",
       "</div>"
      ],
      "text/plain": [
       "          0\n",
       "0      튀르키예\n",
       "1       이승기\n",
       "2  0.158746"
      ]
     },
     "execution_count": 39,
     "metadata": {},
     "output_type": "execute_result"
    }
   ],
   "source": [
    "df2 = pd.DataFrame(row)\n",
    "df2"
   ]
  },
  {
   "cell_type": "markdown",
   "id": "938b6e1c",
   "metadata": {},
   "source": [
    "이번에는 키워드 각각의 빈도를 계산하여 저장해보자."
   ]
  },
  {
   "cell_type": "code",
   "execution_count": 41,
   "id": "c77ea9d6",
   "metadata": {},
   "outputs": [
    {
     "data": {
      "text/html": [
       "<div>\n",
       "<style scoped>\n",
       "    .dataframe tbody tr th:only-of-type {\n",
       "        vertical-align: middle;\n",
       "    }\n",
       "\n",
       "    .dataframe tbody tr th {\n",
       "        vertical-align: top;\n",
       "    }\n",
       "\n",
       "    .dataframe thead th {\n",
       "        text-align: right;\n",
       "    }\n",
       "</style>\n",
       "<table border=\"1\" class=\"dataframe\">\n",
       "  <thead>\n",
       "    <tr style=\"text-align: right;\">\n",
       "      <th></th>\n",
       "      <th>node</th>\n",
       "      <th>nodesize</th>\n",
       "    </tr>\n",
       "  </thead>\n",
       "  <tbody>\n",
       "    <tr>\n",
       "      <th>0</th>\n",
       "      <td>손흥민</td>\n",
       "      <td>1079</td>\n",
       "    </tr>\n",
       "    <tr>\n",
       "      <th>5</th>\n",
       "      <td>이강인</td>\n",
       "      <td>180</td>\n",
       "    </tr>\n",
       "    <tr>\n",
       "      <th>12</th>\n",
       "      <td>타임</td>\n",
       "      <td>63</td>\n",
       "    </tr>\n",
       "    <tr>\n",
       "      <th>18</th>\n",
       "      <td>선수</td>\n",
       "      <td>97</td>\n",
       "    </tr>\n",
       "    <tr>\n",
       "      <th>34</th>\n",
       "      <td>최고</td>\n",
       "      <td>67</td>\n",
       "    </tr>\n",
       "  </tbody>\n",
       "</table>\n",
       "</div>"
      ],
      "text/plain": [
       "   node  nodesize\n",
       "0   손흥민      1079\n",
       "5   이강인       180\n",
       "12   타임        63\n",
       "18   선수        97\n",
       "34   최고        67"
      ]
     },
     "execution_count": 41,
     "metadata": {},
     "output_type": "execute_result"
    }
   ],
   "source": [
    "## 키워드 빈도 추출하기 ##\n",
    "# 말뭉치 추출\n",
    "tweet_corpus = \"\".join(df['ko_text'].tolist())\n",
    "\n",
    "from konlpy.tag import Okt\n",
    "from collections import Counter\n",
    "\n",
    "# 명사 키워드 추출\n",
    "nouns_tagger = Okt()\n",
    "nouns = nouns_tagger.nouns(tweet_corpus)\n",
    "count = Counter(nouns)\n",
    "\n",
    "# 한 글자 키워드 제거\n",
    "remove_char_counter = Counter({x: count[x] for x in count if len(x) > 1}) # 딕셔너리\n",
    "\n",
    "# 키워드와 키워드 빈도 점수를 'node', 'nodesize'라는 데이터 프레임 피처로 생성\n",
    "node_df = pd.DataFrame(remove_char_counter.items(), columns=['node', 'nodesize'])\n",
    "# 시각화의 편의를 위해 'nodesize' 50 이하는 제거\n",
    "node_df = node_df[node_df['nodesize'] >= 50]\n",
    "\n",
    "node_df.head() "
   ]
  },
  {
   "cell_type": "markdown",
   "id": "886647bb",
   "metadata": {},
   "source": [
    "## 4.4 시각화: 연관 키워드 네트워크 시각화하기"
   ]
  },
  {
   "cell_type": "markdown",
   "id": "31e9b4d2",
   "metadata": {},
   "source": [
    "networkx라이브러리를 사용하여 (network_df, node_df) 2개의 데이터 프레임으로 네트워크 시각화를 수행한다.  \n",
    "- pip install networkx"
   ]
  },
  {
   "cell_type": "code",
   "execution_count": 42,
   "id": "97aaa77d",
   "metadata": {},
   "outputs": [
    {
     "data": {
      "image/png": "[encoded data removed]",
      "text/plain": [
       "<Figure size 2500x2500 with 1 Axes>"
      ]
     },
     "metadata": {},
     "output_type": "display_data"
    }
   ],
   "source": [
    "## 연관 키워드 네트워크 시각화하기 ##\n",
    "import networkx as nx\n",
    "\n",
    "plt.figure(figsize=(25, 25)) # plot figure 생성\n",
    "\n",
    "# networkx 그래프 객체 생성\n",
    "G = nx.Graph()\n",
    "\n",
    "# node_df의 키워드 빈도수를 데이터로 하여 네트워크 그래프의 '노드' 역할을 하는 원을 생성\n",
    "for index, row in node_df.iterrows(): # iterrows(): 각 행의 정보를 담은 객체 # (index, row_series)\n",
    "    G.add_node(row['node'], nodesize=row['nodesize']) # add_node(): 그래프 노드 생성\n",
    "\n",
    "# network_df의 연관 분석 데이터를 기반으로 네트워크 그래프의 '관계' 역할을 하는 선을 생성\n",
    "for index, row in network_df.iterrows():\n",
    "    G.add_weighted_edges_from([(row['source'], row['target'], row['support'])])\n",
    "\n",
    "# 그래프 디자인과 관련된 파라미터 설정\n",
    "pos = nx.spring_layout(G, k=0.6, iterations=50)\n",
    "sizes = [G.nodes[node]['nodesize']*25 for node in G]\n",
    "nx.draw(G, pos=pos, node_size=sizes)\n",
    "nx.draw_networkx_labels(G, pos=pos, font_family='AppleGothic', font_size=25)\n",
    "\n",
    "# 그래프 출력\n",
    "ax = plt.gca()\n",
    "plt.show()"
   ]
  },
  {
   "cell_type": "markdown",
   "id": "02c8159d",
   "metadata": {},
   "source": [
    "### 정리\n",
    "- 연관 규칙 분석  \n",
    "    트랜잭션 데이터에 연관 규칙을 적용하고, 키워드 간의 지지도, 신뢰도, 향상도를 검토해보아야 한다.  \n",
    "- Apriori 알고리즘 적용  \n",
    "    큰 규모의 데이터를 처리하기 위해서는 Apriori와 같은 알고리즘을 도입해야 한다.  \n",
    "    Apriori는 superset을 이용하여 빈도가 낮은 하위 집합을 가지치기하는 방법이다.  "
   ]
  }
 ],
 "metadata": {
  "kernelspec": {
   "display_name": "Python 3 (ipykernel)",
   "language": "python",
   "name": "python3"
  },
  "language_info": {
   "codemirror_mode": {
    "name": "ipython",
    "version": 3
   },
   "file_extension": ".py",
   "mimetype": "text/x-python",
   "name": "python",
   "nbconvert_exporter": "python",
   "pygments_lexer": "ipython3",
   "version": "3.8.16"
  },
  "toc": {
   "base_numbering": 1,
   "nav_menu": {},
   "number_sections": true,
   "sideBar": true,
   "skip_h1_title": false,
   "title_cell": "Table of Contents",
   "title_sidebar": "Contents",
   "toc_cell": false,
   "toc_position": {
    "height": "calc(100% - 180px)",
    "left": "10px",
    "top": "150px",
    "width": "256px"
   },
   "toc_section_display": true,
   "toc_window_display": false
  }
 },
 "nbformat": 4,
 "nbformat_minor": 5
}
