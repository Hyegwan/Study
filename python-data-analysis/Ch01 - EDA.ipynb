{
 "cells": [
  {
   "cell_type": "markdown",
   "id": "4280fb6c",
   "metadata": {},
   "source": [
    "# EDA (Exploratory Data Analysis, 탐색적 데이터 분석)"
   ]
  },
  {
   "cell_type": "markdown",
   "id": "4dc2b31b",
   "metadata": {},
   "source": [
    "## EDA란\n",
    "- 데이터 정보를 파악하여 문제 해결에 필요한 힌트를 분석하는 과정"
   ]
  },
  {
   "cell_type": "markdown",
   "id": "50226cc2",
   "metadata": {},
   "source": [
    "## EDA의 다섯 단계"
   ]
  },
  {
   "cell_type": "markdown",
   "id": "cf18d999",
   "metadata": {},
   "source": [
    "[1] 데이터 출처와 주제 이해하기\n",
    "- 어디에서 생성됐는지\n",
    "- 어떻게 수집됐는지\n",
    "- 데이터의 이름, 구성 요소, 출처, 주제 파악하기"
   ]
  },
  {
   "cell_type": "markdown",
   "id": "3afff892",
   "metadata": {},
   "source": [
    "[2] 데이터 크기 알아보기\n",
    "- 데이터의 크기에 따라서 특정 샘플링이 필요하기도 하고, 데이터 처리 방식도 달라질 수 있다."
   ]
  },
  {
   "cell_type": "markdown",
   "id": "bbaee429",
   "metadata": {},
   "source": [
    "[3] 데이터 구성 요소(피처) 살펴보기"
   ]
  },
  {
   "cell_type": "markdown",
   "id": "8b013fba",
   "metadata": {},
   "source": [
    "[4] 피처 탐색하기  \n",
    "- 피처 속성 탐색 ex) 평균 키 파악  \n",
    "- 피처 상관 관계 탐색 ex) 몸무게와 키의 관계 파악"
   ]
  },
  {
   "cell_type": "markdown",
   "id": "65869098",
   "metadata": {},
   "source": [
    "[5] 탐색한 데이터 시각화\n",
    "- 패턴이나 인사이트 발견하기"
   ]
  },
  {
   "cell_type": "markdown",
   "id": "f5827ba0",
   "metadata": {},
   "source": [
    "# 예제) 치폴레 주문 데이터 분석하기"
   ]
  },
  {
   "cell_type": "markdown",
   "id": "df3f0c17",
   "metadata": {},
   "source": [
    "주제: 가장 인기 있는 메뉴는 무엇일까?\n",
    "\n",
    "<u>주제에 필요한 정보 리스트 업 하기</u>\n",
    "- 가장 많이 판매된 메뉴 Top 10\n",
    "- 매뉴별 판매량\n",
    "- 메뉴별 가격대"
   ]
  },
  {
   "cell_type": "markdown",
   "id": "04a122ce",
   "metadata": {},
   "source": [
    "## 데이터 기초 정보 탐색"
   ]
  },
  {
   "cell_type": "code",
   "execution_count": 1,
   "id": "7e5c96b4",
   "metadata": {},
   "outputs": [
    {
     "data": {
      "text/html": [
       "<div>\n",
       "<style scoped>\n",
       "    .dataframe tbody tr th:only-of-type {\n",
       "        vertical-align: middle;\n",
       "    }\n",
       "\n",
       "    .dataframe tbody tr th {\n",
       "        vertical-align: top;\n",
       "    }\n",
       "\n",
       "    .dataframe thead th {\n",
       "        text-align: right;\n",
       "    }\n",
       "</style>\n",
       "<table border=\"1\" class=\"dataframe\">\n",
       "  <thead>\n",
       "    <tr style=\"text-align: right;\">\n",
       "      <th></th>\n",
       "      <th>order_id</th>\n",
       "      <th>quantity</th>\n",
       "      <th>item_name</th>\n",
       "      <th>choice_description</th>\n",
       "      <th>item_price</th>\n",
       "    </tr>\n",
       "  </thead>\n",
       "  <tbody>\n",
       "    <tr>\n",
       "      <th>0</th>\n",
       "      <td>1</td>\n",
       "      <td>1</td>\n",
       "      <td>Chips and Fresh Tomato Salsa</td>\n",
       "      <td>NaN</td>\n",
       "      <td>$2.39</td>\n",
       "    </tr>\n",
       "    <tr>\n",
       "      <th>1</th>\n",
       "      <td>1</td>\n",
       "      <td>1</td>\n",
       "      <td>Izze</td>\n",
       "      <td>[Clementine]</td>\n",
       "      <td>$3.39</td>\n",
       "    </tr>\n",
       "    <tr>\n",
       "      <th>2</th>\n",
       "      <td>1</td>\n",
       "      <td>1</td>\n",
       "      <td>Nantucket Nectar</td>\n",
       "      <td>[Apple]</td>\n",
       "      <td>$3.39</td>\n",
       "    </tr>\n",
       "    <tr>\n",
       "      <th>3</th>\n",
       "      <td>1</td>\n",
       "      <td>1</td>\n",
       "      <td>Chips and Tomatillo-Green Chili Salsa</td>\n",
       "      <td>NaN</td>\n",
       "      <td>$2.39</td>\n",
       "    </tr>\n",
       "    <tr>\n",
       "      <th>4</th>\n",
       "      <td>2</td>\n",
       "      <td>2</td>\n",
       "      <td>Chicken Bowl</td>\n",
       "      <td>[Tomatillo-Red Chili Salsa (Hot), [Black Beans...</td>\n",
       "      <td>$16.98</td>\n",
       "    </tr>\n",
       "  </tbody>\n",
       "</table>\n",
       "</div>"
      ],
      "text/plain": [
       "   order_id  quantity                              item_name  \\\n",
       "0         1         1           Chips and Fresh Tomato Salsa   \n",
       "1         1         1                                   Izze   \n",
       "2         1         1                       Nantucket Nectar   \n",
       "3         1         1  Chips and Tomatillo-Green Chili Salsa   \n",
       "4         2         2                           Chicken Bowl   \n",
       "\n",
       "                                  choice_description item_price  \n",
       "0                                                NaN     $2.39   \n",
       "1                                       [Clementine]     $3.39   \n",
       "2                                            [Apple]     $3.39   \n",
       "3                                                NaN     $2.39   \n",
       "4  [Tomatillo-Red Chili Salsa (Hot), [Black Beans...    $16.98   "
      ]
     },
     "execution_count": 1,
     "metadata": {},
     "output_type": "execute_result"
    }
   ],
   "source": [
    "# 판다스 라이브러리 불러오기\n",
    "import pandas as pd\n",
    "\n",
    "# 데이터 가져오기\n",
    "file_path = 'Desktop/python-data-analysis-master/data/chipotle.tsv'\n",
    "chipo = pd.read_csv(file_path, sep='\\t') # sep='\\t' 구분자가 tab # 기본 구분자는 comma(,)\n",
    "\n",
    "chipo.head()"
   ]
  },
  {
   "cell_type": "code",
   "execution_count": 2,
   "id": "23dcf75d",
   "metadata": {},
   "outputs": [
    {
     "name": "stdout",
     "output_type": "stream",
     "text": [
      "shape: (4622, 5)\n",
      "----------------------------\n",
      "<class 'pandas.core.frame.DataFrame'>\n",
      "RangeIndex: 4622 entries, 0 to 4621\n",
      "Data columns (total 5 columns):\n",
      " #   Column              Non-Null Count  Dtype \n",
      "---  ------              --------------  ----- \n",
      " 0   order_id            4622 non-null   int64 \n",
      " 1   quantity            4622 non-null   int64 \n",
      " 2   item_name           4622 non-null   object\n",
      " 3   choice_description  3376 non-null   object\n",
      " 4   item_price          4622 non-null   object\n",
      "dtypes: int64(2), object(3)\n",
      "memory usage: 180.7+ KB\n",
      "None\n"
     ]
    }
   ],
   "source": [
    "print(\"shape:\", chipo.shape)\n",
    "print(\"----------------------------\")\n",
    "print(chipo.info())"
   ]
  },
  {
   "cell_type": "code",
   "execution_count": 3,
   "id": "f66b02a2",
   "metadata": {},
   "outputs": [
    {
     "data": {
      "text/plain": [
       "Index(['order_id', 'quantity', 'item_name', 'choice_description',\n",
       "       'item_price'],\n",
       "      dtype='object')"
      ]
     },
     "execution_count": 3,
     "metadata": {},
     "output_type": "execute_result"
    }
   ],
   "source": [
    "chipo.columns"
   ]
  },
  {
   "cell_type": "code",
   "execution_count": 4,
   "id": "dcbf84b1",
   "metadata": {},
   "outputs": [
    {
     "data": {
      "text/plain": [
       "RangeIndex(start=0, stop=4622, step=1)"
      ]
     },
     "execution_count": 4,
     "metadata": {},
     "output_type": "execute_result"
    }
   ],
   "source": [
    "chipo.index"
   ]
  },
  {
   "cell_type": "markdown",
   "id": "e5c591f9",
   "metadata": {},
   "source": [
    "피처의 의미\n",
    "- order_id: 주문 번호\n",
    "- quantity: 아이템의 주문 수량\n",
    "- item_name: 주문한 아이템 이름\n",
    "- choice_description: 주문한 아이템의 상세 선택 옵션\n",
    "- item_price: 주문한 아이템 가격"
   ]
  },
  {
   "cell_type": "markdown",
   "id": "85f9dfa7",
   "metadata": {},
   "source": [
    "quantity와 item_price는 연속형 피처이다.\n",
    "- ?? 여기서 quantity는 discrete 아닌가?"
   ]
  },
  {
   "cell_type": "markdown",
   "id": "0b972267",
   "metadata": {},
   "source": [
    "<u>피처 형태의 종류</u>\n",
    "- 수치형 (numerical)\n",
    "    - 연속형 (continuous): 키, 몸무게\n",
    "    - 불연속형 (discrete): 나이\n",
    "- 범주형 (categorical)\n",
    "    - 순서가 있는 (ordinal): 학점 (순서가 있으나 수치는 아니다)\n",
    "    - 순서가 없는 (nominal): 혈액형"
   ]
  },
  {
   "cell_type": "markdown",
   "id": "11e71d8d",
   "metadata": {},
   "source": [
    "수치형 데이터는 describe()함수로 기초 통계량을 확인해본다."
   ]
  },
  {
   "cell_type": "markdown",
   "id": "5de5acf3",
   "metadata": {},
   "source": [
    "범주형 데이터는 unique()로 각 범주의 개수를 알아본다."
   ]
  },
  {
   "cell_type": "code",
   "execution_count": 5,
   "id": "07c5f18e",
   "metadata": {},
   "outputs": [],
   "source": [
    "# order_id는 숫자의 의미를 가지지 않기 때문에 str으로 변환한다\n",
    "chipo['order_id'] = chipo['order_id'].astype(str)"
   ]
  },
  {
   "cell_type": "code",
   "execution_count": 6,
   "id": "8f948c0b",
   "metadata": {},
   "outputs": [
    {
     "data": {
      "text/html": [
       "<div>\n",
       "<style scoped>\n",
       "    .dataframe tbody tr th:only-of-type {\n",
       "        vertical-align: middle;\n",
       "    }\n",
       "\n",
       "    .dataframe tbody tr th {\n",
       "        vertical-align: top;\n",
       "    }\n",
       "\n",
       "    .dataframe thead th {\n",
       "        text-align: right;\n",
       "    }\n",
       "</style>\n",
       "<table border=\"1\" class=\"dataframe\">\n",
       "  <thead>\n",
       "    <tr style=\"text-align: right;\">\n",
       "      <th></th>\n",
       "      <th>quantity</th>\n",
       "    </tr>\n",
       "  </thead>\n",
       "  <tbody>\n",
       "    <tr>\n",
       "      <th>count</th>\n",
       "      <td>4622.000000</td>\n",
       "    </tr>\n",
       "    <tr>\n",
       "      <th>mean</th>\n",
       "      <td>1.075725</td>\n",
       "    </tr>\n",
       "    <tr>\n",
       "      <th>std</th>\n",
       "      <td>0.410186</td>\n",
       "    </tr>\n",
       "    <tr>\n",
       "      <th>min</th>\n",
       "      <td>1.000000</td>\n",
       "    </tr>\n",
       "    <tr>\n",
       "      <th>25%</th>\n",
       "      <td>1.000000</td>\n",
       "    </tr>\n",
       "    <tr>\n",
       "      <th>50%</th>\n",
       "      <td>1.000000</td>\n",
       "    </tr>\n",
       "    <tr>\n",
       "      <th>75%</th>\n",
       "      <td>1.000000</td>\n",
       "    </tr>\n",
       "    <tr>\n",
       "      <th>max</th>\n",
       "      <td>15.000000</td>\n",
       "    </tr>\n",
       "  </tbody>\n",
       "</table>\n",
       "</div>"
      ],
      "text/plain": [
       "          quantity\n",
       "count  4622.000000\n",
       "mean      1.075725\n",
       "std       0.410186\n",
       "min       1.000000\n",
       "25%       1.000000\n",
       "50%       1.000000\n",
       "75%       1.000000\n",
       "max      15.000000"
      ]
     },
     "execution_count": 6,
     "metadata": {},
     "output_type": "execute_result"
    }
   ],
   "source": [
    "# 수치형 피처(여기서는 quantity)의 기초 통계량 확인\n",
    "chipo.describe()"
   ]
  },
  {
   "cell_type": "markdown",
   "id": "b80ceadc",
   "metadata": {},
   "source": [
    "결과:\n",
    "- 평균 주문 수량은 약 1.08개 이다.  \n",
    "\n",
    "**인사이트:**\n",
    "- **한 사람이 같은 메뉴를 여러 개 구매하는 경우는 많지 않다**"
   ]
  },
  {
   "cell_type": "code",
   "execution_count": 7,
   "id": "b06355ec",
   "metadata": {},
   "outputs": [
    {
     "name": "stdout",
     "output_type": "stream",
     "text": [
      "총 주문 수 1834\n",
      "총 메뉴 수 50\n"
     ]
    }
   ],
   "source": [
    "# 범주형 피처의 unique 개수 확인\n",
    "print(\"총 주문 수\", chipo['order_id'].nunique())\n",
    "print(\"총 메뉴 수\", chipo['item_name'].nunique())"
   ]
  },
  {
   "cell_type": "markdown",
   "id": "9909dc93",
   "metadata": {},
   "source": [
    "## 인사이트의 발견: 탐색과 시각화하기"
   ]
  },
  {
   "cell_type": "markdown",
   "id": "0e6ac1b7",
   "metadata": {},
   "source": [
    "recall, 아까 만들어뒀던 필요한 정보 리스트\n",
    "- 가장 많이 판매된 메뉴 Top 10\n",
    "- 매뉴별 판매량\n",
    "- 메뉴별 가격대"
   ]
  },
  {
   "cell_type": "markdown",
   "id": "5d113294",
   "metadata": {},
   "source": [
    "### [1] 가장 많이 주문한 아이템 Top 10"
   ]
  },
  {
   "cell_type": "code",
   "execution_count": 8,
   "id": "a7b86c6d",
   "metadata": {},
   "outputs": [
    {
     "data": {
      "text/plain": [
       "Chicken Bowl                    726\n",
       "Chicken Burrito                 553\n",
       "Chips and Guacamole             479\n",
       "Steak Burrito                   368\n",
       "Canned Soft Drink               301\n",
       "Steak Bowl                      211\n",
       "Chips                           211\n",
       "Bottled Water                   162\n",
       "Chicken Soft Tacos              115\n",
       "Chips and Fresh Tomato Salsa    110\n",
       "Name: item_name, dtype: int64"
      ]
     },
     "execution_count": 8,
     "metadata": {},
     "output_type": "execute_result"
    }
   ],
   "source": [
    "# 가장 많이 주문한 아이템 Top 10 \n",
    "item_count = chipo['item_name'].value_counts()[:10]\n",
    "# note: DataFrame['col']은 시리즈를 반환한다.\n",
    "# note: value_counts()는 시리즈에만 적용된다.\n",
    "\n",
    "item_count "
   ]
  },
  {
   "cell_type": "code",
   "execution_count": 9,
   "id": "90d37efb",
   "metadata": {},
   "outputs": [
    {
     "name": "stdout",
     "output_type": "stream",
     "text": [
      "Index(['Chicken Bowl', 'Chicken Burrito', 'Chips and Guacamole',\n",
      "       'Steak Burrito', 'Canned Soft Drink', 'Steak Bowl', 'Chips',\n",
      "       'Bottled Water', 'Chicken Soft Tacos', 'Chips and Fresh Tomato Salsa'],\n",
      "      dtype='object')\n",
      "\n",
      "[726 553 479 368 301 211 211 162 115 110]\n",
      "\n",
      "int64\n"
     ]
    }
   ],
   "source": [
    "# item_count\n",
    "print(item_count.index)\n",
    "print()\n",
    "print(item_count.values)\n",
    "print()\n",
    "print(item_count.dtype)"
   ]
  },
  {
   "cell_type": "markdown",
   "id": "c537af86",
   "metadata": {},
   "source": [
    "<u>Series란?</u>  \n",
    "Series is a one-dimensional labeled array capable of holding data of any type (integer, string, float, python objects, etc.).   \n",
    "The axis labels are collectively called index."
   ]
  },
  {
   "cell_type": "code",
   "execution_count": 10,
   "id": "5ca64a72",
   "metadata": {},
   "outputs": [
    {
     "name": "stdout",
     "output_type": "stream",
     "text": [
      "<zip object at 0x7ff398f94980>\n",
      "\n",
      "list\n",
      "[('Chicken Bowl', 726), ('Chicken Burrito', 553), ('Chips and Guacamole', 479), ('Steak Burrito', 368), ('Canned Soft Drink', 301), ('Steak Bowl', 211), ('Chips', 211), ('Bottled Water', 162), ('Chicken Soft Tacos', 115), ('Chips and Fresh Tomato Salsa', 110)]\n"
     ]
    }
   ],
   "source": [
    "# item_count.items()\n",
    "print(item_count.items())\n",
    "print()\n",
    "print(\"list\")\n",
    "print(list(item_count.items()))"
   ]
  },
  {
   "cell_type": "code",
   "execution_count": 11,
   "id": "2049aea1",
   "metadata": {},
   "outputs": [
    {
     "name": "stdout",
     "output_type": "stream",
     "text": [
      "Top 1 : Chicken Bowl 726\n",
      "Top 2 : Chicken Burrito 553\n",
      "Top 3 : Chips and Guacamole 479\n",
      "Top 4 : Steak Burrito 368\n",
      "Top 5 : Canned Soft Drink 301\n",
      "Top 6 : Steak Bowl 211\n",
      "Top 7 : Chips 211\n",
      "Top 8 : Bottled Water 162\n",
      "Top 9 : Chicken Soft Tacos 115\n",
      "Top 10 : Chips and Fresh Tomato Salsa 110\n"
     ]
    }
   ],
   "source": [
    "for idx, (val, cnt) in enumerate(item_count.items(), start=1):\n",
    "    print(\"Top\", idx, \":\", val, cnt\n",
    "         )\n",
    "# note: enumerate() 함수는 기본적으로 인덱스와 원소로 이루어진 튜플을 만들어준다. \n",
    "# 따라서 인덱스와 원소를 각각 다른 변수에 할당하고 싶다면 인자 풀기(unpacking)를 해줘야 한다."
   ]
  },
  {
   "cell_type": "markdown",
   "id": "316e7b1e",
   "metadata": {},
   "source": [
    "### [2] 메뉴별 판매량"
   ]
  },
  {
   "cell_type": "code",
   "execution_count": 12,
   "id": "774bc77b",
   "metadata": {},
   "outputs": [
    {
     "data": {
      "text/plain": [
       "item_name\n",
       "6 Pack Soft Drink         54\n",
       "Barbacoa Bowl             66\n",
       "Barbacoa Burrito          91\n",
       "Barbacoa Crispy Tacos     11\n",
       "Barbacoa Salad Bowl       10\n",
       "Barbacoa Soft Tacos       25\n",
       "Bottled Water            162\n",
       "Bowl                       2\n",
       "Burrito                    6\n",
       "Canned Soda              104\n",
       "Name: order_id, dtype: int64"
      ]
     },
     "execution_count": 12,
     "metadata": {},
     "output_type": "execute_result"
    }
   ],
   "source": [
    "# 메뉴별 주문 개수\n",
    "order_count = chipo.groupby('item_name')['order_id'].count()\n",
    "order_count[:10]"
   ]
  },
  {
   "cell_type": "code",
   "execution_count": 13,
   "id": "8f8f2944",
   "metadata": {},
   "outputs": [
    {
     "data": {
      "text/plain": [
       "item_name\n",
       "6 Pack Soft Drink         55\n",
       "Barbacoa Bowl             66\n",
       "Barbacoa Burrito          91\n",
       "Barbacoa Crispy Tacos     12\n",
       "Barbacoa Salad Bowl       10\n",
       "Barbacoa Soft Tacos       25\n",
       "Bottled Water            211\n",
       "Bowl                       4\n",
       "Burrito                    6\n",
       "Canned Soda              126\n",
       "Name: quantity, dtype: int64"
      ]
     },
     "execution_count": 13,
     "metadata": {},
     "output_type": "execute_result"
    }
   ],
   "source": [
    "# 메뉴별 주문 총량\n",
    "item_quantity = chipo.groupby('item_name')['quantity'].sum()\n",
    "item_quantity[:10]"
   ]
  },
  {
   "cell_type": "code",
   "execution_count": 14,
   "id": "1ba7cec0",
   "metadata": {},
   "outputs": [
    {
     "data": {
      "image/png": "[encoded data removed]",
      "text/plain": [
       "<Figure size 640x480 with 1 Axes>"
      ]
     },
     "metadata": {},
     "output_type": "display_data"
    }
   ],
   "source": [
    "# 메뉴별 주문 총량 시각화\n",
    "%matplotlib inline\n",
    "import numpy as np\n",
    "import matplotlib.pyplot as plt\n",
    "\n",
    "item_name_list = list(item_quantity.index)\n",
    "x_pos = np.arange(len(item_name_list)) # 메뉴 50개 이름을 x축에 표현하기에는 그래프의 공간이 너무 협소해서 숫자로 대체\n",
    "# itee_name_list로 굳이 안 바꿔도 된다. 50개만 나오면 됨! nunique이나 len써서 표현 가능\n",
    "order_cnt = list(item_quantity.values) # 메뉴별 주문 총량\n",
    "\n",
    "plt.bar(x_pos, order_cnt, align='center')\n",
    "plt.ylabel('ordered_item_count')\n",
    "plt.title('Distribution of all orderd item')\n",
    "plt.show()"
   ]
  },
  {
   "cell_type": "markdown",
   "id": "bd352809",
   "metadata": {},
   "source": [
    "## 데이터 전처리"
   ]
  },
  {
   "cell_type": "code",
   "execution_count": 15,
   "id": "898211a9",
   "metadata": {},
   "outputs": [
    {
     "name": "stdout",
     "output_type": "stream",
     "text": [
      "<class 'pandas.core.frame.DataFrame'>\n",
      "RangeIndex: 4622 entries, 0 to 4621\n",
      "Data columns (total 5 columns):\n",
      " #   Column              Non-Null Count  Dtype \n",
      "---  ------              --------------  ----- \n",
      " 0   order_id            4622 non-null   object\n",
      " 1   quantity            4622 non-null   int64 \n",
      " 2   item_name           4622 non-null   object\n",
      " 3   choice_description  3376 non-null   object\n",
      " 4   item_price          4622 non-null   object\n",
      "dtypes: int64(1), object(4)\n",
      "memory usage: 180.7+ KB\n",
      "None\n",
      "-------------------\n",
      "0     $2.39 \n",
      "1     $3.39 \n",
      "2     $3.39 \n",
      "3     $2.39 \n",
      "4    $16.98 \n",
      "Name: item_price, dtype: object\n"
     ]
    }
   ],
   "source": [
    "print(chipo.info())\n",
    "print('-------------------')\n",
    "print(chipo['item_price'].head())"
   ]
  },
  {
   "cell_type": "markdown",
   "id": "e02887d7",
   "metadata": {},
   "source": [
    "item_price의 달러 기호를 없애고 숫자형으로 바꾸면 통계값을 사용할 수 있다."
   ]
  },
  {
   "cell_type": "code",
   "execution_count": 16,
   "id": "120d4c39",
   "metadata": {},
   "outputs": [
    {
     "data": {
      "text/html": [
       "<div>\n",
       "<style scoped>\n",
       "    .dataframe tbody tr th:only-of-type {\n",
       "        vertical-align: middle;\n",
       "    }\n",
       "\n",
       "    .dataframe tbody tr th {\n",
       "        vertical-align: top;\n",
       "    }\n",
       "\n",
       "    .dataframe thead th {\n",
       "        text-align: right;\n",
       "    }\n",
       "</style>\n",
       "<table border=\"1\" class=\"dataframe\">\n",
       "  <thead>\n",
       "    <tr style=\"text-align: right;\">\n",
       "      <th></th>\n",
       "      <th>quantity</th>\n",
       "      <th>item_price</th>\n",
       "    </tr>\n",
       "  </thead>\n",
       "  <tbody>\n",
       "    <tr>\n",
       "      <th>count</th>\n",
       "      <td>4622.000000</td>\n",
       "      <td>4622.000000</td>\n",
       "    </tr>\n",
       "    <tr>\n",
       "      <th>mean</th>\n",
       "      <td>1.075725</td>\n",
       "      <td>7.464336</td>\n",
       "    </tr>\n",
       "    <tr>\n",
       "      <th>std</th>\n",
       "      <td>0.410186</td>\n",
       "      <td>4.245557</td>\n",
       "    </tr>\n",
       "    <tr>\n",
       "      <th>min</th>\n",
       "      <td>1.000000</td>\n",
       "      <td>1.090000</td>\n",
       "    </tr>\n",
       "    <tr>\n",
       "      <th>25%</th>\n",
       "      <td>1.000000</td>\n",
       "      <td>3.390000</td>\n",
       "    </tr>\n",
       "    <tr>\n",
       "      <th>50%</th>\n",
       "      <td>1.000000</td>\n",
       "      <td>8.750000</td>\n",
       "    </tr>\n",
       "    <tr>\n",
       "      <th>75%</th>\n",
       "      <td>1.000000</td>\n",
       "      <td>9.250000</td>\n",
       "    </tr>\n",
       "    <tr>\n",
       "      <th>max</th>\n",
       "      <td>15.000000</td>\n",
       "      <td>44.250000</td>\n",
       "    </tr>\n",
       "  </tbody>\n",
       "</table>\n",
       "</div>"
      ],
      "text/plain": [
       "          quantity   item_price\n",
       "count  4622.000000  4622.000000\n",
       "mean      1.075725     7.464336\n",
       "std       0.410186     4.245557\n",
       "min       1.000000     1.090000\n",
       "25%       1.000000     3.390000\n",
       "50%       1.000000     8.750000\n",
       "75%       1.000000     9.250000\n",
       "max      15.000000    44.250000"
      ]
     },
     "execution_count": 16,
     "metadata": {},
     "output_type": "execute_result"
    }
   ],
   "source": [
    "# '$' 제거\n",
    "# 데이터 타입 변환 object to float\n",
    "chipo['item_price'] = chipo['item_price'].apply(lambda x: float(x[1:])) \n",
    "# 0번째에 '$'가 있으니까 값을 1번째 자리부터 가져오기 (다른 방법으로 replace도 사용 가능하다)\n",
    "\n",
    "chipo.describe()"
   ]
  },
  {
   "cell_type": "markdown",
   "id": "55054634",
   "metadata": {},
   "source": [
    "apply() 함수는 시리즈 단위의 연산을 처리하는 기능을 수행하며, sum()이나 mean()과 같이 연산이 정의된 함수를 파라미터로 받는다.  \n",
    "따라서 피처 단위의 합계나 평균을 구할 수도 있고,   \n",
    "우리가 정의할 새로운 함수 문자열 데이터에서 '첫 번째 문자열을 제거한 뒤 나머지 문자열을 수치형으로 바꿔주는 함수'(lambda x: float(x[1:]))를 파라미터로 입력할 수도 있다.\n"
   ]
  },
  {
   "cell_type": "markdown",
   "id": "7091844c",
   "metadata": {},
   "source": [
    "## 탐색적 분석: 스무고개로 개념적 탐색 분석하기"
   ]
  },
  {
   "cell_type": "markdown",
   "id": "e08a6cf2",
   "metadata": {},
   "source": [
    "### [3] 주문당 평균 계산금액"
   ]
  },
  {
   "cell_type": "code",
   "execution_count": 17,
   "id": "1e234d4f",
   "metadata": {},
   "outputs": [
    {
     "data": {
      "text/plain": [
       "18.811428571428568"
      ]
     },
     "execution_count": 17,
     "metadata": {},
     "output_type": "execute_result"
    }
   ],
   "source": [
    "chipo.groupby('order_id')['item_price'].sum().mean()"
   ]
  },
  {
   "cell_type": "markdown",
   "id": "ab1311aa",
   "metadata": {},
   "source": [
    "**인사이트: 한 사람이 약 18달러 가량의 주문을 할 것이다.**"
   ]
  },
  {
   "cell_type": "markdown",
   "id": "204ad7ff",
   "metadata": {},
   "source": [
    "### [4] 한 주문에 10달러 이상 지불한 주문 번호(id)"
   ]
  },
  {
   "cell_type": "code",
   "execution_count": 18,
   "id": "305024cc",
   "metadata": {},
   "outputs": [
    {
     "data": {
      "text/plain": [
       "array(['1', '10', '100', ..., '997', '998', '999'], dtype=object)"
      ]
     },
     "execution_count": 18,
     "metadata": {},
     "output_type": "execute_result"
    }
   ],
   "source": [
    "# 주문별 가격\n",
    "order_grouped = pd.DataFrame(chipo.groupby('order_id')['item_price'].sum())\n",
    "# 주문별 가격이 10달러 이상인 주문 번호\n",
    "results = order_grouped[order_grouped.item_price >= 10]\n",
    "results.index.values"
   ]
  },
  {
   "cell_type": "markdown",
   "id": "d2c24337",
   "metadata": {},
   "source": [
    "### [5] 메뉴별 가격대"
   ]
  },
  {
   "cell_type": "code",
   "execution_count": 19,
   "id": "5329228e",
   "metadata": {},
   "outputs": [
    {
     "data": {
      "text/html": [
       "<div>\n",
       "<style scoped>\n",
       "    .dataframe tbody tr th:only-of-type {\n",
       "        vertical-align: middle;\n",
       "    }\n",
       "\n",
       "    .dataframe tbody tr th {\n",
       "        vertical-align: top;\n",
       "    }\n",
       "\n",
       "    .dataframe thead th {\n",
       "        text-align: right;\n",
       "    }\n",
       "</style>\n",
       "<table border=\"1\" class=\"dataframe\">\n",
       "  <thead>\n",
       "    <tr style=\"text-align: right;\">\n",
       "      <th></th>\n",
       "      <th>order_id</th>\n",
       "      <th>quantity</th>\n",
       "      <th>choice_description</th>\n",
       "      <th>item_price</th>\n",
       "    </tr>\n",
       "    <tr>\n",
       "      <th>item_name</th>\n",
       "      <th></th>\n",
       "      <th></th>\n",
       "      <th></th>\n",
       "      <th></th>\n",
       "    </tr>\n",
       "  </thead>\n",
       "  <tbody>\n",
       "    <tr>\n",
       "      <th>Steak Salad Bowl</th>\n",
       "      <td>1032</td>\n",
       "      <td>1</td>\n",
       "      <td>[Fresh Tomato Salsa, Lettuce]</td>\n",
       "      <td>9.39</td>\n",
       "    </tr>\n",
       "    <tr>\n",
       "      <th>Barbacoa Salad Bowl</th>\n",
       "      <td>1283</td>\n",
       "      <td>1</td>\n",
       "      <td>[Fresh Tomato Salsa, Guacamole]</td>\n",
       "      <td>9.39</td>\n",
       "    </tr>\n",
       "    <tr>\n",
       "      <th>Carnitas Salad Bowl</th>\n",
       "      <td>1035</td>\n",
       "      <td>1</td>\n",
       "      <td>[Fresh Tomato Salsa, [Rice, Black Beans, Chees...</td>\n",
       "      <td>9.39</td>\n",
       "    </tr>\n",
       "    <tr>\n",
       "      <th>Carnitas Soft Tacos</th>\n",
       "      <td>1011</td>\n",
       "      <td>1</td>\n",
       "      <td>[Fresh Tomato Salsa (Mild), [Black Beans, Rice...</td>\n",
       "      <td>8.99</td>\n",
       "    </tr>\n",
       "    <tr>\n",
       "      <th>Carnitas Crispy Tacos</th>\n",
       "      <td>1774</td>\n",
       "      <td>1</td>\n",
       "      <td>[Fresh Tomato Salsa, [Fajita Vegetables, Rice,...</td>\n",
       "      <td>8.99</td>\n",
       "    </tr>\n",
       "    <tr>\n",
       "      <th>Steak Soft Tacos</th>\n",
       "      <td>1054</td>\n",
       "      <td>1</td>\n",
       "      <td>[Fresh Tomato Salsa (Mild), [Cheese, Sour Cream]]</td>\n",
       "      <td>8.99</td>\n",
       "    </tr>\n",
       "    <tr>\n",
       "      <th>Carnitas Salad</th>\n",
       "      <td>1500</td>\n",
       "      <td>1</td>\n",
       "      <td>[[Fresh Tomato Salsa (Mild), Roasted Chili Cor...</td>\n",
       "      <td>8.99</td>\n",
       "    </tr>\n",
       "    <tr>\n",
       "      <th>Carnitas Bowl</th>\n",
       "      <td>1007</td>\n",
       "      <td>1</td>\n",
       "      <td>[Fresh Tomato (Mild), [Guacamole, Lettuce, Ric...</td>\n",
       "      <td>8.99</td>\n",
       "    </tr>\n",
       "    <tr>\n",
       "      <th>Barbacoa Soft Tacos</th>\n",
       "      <td>1103</td>\n",
       "      <td>1</td>\n",
       "      <td>[Fresh Tomato Salsa, [Black Beans, Cheese, Let...</td>\n",
       "      <td>8.99</td>\n",
       "    </tr>\n",
       "    <tr>\n",
       "      <th>Barbacoa Crispy Tacos</th>\n",
       "      <td>110</td>\n",
       "      <td>1</td>\n",
       "      <td>[Fresh Tomato Salsa, Guacamole]</td>\n",
       "      <td>8.99</td>\n",
       "    </tr>\n",
       "  </tbody>\n",
       "</table>\n",
       "</div>"
      ],
      "text/plain": [
       "                      order_id  quantity  \\\n",
       "item_name                                  \n",
       "Steak Salad Bowl          1032         1   \n",
       "Barbacoa Salad Bowl       1283         1   \n",
       "Carnitas Salad Bowl       1035         1   \n",
       "Carnitas Soft Tacos       1011         1   \n",
       "Carnitas Crispy Tacos     1774         1   \n",
       "Steak Soft Tacos          1054         1   \n",
       "Carnitas Salad            1500         1   \n",
       "Carnitas Bowl             1007         1   \n",
       "Barbacoa Soft Tacos       1103         1   \n",
       "Barbacoa Crispy Tacos      110         1   \n",
       "\n",
       "                                                      choice_description  \\\n",
       "item_name                                                                  \n",
       "Steak Salad Bowl                           [Fresh Tomato Salsa, Lettuce]   \n",
       "Barbacoa Salad Bowl                      [Fresh Tomato Salsa, Guacamole]   \n",
       "Carnitas Salad Bowl    [Fresh Tomato Salsa, [Rice, Black Beans, Chees...   \n",
       "Carnitas Soft Tacos    [Fresh Tomato Salsa (Mild), [Black Beans, Rice...   \n",
       "Carnitas Crispy Tacos  [Fresh Tomato Salsa, [Fajita Vegetables, Rice,...   \n",
       "Steak Soft Tacos       [Fresh Tomato Salsa (Mild), [Cheese, Sour Cream]]   \n",
       "Carnitas Salad         [[Fresh Tomato Salsa (Mild), Roasted Chili Cor...   \n",
       "Carnitas Bowl          [Fresh Tomato (Mild), [Guacamole, Lettuce, Ric...   \n",
       "Barbacoa Soft Tacos    [Fresh Tomato Salsa, [Black Beans, Cheese, Let...   \n",
       "Barbacoa Crispy Tacos                    [Fresh Tomato Salsa, Guacamole]   \n",
       "\n",
       "                       item_price  \n",
       "item_name                          \n",
       "Steak Salad Bowl             9.39  \n",
       "Barbacoa Salad Bowl          9.39  \n",
       "Carnitas Salad Bowl          9.39  \n",
       "Carnitas Soft Tacos          8.99  \n",
       "Carnitas Crispy Tacos        8.99  \n",
       "Steak Soft Tacos             8.99  \n",
       "Carnitas Salad               8.99  \n",
       "Carnitas Bowl                8.99  \n",
       "Barbacoa Soft Tacos          8.99  \n",
       "Barbacoa Crispy Tacos        8.99  "
      ]
     },
     "execution_count": 19,
     "metadata": {},
     "output_type": "execute_result"
    }
   ],
   "source": [
    "# 메뉴를 하나만 주문한 경우 추출 (전체 주문에서 메뉴가 하나 X, 메뉴의 수량이 하나 O)\n",
    "chipo_one_item = chipo[chipo.quantity == 1]\n",
    "# 메뉴별 최저가 추출\n",
    "price_per_item = chipo_one_item.groupby('item_name').min()\n",
    "# 메뉴별 가격 내림차순 정렬\n",
    "price_per_item.sort_values(by='item_price', ascending = False)[:10]"
   ]
  },
  {
   "cell_type": "code",
   "execution_count": 20,
   "id": "c61759c8",
   "metadata": {},
   "outputs": [
    {
     "data": {
      "text/plain": [
       "50"
      ]
     },
     "execution_count": 20,
     "metadata": {},
     "output_type": "execute_result"
    }
   ],
   "source": [
    "# chipo_one_item: 'quantity == 1'인 이유\n",
    "chipo_one_item['item_name'].nunique()"
   ]
  },
  {
   "cell_type": "markdown",
   "id": "aecbbced",
   "metadata": {},
   "source": [
    "chipo_one_item의 nuique가 50개 인걸로 봐서 모든 메뉴가 1개씩 주문된 기록이 있다는 전제가 있나보다."
   ]
  },
  {
   "cell_type": "code",
   "execution_count": 21,
   "id": "5819e595",
   "metadata": {},
   "outputs": [
    {
     "data": {
      "text/html": [
       "<div>\n",
       "<style scoped>\n",
       "    .dataframe tbody tr th:only-of-type {\n",
       "        vertical-align: middle;\n",
       "    }\n",
       "\n",
       "    .dataframe tbody tr th {\n",
       "        vertical-align: top;\n",
       "    }\n",
       "\n",
       "    .dataframe thead th {\n",
       "        text-align: right;\n",
       "    }\n",
       "</style>\n",
       "<table border=\"1\" class=\"dataframe\">\n",
       "  <thead>\n",
       "    <tr style=\"text-align: right;\">\n",
       "      <th></th>\n",
       "      <th>order_id</th>\n",
       "      <th>quantity</th>\n",
       "      <th>item_name</th>\n",
       "      <th>choice_description</th>\n",
       "      <th>item_price</th>\n",
       "    </tr>\n",
       "  </thead>\n",
       "  <tbody>\n",
       "    <tr>\n",
       "      <th>4619</th>\n",
       "      <td>1834</td>\n",
       "      <td>1</td>\n",
       "      <td>Chicken Salad Bowl</td>\n",
       "      <td>[Fresh Tomato Salsa, [Fajita Vegetables, Pinto...</td>\n",
       "      <td>11.25</td>\n",
       "    </tr>\n",
       "    <tr>\n",
       "      <th>4620</th>\n",
       "      <td>1834</td>\n",
       "      <td>1</td>\n",
       "      <td>Chicken Salad Bowl</td>\n",
       "      <td>[Fresh Tomato Salsa, [Fajita Vegetables, Lettu...</td>\n",
       "      <td>8.75</td>\n",
       "    </tr>\n",
       "    <tr>\n",
       "      <th>4621</th>\n",
       "      <td>1834</td>\n",
       "      <td>1</td>\n",
       "      <td>Chicken Salad Bowl</td>\n",
       "      <td>[Fresh Tomato Salsa, [Fajita Vegetables, Pinto...</td>\n",
       "      <td>8.75</td>\n",
       "    </tr>\n",
       "  </tbody>\n",
       "</table>\n",
       "</div>"
      ],
      "text/plain": [
       "     order_id  quantity           item_name  \\\n",
       "4619     1834         1  Chicken Salad Bowl   \n",
       "4620     1834         1  Chicken Salad Bowl   \n",
       "4621     1834         1  Chicken Salad Bowl   \n",
       "\n",
       "                                     choice_description  item_price  \n",
       "4619  [Fresh Tomato Salsa, [Fajita Vegetables, Pinto...       11.25  \n",
       "4620  [Fresh Tomato Salsa, [Fajita Vegetables, Lettu...        8.75  \n",
       "4621  [Fresh Tomato Salsa, [Fajita Vegetables, Pinto...        8.75  "
      ]
     },
     "execution_count": 21,
     "metadata": {},
     "output_type": "execute_result"
    }
   ],
   "source": [
    "# price_per_item: min()을 찾는 이유 \n",
    "chipo_one_item[chipo_one_item.order_id == '1834']"
   ]
  },
  {
   "cell_type": "markdown",
   "id": "53ae1b5b",
   "metadata": {},
   "source": [
    "이걸 보면 같은 치킨 샐러드 보울인데 가격이 다른 경우가 있다.  \n",
    "옵션을 추가하면 값이 올라가는 상황인가 본데 그래서 최저가를 기본가로 보는 듯"
   ]
  },
  {
   "cell_type": "code",
   "execution_count": 22,
   "id": "5f4e08ad",
   "metadata": {},
   "outputs": [
    {
     "data": {
      "image/png": "[encoded data removed]",
      "text/plain": [
       "<Figure size 640x480 with 1 Axes>"
      ]
     },
     "metadata": {},
     "output_type": "display_data"
    },
    {
     "data": {
      "image/png": "[encoded data removed]",
      "text/plain": [
       "<Figure size 640x480 with 1 Axes>"
      ]
     },
     "metadata": {},
     "output_type": "display_data"
    }
   ],
   "source": [
    "# 메뉴 가격 분포 그래프\n",
    "item_name_list = price_per_item.index.tolist() # 전체 아이템 이름 리스트에 담기\n",
    "x_pos = np.arange(len(item_name_list)) # 아이템 이름을 전부 표시할 수 없어서 숫자로 대체\n",
    "item_price = price_per_item['item_price'].tolist() # y축에 들어갈 전체 메뉴별 가격 리스트에 담기\n",
    "\n",
    "# 막대 그래프\n",
    "plt.bar(x_pos, item_price, align='center')\n",
    "plt.ylabel('item_price($)')\n",
    "plt.title('Distribution of item price')\n",
    "plt.show()\n",
    "\n",
    "# 히스토그램\n",
    "plt.hist(item_price)\n",
    "plt.ylabel('counts')\n",
    "plt.title('Histogram of item price')\n",
    "plt.show()"
   ]
  },
  {
   "cell_type": "markdown",
   "id": "693ea270",
   "metadata": {},
   "source": [
    "**인사이트: 2-4달러, 혹은 6-8달러 정도에 아이템의 가격대가 형성되어 있음을 알 수 있다.**  \n",
    "8~10달러 아닐까요"
   ]
  },
  {
   "cell_type": "markdown",
   "id": "bb825206",
   "metadata": {},
   "source": [
    "### [6] 가장 비싼 주문에서 팔린 아이템 총 개수"
   ]
  },
  {
   "cell_type": "code",
   "execution_count": 23,
   "id": "8897bd36",
   "metadata": {},
   "outputs": [
    {
     "data": {
      "text/html": [
       "<div>\n",
       "<style scoped>\n",
       "    .dataframe tbody tr th:only-of-type {\n",
       "        vertical-align: middle;\n",
       "    }\n",
       "\n",
       "    .dataframe tbody tr th {\n",
       "        vertical-align: top;\n",
       "    }\n",
       "\n",
       "    .dataframe thead th {\n",
       "        text-align: right;\n",
       "    }\n",
       "</style>\n",
       "<table border=\"1\" class=\"dataframe\">\n",
       "  <thead>\n",
       "    <tr style=\"text-align: right;\">\n",
       "      <th></th>\n",
       "      <th>quantity</th>\n",
       "      <th>item_price</th>\n",
       "    </tr>\n",
       "    <tr>\n",
       "      <th>order_id</th>\n",
       "      <th></th>\n",
       "      <th></th>\n",
       "    </tr>\n",
       "  </thead>\n",
       "  <tbody>\n",
       "    <tr>\n",
       "      <th>926</th>\n",
       "      <td>23</td>\n",
       "      <td>205.25</td>\n",
       "    </tr>\n",
       "  </tbody>\n",
       "</table>\n",
       "</div>"
      ],
      "text/plain": [
       "          quantity  item_price\n",
       "order_id                      \n",
       "926             23      205.25"
      ]
     },
     "execution_count": 23,
     "metadata": {},
     "output_type": "execute_result"
    }
   ],
   "source": [
    "chipo.groupby('order_id')[['quantity', 'item_price']].sum().sort_values(by='item_price', ascending=False)[:1]"
   ]
  },
  {
   "cell_type": "markdown",
   "id": "de7c2267",
   "metadata": {},
   "source": [
    "### [7] 'Veggie Salad Bowl'의 총 주문 횟수"
   ]
  },
  {
   "cell_type": "code",
   "execution_count": 24,
   "id": "720c5f4f",
   "metadata": {},
   "outputs": [
    {
     "data": {
      "text/plain": [
       "18"
      ]
     },
     "execution_count": 24,
     "metadata": {},
     "output_type": "execute_result"
    }
   ],
   "source": [
    "# 'Veggi Salad Bowl' 주문 추출\n",
    "veg_sal = chipo[chipo.item_name == 'Veggie Salad Bowl']\n",
    "# 한 주문 내에서 중복 집계된 메뉴 제거\n",
    "veg_sal = veg_sal.drop_duplicates(['item_name', 'order_id'])\n",
    "# 총 주문 횟수\n",
    "len(veg_sal)"
   ]
  },
  {
   "cell_type": "markdown",
   "id": "5ea281e8",
   "metadata": {},
   "source": [
    "### [8] 'Chicken Bowl'을 2개 이상 주문한 고객들의 'Chicken Bowl'메뉴에 대한 총 주문 수량"
   ]
  },
  {
   "cell_type": "code",
   "execution_count": 25,
   "id": "f939b203",
   "metadata": {},
   "outputs": [
    {
     "data": {
      "text/plain": [
       "33"
      ]
     },
     "execution_count": 25,
     "metadata": {},
     "output_type": "execute_result"
    }
   ],
   "source": [
    "len(chipo[(chipo.item_name == 'Chicken Bowl') & (chipo.quantity >= 2)])"
   ]
  },
  {
   "cell_type": "markdown",
   "id": "dae4f3a5",
   "metadata": {},
   "source": [
    "## 정리"
   ]
  },
  {
   "cell_type": "markdown",
   "id": "db45e526",
   "metadata": {},
   "source": [
    "- 가장 많이 주문된 아이템: Chicken Bowl\n",
    "- 주문된 전체 아이템 종류: 50개\n",
    "- 메뉴별 총 주문 수: 50개 중 상위 8개 정도의 아이템에 주문이 집중되었다.\n",
    "- 주문당 평균 계산 금액: 평균은 약 18달러이고 표준편차는 11로 나타났다. 25-75%에 해당하는 구간이 12-21달러이며 최대값이 200달러를 넘는 것으로 보아, 소수의 주문을 제외하면 대부분 평균 근처의 계산 금액을 보인다. 표준편차 11은 예외 처리를 통한 보정값을 계산할 여지가 있다.\n",
    "- 각 아이템의 대략적인 가격: 메뉴 가격은 대부분 2-4달러 혹은 6-8달러 정도이다."
   ]
  },
  {
   "cell_type": "markdown",
   "id": "30dac32b",
   "metadata": {},
   "source": [
    "# 예제) 국가별 음주 데이터 분석하기"
   ]
  },
  {
   "cell_type": "markdown",
   "id": "a56dd861",
   "metadata": {},
   "source": [
    "주제: 대한민국은 얼마나 술을 먹는 나라일까?"
   ]
  },
  {
   "cell_type": "markdown",
   "id": "9c93a50e",
   "metadata": {},
   "source": [
    "## 데이터 기초 정보 탐색"
   ]
  },
  {
   "cell_type": "code",
   "execution_count": 26,
   "id": "f39b5a0a",
   "metadata": {},
   "outputs": [
    {
     "name": "stdout",
     "output_type": "stream",
     "text": [
      "<class 'pandas.core.frame.DataFrame'>\n",
      "RangeIndex: 193 entries, 0 to 192\n",
      "Data columns (total 6 columns):\n",
      " #   Column                        Non-Null Count  Dtype  \n",
      "---  ------                        --------------  -----  \n",
      " 0   country                       193 non-null    object \n",
      " 1   beer_servings                 193 non-null    int64  \n",
      " 2   spirit_servings               193 non-null    int64  \n",
      " 3   wine_servings                 193 non-null    int64  \n",
      " 4   total_litres_of_pure_alcohol  193 non-null    float64\n",
      " 5   continent                     170 non-null    object \n",
      "dtypes: float64(1), int64(3), object(2)\n",
      "memory usage: 9.2+ KB\n",
      "None\n"
     ]
    },
    {
     "data": {
      "text/html": [
       "<div>\n",
       "<style scoped>\n",
       "    .dataframe tbody tr th:only-of-type {\n",
       "        vertical-align: middle;\n",
       "    }\n",
       "\n",
       "    .dataframe tbody tr th {\n",
       "        vertical-align: top;\n",
       "    }\n",
       "\n",
       "    .dataframe thead th {\n",
       "        text-align: right;\n",
       "    }\n",
       "</style>\n",
       "<table border=\"1\" class=\"dataframe\">\n",
       "  <thead>\n",
       "    <tr style=\"text-align: right;\">\n",
       "      <th></th>\n",
       "      <th>country</th>\n",
       "      <th>beer_servings</th>\n",
       "      <th>spirit_servings</th>\n",
       "      <th>wine_servings</th>\n",
       "      <th>total_litres_of_pure_alcohol</th>\n",
       "      <th>continent</th>\n",
       "    </tr>\n",
       "  </thead>\n",
       "  <tbody>\n",
       "    <tr>\n",
       "      <th>0</th>\n",
       "      <td>Afghanistan</td>\n",
       "      <td>0</td>\n",
       "      <td>0</td>\n",
       "      <td>0</td>\n",
       "      <td>0.0</td>\n",
       "      <td>AS</td>\n",
       "    </tr>\n",
       "    <tr>\n",
       "      <th>1</th>\n",
       "      <td>Albania</td>\n",
       "      <td>89</td>\n",
       "      <td>132</td>\n",
       "      <td>54</td>\n",
       "      <td>4.9</td>\n",
       "      <td>EU</td>\n",
       "    </tr>\n",
       "    <tr>\n",
       "      <th>2</th>\n",
       "      <td>Algeria</td>\n",
       "      <td>25</td>\n",
       "      <td>0</td>\n",
       "      <td>14</td>\n",
       "      <td>0.7</td>\n",
       "      <td>AF</td>\n",
       "    </tr>\n",
       "    <tr>\n",
       "      <th>3</th>\n",
       "      <td>Andorra</td>\n",
       "      <td>245</td>\n",
       "      <td>138</td>\n",
       "      <td>312</td>\n",
       "      <td>12.4</td>\n",
       "      <td>EU</td>\n",
       "    </tr>\n",
       "    <tr>\n",
       "      <th>4</th>\n",
       "      <td>Angola</td>\n",
       "      <td>217</td>\n",
       "      <td>57</td>\n",
       "      <td>45</td>\n",
       "      <td>5.9</td>\n",
       "      <td>AF</td>\n",
       "    </tr>\n",
       "  </tbody>\n",
       "</table>\n",
       "</div>"
      ],
      "text/plain": [
       "       country  beer_servings  spirit_servings  wine_servings  \\\n",
       "0  Afghanistan              0                0              0   \n",
       "1      Albania             89              132             54   \n",
       "2      Algeria             25                0             14   \n",
       "3      Andorra            245              138            312   \n",
       "4       Angola            217               57             45   \n",
       "\n",
       "   total_litres_of_pure_alcohol continent  \n",
       "0                           0.0        AS  \n",
       "1                           4.9        EU  \n",
       "2                           0.7        AF  \n",
       "3                          12.4        EU  \n",
       "4                           5.9        AF  "
      ]
     },
     "execution_count": 26,
     "metadata": {},
     "output_type": "execute_result"
    }
   ],
   "source": [
    "# 라이브러리 불러오기\n",
    "import pandas as pd\n",
    "import numpy as np\n",
    "import matplotlib.pyplot as plt\n",
    "\n",
    "# 데이터 가져오기\n",
    "file_path2 = 'Desktop/python-data-analysis-master/data/drinks.csv'\n",
    "drinks = pd.read_csv(file_path2)\n",
    "\n",
    "print(drinks.info())\n",
    "drinks.head()"
   ]
  },
  {
   "cell_type": "code",
   "execution_count": 27,
   "id": "535b5847",
   "metadata": {},
   "outputs": [
    {
     "data": {
      "text/html": [
       "<div>\n",
       "<style scoped>\n",
       "    .dataframe tbody tr th:only-of-type {\n",
       "        vertical-align: middle;\n",
       "    }\n",
       "\n",
       "    .dataframe tbody tr th {\n",
       "        vertical-align: top;\n",
       "    }\n",
       "\n",
       "    .dataframe thead th {\n",
       "        text-align: right;\n",
       "    }\n",
       "</style>\n",
       "<table border=\"1\" class=\"dataframe\">\n",
       "  <thead>\n",
       "    <tr style=\"text-align: right;\">\n",
       "      <th></th>\n",
       "      <th>beer_servings</th>\n",
       "      <th>spirit_servings</th>\n",
       "      <th>wine_servings</th>\n",
       "      <th>total_litres_of_pure_alcohol</th>\n",
       "    </tr>\n",
       "  </thead>\n",
       "  <tbody>\n",
       "    <tr>\n",
       "      <th>count</th>\n",
       "      <td>193.000000</td>\n",
       "      <td>193.000000</td>\n",
       "      <td>193.000000</td>\n",
       "      <td>193.000000</td>\n",
       "    </tr>\n",
       "    <tr>\n",
       "      <th>mean</th>\n",
       "      <td>106.160622</td>\n",
       "      <td>80.994819</td>\n",
       "      <td>49.450777</td>\n",
       "      <td>4.717098</td>\n",
       "    </tr>\n",
       "    <tr>\n",
       "      <th>std</th>\n",
       "      <td>101.143103</td>\n",
       "      <td>88.284312</td>\n",
       "      <td>79.697598</td>\n",
       "      <td>3.773298</td>\n",
       "    </tr>\n",
       "    <tr>\n",
       "      <th>min</th>\n",
       "      <td>0.000000</td>\n",
       "      <td>0.000000</td>\n",
       "      <td>0.000000</td>\n",
       "      <td>0.000000</td>\n",
       "    </tr>\n",
       "    <tr>\n",
       "      <th>25%</th>\n",
       "      <td>20.000000</td>\n",
       "      <td>4.000000</td>\n",
       "      <td>1.000000</td>\n",
       "      <td>1.300000</td>\n",
       "    </tr>\n",
       "    <tr>\n",
       "      <th>50%</th>\n",
       "      <td>76.000000</td>\n",
       "      <td>56.000000</td>\n",
       "      <td>8.000000</td>\n",
       "      <td>4.200000</td>\n",
       "    </tr>\n",
       "    <tr>\n",
       "      <th>75%</th>\n",
       "      <td>188.000000</td>\n",
       "      <td>128.000000</td>\n",
       "      <td>59.000000</td>\n",
       "      <td>7.200000</td>\n",
       "    </tr>\n",
       "    <tr>\n",
       "      <th>max</th>\n",
       "      <td>376.000000</td>\n",
       "      <td>438.000000</td>\n",
       "      <td>370.000000</td>\n",
       "      <td>14.400000</td>\n",
       "    </tr>\n",
       "  </tbody>\n",
       "</table>\n",
       "</div>"
      ],
      "text/plain": [
       "       beer_servings  spirit_servings  wine_servings  \\\n",
       "count     193.000000       193.000000     193.000000   \n",
       "mean      106.160622        80.994819      49.450777   \n",
       "std       101.143103        88.284312      79.697598   \n",
       "min         0.000000         0.000000       0.000000   \n",
       "25%        20.000000         4.000000       1.000000   \n",
       "50%        76.000000        56.000000       8.000000   \n",
       "75%       188.000000       128.000000      59.000000   \n",
       "max       376.000000       438.000000     370.000000   \n",
       "\n",
       "       total_litres_of_pure_alcohol  \n",
       "count                    193.000000  \n",
       "mean                       4.717098  \n",
       "std                        3.773298  \n",
       "min                        0.000000  \n",
       "25%                        1.300000  \n",
       "50%                        4.200000  \n",
       "75%                        7.200000  \n",
       "max                       14.400000  "
      ]
     },
     "execution_count": 27,
     "metadata": {},
     "output_type": "execute_result"
    }
   ],
   "source": [
    "# 피처의 수치적 정보 확인\n",
    "drinks.describe()"
   ]
  },
  {
   "cell_type": "markdown",
   "id": "8029bd00",
   "metadata": {},
   "source": [
    "## 인사이트의 발견: 탐색과 시각화하기"
   ]
  },
  {
   "cell_type": "markdown",
   "id": "23eff730",
   "metadata": {},
   "source": [
    "**상관분석**\n",
    "- 두 변수 간의 선형적 관계를 상관 계수로 표현하는 것\n",
    "- 공분산의 개념을 포함한다\n",
    "- <u>공분산</u>: 2개의 확률 변수에 대한 상관 정도. 2개의 변수 중 하나의 값이 상승하는 경향을 보일 때 다른 값도 상승하는 경향을 수치로 나타낸 것.\n",
    "- 하지만 공분산만으로 두 확률 변수의 상관 관계를 구한다면 두 변수의 <u>단위 크기</u>에 영향을 받을 수 있다.\n",
    "- 따라서 이를 -1과 1사이의 값으로 변환하고 이를 '상관 계수'라고 한다.\n",
    "- 만약 상관 계수가 1에 가깝다면 서로 강한 양의 상관 관계가 있는 것이고, -1에 가깝다면 음의 상관 관계가 있는 것이다."
   ]
  },
  {
   "cell_type": "markdown",
   "id": "0c2a4417",
   "metadata": {},
   "source": [
    "상관 관계를 살펴볼 대상은  \n",
    "beer, wine, spirit_servings, total_litres_of_pure_alcohol 4개의 피처이다.  \n",
    "이 피처는 술의 종류만 다를 뿐, 결국에는 비슷한 의미를 가지기 때문이다."
   ]
  },
  {
   "cell_type": "code",
   "execution_count": null,
   "id": "dce8cbf8",
   "metadata": {},
   "outputs": [],
   "source": [
    "# [1] 맥주와 와인 소비량의 상관 관계\n",
    "corr = drinks[['beer_servings', 'wine_servings']].corr(method='pearson')\n",
    "# pearson: 상관 계수를 구하는 계산 방법 중 하나. 가장 널리 쓰인다.\n",
    "print(corr)"
   ]
  },
  {
   "cell_type": "markdown",
   "id": "b7d32010",
   "metadata": {},
   "source": [
    "두 피처 간의 상관 계수: 0.52"
   ]
  },
  {
   "cell_type": "code",
   "execution_count": 29,
   "id": "76d3df07",
   "metadata": {},
   "outputs": [
    {
     "name": "stdout",
     "output_type": "stream",
     "text": [
      "                              beer_servings  spirit_servings  wine_servings  \\\n",
      "beer_servings                      1.000000         0.458819       0.527172   \n",
      "spirit_servings                    0.458819         1.000000       0.194797   \n",
      "wine_servings                      0.527172         0.194797       1.000000   \n",
      "total_litres_of_pure_alcohol       0.835839         0.654968       0.667598   \n",
      "\n",
      "                              total_litres_of_pure_alcohol  \n",
      "beer_servings                                     0.835839  \n",
      "spirit_servings                                   0.654968  \n",
      "wine_servings                                     0.667598  \n",
      "total_litres_of_pure_alcohol                      1.000000  \n"
     ]
    }
   ],
   "source": [
    "# [2] 모든 피처들을 각각 1대 1로 비교하기\n",
    "cols = ['beer_servings', 'spirit_servings', 'wine_servings', 'total_litres_of_pure_alcohol']\n",
    "corr4 = drinks[cols].corr(method='pearson')\n",
    "print(corr4)"
   ]
  },
  {
   "cell_type": "markdown",
   "id": "157f2948",
   "metadata": {},
   "source": [
    "파이썬 라이브러리 seaborn을 사용해서 heatmap과 pairplot으로 시각화를 할 수 있다."
   ]
  },
  {
   "cell_type": "code",
   "execution_count": 30,
   "id": "5d409723",
   "metadata": {},
   "outputs": [],
   "source": [
    "# seaborn, matplotlib 불러오기\n",
    "import seaborn as sns\n",
    "import matplotlib.pyplot as plt"
   ]
  },
  {
   "cell_type": "code",
   "execution_count": 31,
   "id": "4fcc3dc0",
   "metadata": {},
   "outputs": [
    {
     "data": {
      "image/png": "[encoded data removed]",
      "text/plain": [
       "<Figure size 640x480 with 2 Axes>"
      ]
     },
     "metadata": {},
     "output_type": "display_data"
    },
    {
     "data": {
      "image/png": "[encoded data removed]",
      "text/plain": [
       "<Figure size 800x800 with 20 Axes>"
      ]
     },
     "metadata": {},
     "output_type": "display_data"
    }
   ],
   "source": [
    "# heatmap\n",
    "cols_name = ['bear', 'spirit', 'wine', 'alcohol']\n",
    "sns.set(font_scale=1.5) # cols_name 폰트 크기\n",
    "hm = sns.heatmap(corr4.values, # rectangular data set\n",
    "                cbar = True, # Whether to draw a colorbar.\n",
    "                annot = True, # (annotate) 각 cell에 값 표시\n",
    "                square = True, # If True, set the Axes aspect to “equal” so each cell will be square-shaped.\n",
    "                fmt = '.2f', # 소수점 둘째자리 까지 표시\n",
    "                annot_kws = {'size': 15},# (keyword arguments) annote 폰트 크기\n",
    "                yticklabels = cols_name, # y축 라벨\n",
    "                xticklabels = cols_name) # x축 라벨\n",
    "\n",
    "plt.tight_layout() # Adjust the padding between and around subplots\n",
    "plt.show()\n",
    "\n",
    "# pairplot 산점도 그래프 \n",
    "sns.set(style='whitegrid', context='notebook')\n",
    "sns.pairplot(drinks[cols], height=2)\n",
    "plt.show()"
   ]
  },
  {
   "cell_type": "markdown",
   "id": "4b35e432",
   "metadata": {},
   "source": [
    "## 데이터 전처리"
   ]
  },
  {
   "cell_type": "code",
   "execution_count": 32,
   "id": "e3a60909",
   "metadata": {},
   "outputs": [
    {
     "data": {
      "text/html": [
       "<div>\n",
       "<style scoped>\n",
       "    .dataframe tbody tr th:only-of-type {\n",
       "        vertical-align: middle;\n",
       "    }\n",
       "\n",
       "    .dataframe tbody tr th {\n",
       "        vertical-align: top;\n",
       "    }\n",
       "\n",
       "    .dataframe thead th {\n",
       "        text-align: right;\n",
       "    }\n",
       "</style>\n",
       "<table border=\"1\" class=\"dataframe\">\n",
       "  <thead>\n",
       "    <tr style=\"text-align: right;\">\n",
       "      <th></th>\n",
       "      <th>country</th>\n",
       "      <th>beer_servings</th>\n",
       "      <th>spirit_servings</th>\n",
       "      <th>wine_servings</th>\n",
       "      <th>total_litres_of_pure_alcohol</th>\n",
       "      <th>continent</th>\n",
       "    </tr>\n",
       "  </thead>\n",
       "  <tbody>\n",
       "    <tr>\n",
       "      <th>0</th>\n",
       "      <td>Afghanistan</td>\n",
       "      <td>0</td>\n",
       "      <td>0</td>\n",
       "      <td>0</td>\n",
       "      <td>0.0</td>\n",
       "      <td>AS</td>\n",
       "    </tr>\n",
       "    <tr>\n",
       "      <th>1</th>\n",
       "      <td>Albania</td>\n",
       "      <td>89</td>\n",
       "      <td>132</td>\n",
       "      <td>54</td>\n",
       "      <td>4.9</td>\n",
       "      <td>EU</td>\n",
       "    </tr>\n",
       "    <tr>\n",
       "      <th>2</th>\n",
       "      <td>Algeria</td>\n",
       "      <td>25</td>\n",
       "      <td>0</td>\n",
       "      <td>14</td>\n",
       "      <td>0.7</td>\n",
       "      <td>AF</td>\n",
       "    </tr>\n",
       "    <tr>\n",
       "      <th>3</th>\n",
       "      <td>Andorra</td>\n",
       "      <td>245</td>\n",
       "      <td>138</td>\n",
       "      <td>312</td>\n",
       "      <td>12.4</td>\n",
       "      <td>EU</td>\n",
       "    </tr>\n",
       "    <tr>\n",
       "      <th>4</th>\n",
       "      <td>Angola</td>\n",
       "      <td>217</td>\n",
       "      <td>57</td>\n",
       "      <td>45</td>\n",
       "      <td>5.9</td>\n",
       "      <td>AF</td>\n",
       "    </tr>\n",
       "    <tr>\n",
       "      <th>5</th>\n",
       "      <td>Antigua &amp; Barbuda</td>\n",
       "      <td>102</td>\n",
       "      <td>128</td>\n",
       "      <td>45</td>\n",
       "      <td>4.9</td>\n",
       "      <td>OT</td>\n",
       "    </tr>\n",
       "    <tr>\n",
       "      <th>6</th>\n",
       "      <td>Argentina</td>\n",
       "      <td>193</td>\n",
       "      <td>25</td>\n",
       "      <td>221</td>\n",
       "      <td>8.3</td>\n",
       "      <td>SA</td>\n",
       "    </tr>\n",
       "    <tr>\n",
       "      <th>7</th>\n",
       "      <td>Armenia</td>\n",
       "      <td>21</td>\n",
       "      <td>179</td>\n",
       "      <td>11</td>\n",
       "      <td>3.8</td>\n",
       "      <td>EU</td>\n",
       "    </tr>\n",
       "    <tr>\n",
       "      <th>8</th>\n",
       "      <td>Australia</td>\n",
       "      <td>261</td>\n",
       "      <td>72</td>\n",
       "      <td>212</td>\n",
       "      <td>10.4</td>\n",
       "      <td>OC</td>\n",
       "    </tr>\n",
       "    <tr>\n",
       "      <th>9</th>\n",
       "      <td>Austria</td>\n",
       "      <td>279</td>\n",
       "      <td>75</td>\n",
       "      <td>191</td>\n",
       "      <td>9.7</td>\n",
       "      <td>EU</td>\n",
       "    </tr>\n",
       "  </tbody>\n",
       "</table>\n",
       "</div>"
      ],
      "text/plain": [
       "             country  beer_servings  spirit_servings  wine_servings  \\\n",
       "0        Afghanistan              0                0              0   \n",
       "1            Albania             89              132             54   \n",
       "2            Algeria             25                0             14   \n",
       "3            Andorra            245              138            312   \n",
       "4             Angola            217               57             45   \n",
       "5  Antigua & Barbuda            102              128             45   \n",
       "6          Argentina            193               25            221   \n",
       "7            Armenia             21              179             11   \n",
       "8          Australia            261               72            212   \n",
       "9            Austria            279               75            191   \n",
       "\n",
       "   total_litres_of_pure_alcohol continent  \n",
       "0                           0.0        AS  \n",
       "1                           4.9        EU  \n",
       "2                           0.7        AF  \n",
       "3                          12.4        EU  \n",
       "4                           5.9        AF  \n",
       "5                           4.9        OT  \n",
       "6                           8.3        SA  \n",
       "7                           3.8        EU  \n",
       "8                          10.4        OC  \n",
       "9                           9.7        EU  "
      ]
     },
     "execution_count": 32,
     "metadata": {},
     "output_type": "execute_result"
    }
   ],
   "source": [
    "# 결측 데이터 처리\n",
    "# 현재 continent에만 존재하는 결츨치를 'Others', 줄여서 'OT'로 새롭게 정의\n",
    "drinks['continent'] = drinks['continent'].fillna('OT')\n",
    "drinks.head(10)"
   ]
  },
  {
   "cell_type": "code",
   "execution_count": 33,
   "id": "e77719e1",
   "metadata": {},
   "outputs": [
    {
     "data": {
      "image/png": "[encoded data removed]",
      "text/plain": [
       "<Figure size 640x480 with 1 Axes>"
      ]
     },
     "metadata": {},
     "output_type": "display_data"
    }
   ],
   "source": [
    "# OT가 차지하는 비율을 파이차트로 시각화\n",
    "labels = drinks['continent'].value_counts().index.tolist() # labels에 대륙 이름을 리스트로 저장\n",
    "fracs1 = drinks['continent'].value_counts().values.tolist() # fracs1에 대륙별 count된 수를 리스트로 저장\n",
    "explode = (0, 0, 0, 0.25, 0, 0) # 파이에서 분리할 정도를 나타낸다. 여기서 0.25의 위치가 fracs1에서 OT 위치와 같다.\n",
    "\n",
    "plt.pie(fracs1, \n",
    "        explode=explode, \n",
    "        labels=labels, \n",
    "        autopct='%.0f%%') # 파이 조각별 비율 표시\n",
    "plt.title('null data to \\'OT\\'')\n",
    "plt.show()"
   ]
  },
  {
   "cell_type": "code",
   "execution_count": 34,
   "id": "a8a57e8b",
   "metadata": {},
   "outputs": [
    {
     "data": {
      "text/plain": [
       "['AF', 'EU', 'AS', 'OT', 'OC', 'SA']"
      ]
     },
     "execution_count": 34,
     "metadata": {},
     "output_type": "execute_result"
    }
   ],
   "source": [
    "labels"
   ]
  },
  {
   "cell_type": "code",
   "execution_count": 35,
   "id": "89488914",
   "metadata": {},
   "outputs": [
    {
     "data": {
      "text/plain": [
       "[53, 45, 44, 23, 16, 12]"
      ]
     },
     "execution_count": 35,
     "metadata": {},
     "output_type": "execute_result"
    }
   ],
   "source": [
    "fracs1"
   ]
  },
  {
   "cell_type": "markdown",
   "id": "1dfd8b3e",
   "metadata": {},
   "source": [
    "## 탐색적 분석: 스무고개로 개념적 탐색 분석하기 "
   ]
  },
  {
   "cell_type": "markdown",
   "id": "f2ce1f38",
   "metadata": {},
   "source": [
    "### 대륙별 spirit_servings의 통계적 정보는 어느 정도일까?"
   ]
  },
  {
   "cell_type": "markdown",
   "id": "30197d80",
   "metadata": {},
   "source": [
    "**agg()함수**를 사용하여 대륙 단위로 분석을 수행할 수 있다.\n",
    "agg()함수는 apply()함수와 거의 동일한 기능을 하지만,   \n",
    "apply()에 들어가는 함수 파라미터를 **병렬**로 설정하여 **그룹에 대한 여러 가지 연산 결과를 동시에 얻을 수 있는 함수**이다."
   ]
  },
  {
   "cell_type": "code",
   "execution_count": 36,
   "id": "16c93a5e",
   "metadata": {},
   "outputs": [
    {
     "data": {
      "text/html": [
       "<div>\n",
       "<style scoped>\n",
       "    .dataframe tbody tr th:only-of-type {\n",
       "        vertical-align: middle;\n",
       "    }\n",
       "\n",
       "    .dataframe tbody tr th {\n",
       "        vertical-align: top;\n",
       "    }\n",
       "\n",
       "    .dataframe thead th {\n",
       "        text-align: right;\n",
       "    }\n",
       "</style>\n",
       "<table border=\"1\" class=\"dataframe\">\n",
       "  <thead>\n",
       "    <tr style=\"text-align: right;\">\n",
       "      <th></th>\n",
       "      <th>mean</th>\n",
       "      <th>min</th>\n",
       "      <th>max</th>\n",
       "      <th>sum</th>\n",
       "    </tr>\n",
       "    <tr>\n",
       "      <th>continent</th>\n",
       "      <th></th>\n",
       "      <th></th>\n",
       "      <th></th>\n",
       "      <th></th>\n",
       "    </tr>\n",
       "  </thead>\n",
       "  <tbody>\n",
       "    <tr>\n",
       "      <th>AF</th>\n",
       "      <td>16.339623</td>\n",
       "      <td>0</td>\n",
       "      <td>152</td>\n",
       "      <td>866</td>\n",
       "    </tr>\n",
       "    <tr>\n",
       "      <th>AS</th>\n",
       "      <td>60.840909</td>\n",
       "      <td>0</td>\n",
       "      <td>326</td>\n",
       "      <td>2677</td>\n",
       "    </tr>\n",
       "    <tr>\n",
       "      <th>EU</th>\n",
       "      <td>132.555556</td>\n",
       "      <td>0</td>\n",
       "      <td>373</td>\n",
       "      <td>5965</td>\n",
       "    </tr>\n",
       "    <tr>\n",
       "      <th>OC</th>\n",
       "      <td>58.437500</td>\n",
       "      <td>0</td>\n",
       "      <td>254</td>\n",
       "      <td>935</td>\n",
       "    </tr>\n",
       "    <tr>\n",
       "      <th>OT</th>\n",
       "      <td>165.739130</td>\n",
       "      <td>68</td>\n",
       "      <td>438</td>\n",
       "      <td>3812</td>\n",
       "    </tr>\n",
       "  </tbody>\n",
       "</table>\n",
       "</div>"
      ],
      "text/plain": [
       "                 mean  min  max   sum\n",
       "continent                            \n",
       "AF          16.339623    0  152   866\n",
       "AS          60.840909    0  326  2677\n",
       "EU         132.555556    0  373  5965\n",
       "OC          58.437500    0  254   935\n",
       "OT         165.739130   68  438  3812"
      ]
     },
     "execution_count": 36,
     "metadata": {},
     "output_type": "execute_result"
    }
   ],
   "source": [
    "# 대륙별 spirit_servings의 평균, 최소, 최대, 합계 계산\n",
    "result = drinks.groupby('continent')['spirit_servings'].agg(['mean', 'min', 'max', 'sum'])\n",
    "result.head()"
   ]
  },
  {
   "cell_type": "markdown",
   "id": "c514b7c9",
   "metadata": {},
   "source": [
    "OT를 제외하고 유럽이 제일 많이 spirit을 마신다."
   ]
  },
  {
   "cell_type": "code",
   "execution_count": 37,
   "id": "8d188ded",
   "metadata": {},
   "outputs": [
    {
     "data": {
      "image/png": "[encoded data removed]",
      "text/plain": [
       "<Figure size 640x480 with 1 Axes>"
      ]
     },
     "metadata": {},
     "output_type": "display_data"
    }
   ],
   "source": [
    "# 대륙별 spirit_servings 통계 정보 시각화\n",
    "n_groups = len(result.index)\n",
    "means = result['mean'].tolist()\n",
    "mins = result['min'].tolist()\n",
    "maxs = result['max'].tolist()\n",
    "sums = result['sum'].tolist()\n",
    "\n",
    "index = np.arange(n_groups)\n",
    "bar_width = 0.1\n",
    "\n",
    "rects1 = plt.bar(index, means, bar_width, color='r', label='Mean')\n",
    "rects2 = plt.bar(index + bar_width, mins, bar_width, color='g', label='Min')\n",
    "rects3 = plt.bar(index + bar_width * 2, maxs, bar_width, color='b', label='Max')\n",
    "rects4 = plt.bar(index + bar_width * 3, sums, bar_width, color='y', label='Sum')\n",
    "\n",
    "plt.xticks(index, result.index.tolist()) # x축 index를 대륙명으로 변경\n",
    "plt.legend()\n",
    "plt.title('spirit_servings by continents')\n",
    "plt.show()"
   ]
  },
  {
   "cell_type": "markdown",
   "id": "17ad4ac8",
   "metadata": {},
   "source": [
    "### 전체 평균보다 많은 알코올을 섭취하는 대륙은 어디일까?"
   ]
  },
  {
   "cell_type": "code",
   "execution_count": 38,
   "id": "56d7b926",
   "metadata": {},
   "outputs": [
    {
     "name": "stdout",
     "output_type": "stream",
     "text": [
      "4.717098445595855\n",
      "continent\n",
      "EU    8.617778\n",
      "OT    5.995652\n",
      "SA    6.308333\n",
      "Name: total_litres_of_pure_alcohol, dtype: float64\n"
     ]
    }
   ],
   "source": [
    "# 전체 알코올 섭취 평균\n",
    "total_mean = drinks['total_litres_of_pure_alcohol'].mean()\n",
    "# 대륙별 알코올 섭취 평균\n",
    "continent_mean = drinks.groupby('continent')['total_litres_of_pure_alcohol'].mean() \n",
    "# 전체 평균보다 많은 알코올을 섭취하는 대륙\n",
    "continent_over_mean = continent_mean[continent_mean > total_mean]\n",
    "print(total_mean)\n",
    "print(continent_over_mean)"
   ]
  },
  {
   "cell_type": "markdown",
   "id": "8b04fa36",
   "metadata": {},
   "source": [
    "OT를 제외하고, 유럽, 남미의 알콜 섭취량이 전체 평균보다 높다."
   ]
  },
  {
   "cell_type": "code",
   "execution_count": 39,
   "id": "88cbe7ab",
   "metadata": {},
   "outputs": [
    {
     "data": {
      "image/png": "[encoded data removed]",
      "text/plain": [
       "<Figure size 640x480 with 1 Axes>"
      ]
     },
     "metadata": {},
     "output_type": "display_data"
    }
   ],
   "source": [
    "# 대륙별 알코올 섭취량 시각화\n",
    "continents = continent_mean.index.tolist() # 대륙 이름 리스트\n",
    "continents.append('mean') # 대륙 이름 리스트에 'mean' 추가\n",
    "x_pos = np.arange(len(continents)) # x축 index\n",
    "alcohol = continent_mean.values.tolist() # 대륙별 알코올 섭취량 리스트\n",
    "alcohol.append(total_mean) # 대륙별 알코올 섭취량 리스트에 전체 평균 섭취량 추가\n",
    "\n",
    "bar_list = plt.bar(x_pos, alcohol, align='center', alpha=0.5) # alpha: 막대기 선명도\n",
    "bar_list[len(continents) - 1].set_color('r') # 마지막 막대기 r색으로 변경\n",
    "plt.plot([0., 6], [total_mean, total_mean], \"k--\") # k색 --점선 추가 # plot([x시작점, x끝점], [y시작점, y끝점], 스타일)\n",
    "plt.xticks(x_pos, continents) # x축 index를 대륙명으로 변경\n",
    "\n",
    "plt.ylabel('total_litres_of_pure_alcohol')\n",
    "plt.title('total_litres_of_pure_alcohol by Continent')\n",
    "plt.show()"
   ]
  },
  {
   "cell_type": "markdown",
   "id": "a8af53f2",
   "metadata": {},
   "source": [
    "### 평균 beer_servings가 가장 높은 대륙은 어디일까?"
   ]
  },
  {
   "cell_type": "code",
   "execution_count": 40,
   "id": "8e3e8bda",
   "metadata": {},
   "outputs": [
    {
     "name": "stdout",
     "output_type": "stream",
     "text": [
      "EU\n"
     ]
    }
   ],
   "source": [
    "beer_continent = drinks.groupby('continent')['beer_servings'].mean().idxmax()\n",
    "# idxmax()는 시리즈 객체에서 값이 가장 큰 index를 반환한다.\n",
    "print(beer_continent)"
   ]
  },
  {
   "cell_type": "markdown",
   "id": "5fa65c40",
   "metadata": {},
   "source": [
    "맥주를 가장 좋아하는 대륙은 유럽이다."
   ]
  },
  {
   "cell_type": "code",
   "execution_count": 41,
   "id": "828cf514",
   "metadata": {},
   "outputs": [
    {
     "data": {
      "image/png": "[encoded data removed]",
      "text/plain": [
       "<Figure size 640x480 with 1 Axes>"
      ]
     },
     "metadata": {},
     "output_type": "display_data"
    }
   ],
   "source": [
    "# 대륙별 beer_servings 시각화\n",
    "beer_group = drinks.groupby('continent')['beer_servings'].sum() # 대륙별 맥주 소비량\n",
    "continents = beer_group.index.tolist() # 대륙 이름 리스트\n",
    "y_pos = np.arange(len(continents)) # x축 index\n",
    "alcohol = beer_group.tolist() # 대륙별 맥주 소비량 리스트\n",
    "\n",
    "bar_list = plt.bar(y_pos, alcohol, align='center', alpha=0.5)\n",
    "bar_list[(continents.index(\"EU\"))].set_color('r')\n",
    "plt.xticks(y_pos, continents)\n",
    "plt.ylabel('beer_servings')\n",
    "plt.title('beer_servings by Continent')\n",
    "plt.show()"
   ]
  },
  {
   "cell_type": "markdown",
   "id": "f7dff699",
   "metadata": {},
   "source": [
    "### 대륙별 평균 wine_servings 피처 생성"
   ]
  },
  {
   "cell_type": "code",
   "execution_count": 97,
   "id": "6b493c2a",
   "metadata": {},
   "outputs": [
    {
     "data": {
      "text/html": [
       "<div>\n",
       "<style scoped>\n",
       "    .dataframe tbody tr th:only-of-type {\n",
       "        vertical-align: middle;\n",
       "    }\n",
       "\n",
       "    .dataframe tbody tr th {\n",
       "        vertical-align: top;\n",
       "    }\n",
       "\n",
       "    .dataframe thead th {\n",
       "        text-align: right;\n",
       "    }\n",
       "</style>\n",
       "<table border=\"1\" class=\"dataframe\">\n",
       "  <thead>\n",
       "    <tr style=\"text-align: right;\">\n",
       "      <th></th>\n",
       "      <th>country</th>\n",
       "      <th>continent</th>\n",
       "      <th>wine_servings_cont_avg</th>\n",
       "    </tr>\n",
       "  </thead>\n",
       "  <tbody>\n",
       "    <tr>\n",
       "      <th>23</th>\n",
       "      <td>Brazil</td>\n",
       "      <td>SA</td>\n",
       "      <td>62.416667</td>\n",
       "    </tr>\n",
       "    <tr>\n",
       "      <th>92</th>\n",
       "      <td>Laos</td>\n",
       "      <td>AS</td>\n",
       "      <td>9.068182</td>\n",
       "    </tr>\n",
       "    <tr>\n",
       "      <th>0</th>\n",
       "      <td>Afghanistan</td>\n",
       "      <td>AS</td>\n",
       "      <td>9.068182</td>\n",
       "    </tr>\n",
       "    <tr>\n",
       "      <th>60</th>\n",
       "      <td>Finland</td>\n",
       "      <td>EU</td>\n",
       "      <td>142.222222</td>\n",
       "    </tr>\n",
       "    <tr>\n",
       "      <th>165</th>\n",
       "      <td>Sweden</td>\n",
       "      <td>EU</td>\n",
       "      <td>142.222222</td>\n",
       "    </tr>\n",
       "  </tbody>\n",
       "</table>\n",
       "</div>"
      ],
      "text/plain": [
       "         country continent  wine_servings_cont_avg\n",
       "23        Brazil        SA               62.416667\n",
       "92          Laos        AS                9.068182\n",
       "0    Afghanistan        AS                9.068182\n",
       "60       Finland        EU              142.222222\n",
       "165       Sweden        EU              142.222222"
      ]
     },
     "execution_count": 97,
     "metadata": {},
     "output_type": "execute_result"
    }
   ],
   "source": [
    "wine_continent = drinks.groupby('continent')['wine_servings'].mean() # 대륙별 와인 평균 소비량\n",
    "wine_avg = wine_continent.to_frame().reset_index() # 타입 변경 series -> data frame\n",
    "wine_avg = wine_avg.rename(columns=['wine_servings':'wine_servings_cont_avg']) # 컬럼명 변경 (columns=[old:new])\n",
    "drinks = pd.merge(drinks, wine_avg, on='continent', how='outer') # 기존 drinks와 wine_avg 병합\n",
    "\n",
    "# 위와 같은 방법의 코드\n",
    "drinks['wine_servings_cont_avg'] = drinks.groupby('continent')['wine_servings'].transform(np.mean)\n",
    "# np.mean <-> 'mean'\n",
    "\n",
    "# 결과 출력\n",
    "drinks[['country', 'continent', 'wine_servings_cont_avg']].sample(5).head()"
   ]
  },
  {
   "cell_type": "markdown",
   "id": "4a9cbb86",
   "metadata": {},
   "source": [
    "### 국가별 total_servings 피처 생성 (!= 대륙별)"
   ]
  },
  {
   "cell_type": "code",
   "execution_count": 101,
   "id": "0083b531",
   "metadata": {},
   "outputs": [
    {
     "data": {
      "text/html": [
       "<div>\n",
       "<style scoped>\n",
       "    .dataframe tbody tr th:only-of-type {\n",
       "        vertical-align: middle;\n",
       "    }\n",
       "\n",
       "    .dataframe tbody tr th {\n",
       "        vertical-align: top;\n",
       "    }\n",
       "\n",
       "    .dataframe thead th {\n",
       "        text-align: right;\n",
       "    }\n",
       "</style>\n",
       "<table border=\"1\" class=\"dataframe\">\n",
       "  <thead>\n",
       "    <tr style=\"text-align: right;\">\n",
       "      <th></th>\n",
       "      <th>country</th>\n",
       "      <th>beer_servings</th>\n",
       "      <th>wine_servings</th>\n",
       "      <th>spirit_servings</th>\n",
       "      <th>total_servings</th>\n",
       "    </tr>\n",
       "  </thead>\n",
       "  <tbody>\n",
       "    <tr>\n",
       "      <th>5</th>\n",
       "      <td>Antigua &amp; Barbuda</td>\n",
       "      <td>102</td>\n",
       "      <td>45</td>\n",
       "      <td>128</td>\n",
       "      <td>275</td>\n",
       "    </tr>\n",
       "    <tr>\n",
       "      <th>102</th>\n",
       "      <td>Malaysia</td>\n",
       "      <td>13</td>\n",
       "      <td>0</td>\n",
       "      <td>4</td>\n",
       "      <td>17</td>\n",
       "    </tr>\n",
       "    <tr>\n",
       "      <th>91</th>\n",
       "      <td>Kyrgyzstan</td>\n",
       "      <td>31</td>\n",
       "      <td>6</td>\n",
       "      <td>97</td>\n",
       "      <td>134</td>\n",
       "    </tr>\n",
       "    <tr>\n",
       "      <th>160</th>\n",
       "      <td>Spain</td>\n",
       "      <td>284</td>\n",
       "      <td>112</td>\n",
       "      <td>157</td>\n",
       "      <td>553</td>\n",
       "    </tr>\n",
       "    <tr>\n",
       "      <th>21</th>\n",
       "      <td>Bosnia-Herzegovina</td>\n",
       "      <td>76</td>\n",
       "      <td>8</td>\n",
       "      <td>173</td>\n",
       "      <td>257</td>\n",
       "    </tr>\n",
       "  </tbody>\n",
       "</table>\n",
       "</div>"
      ],
      "text/plain": [
       "                country  beer_servings  wine_servings  spirit_servings  \\\n",
       "5     Antigua & Barbuda            102             45              128   \n",
       "102            Malaysia             13              0                4   \n",
       "91           Kyrgyzstan             31              6               97   \n",
       "160               Spain            284            112              157   \n",
       "21   Bosnia-Herzegovina             76              8              173   \n",
       "\n",
       "     total_servings  \n",
       "5               275  \n",
       "102              17  \n",
       "91              134  \n",
       "160             553  \n",
       "21              257  "
      ]
     },
     "execution_count": 101,
     "metadata": {},
     "output_type": "execute_result"
    }
   ],
   "source": [
    "drinks['total_servings'] = drinks['beer_servings'] + drinks['wine_servings'] + drinks['spirit_servings']\n",
    "\n",
    "drinks[['country', 'beer_servings', 'wine_servings', 'spirit_servings', 'total_servings']].sample(5).head()"
   ]
  },
  {
   "cell_type": "markdown",
   "id": "732708fc",
   "metadata": {},
   "source": [
    "### 전체 평균보다 적은 알코올을 마시는 대륙 중, spirit를 가장 많이 마시는 국가"
   ]
  },
  {
   "cell_type": "code",
   "execution_count": 123,
   "id": "fa446ba4",
   "metadata": {},
   "outputs": [
    {
     "name": "stdout",
     "output_type": "stream",
     "text": [
      "country                         Russian Federation\n",
      "beer_servings                                  247\n",
      "spirit_servings                                326\n",
      "wine_servings                                   73\n",
      "total_litres_of_pure_alcohol                  11.5\n",
      "continent                                       AS\n",
      "total_servings                                 646\n",
      "alcohol_rate                              0.017802\n",
      "wine_servings_cont_avg                    9.068182\n",
      "Name: 141, dtype: object\n",
      "\n",
      "Russian Federation\n"
     ]
    }
   ],
   "source": [
    "# 전체 평균 알코올\n",
    "alcohol_mean = drinks['total_litres_of_pure_alcohol'].mean()\n",
    "\n",
    "# 대륙별 평균 알코올\n",
    "continent_mean = drinks.groupby('continent')['total_litres_of_pure_alcohol'].mean()\n",
    "\n",
    "# 전체 평균보다 적은 알코올을 섭취하는 대륙 리스트\n",
    "continent_under_mean = continent_mean[continent_mean <= total_mean].index.to_list() \n",
    "\n",
    "# 리스트에 해당하는 drinks 필터링\n",
    "df_continent_under_mean = drinks.loc[drinks['continent'].isin(continent_under_mean)]\n",
    "df_continent_under_mean\n",
    "\n",
    "# 그 중 spirit을 가장 많이 마시는 국가 필터링\n",
    "most_spirit_under_mean = df_continent_under_mean.loc[df_continent_under_mean['spirit_servings'].idxmax()]\n",
    "    # idxmax()는 시리즈 객체에서 값이 가장 큰 index를 반환한다.\n",
    "print(most_spirit_under_mean)\n",
    "print()\n",
    "print(most_spirit_under_mean['country'])"
   ]
  },
  {
   "cell_type": "markdown",
   "id": "4e7ee14b",
   "metadata": {},
   "source": [
    "### 술 소비량 대비 알코올 비율"
   ]
  },
  {
   "cell_type": "code",
   "execution_count": 133,
   "id": "18ddff90",
   "metadata": {},
   "outputs": [
    {
     "data": {
      "text/plain": [
       "138    15.0\n",
       "Name: alcohol_rate_rank, dtype: float64"
      ]
     },
     "execution_count": 133,
     "metadata": {},
     "output_type": "execute_result"
    }
   ],
   "source": [
    "# 술 소비량 대비 알코올 비율에 대한 칼럼을 만들어서 병합한다.\n",
    "drinks['alcohol_rate'] = drinks['total_litres_of_pure_alcohol'] / drinks['total_servings']\n",
    "drinks['alcohol_rate'] = drinks['alcohol_rate'].fillna(0) # 결측값은 0으로 대체\n",
    "\n",
    "## 술 소비량 대비 알코올 비율 : 전체에서 한국 순위\n",
    "\n",
    "# 술 소비량 대비 알코올 비율 랭킹 순으로 정렬\n",
    "drinks['alcohol_rate_rank'] = drinks['alcohol_rate'].rank(ascending=False) # rank() 함수, 내림차순 정렬\n",
    "drinks['alcohol_rate_rank'] = drinks['alcohol_rate_rank'].apply(np.floor) # np.foor: 내림함수 (default: 1의 자리 수 까지)\n",
    "\n",
    "# 한국 순위\n",
    "drinks.loc[drinks['country'] == 'South Korea']['alcohol_rate_rank']"
   ]
  },
  {
   "cell_type": "markdown",
   "id": "2e36e24d",
   "metadata": {},
   "source": [
    "한국 순위: 15위"
   ]
  },
  {
   "cell_type": "markdown",
   "id": "5d8b00cf",
   "metadata": {},
   "source": [
    "### 대륙별 술 소비량 대비 알코올 비율"
   ]
  },
  {
   "cell_type": "code",
   "execution_count": 152,
   "id": "55283181",
   "metadata": {},
   "outputs": [
    {
     "data": {
      "text/html": [
       "<div>\n",
       "<style scoped>\n",
       "    .dataframe tbody tr th:only-of-type {\n",
       "        vertical-align: middle;\n",
       "    }\n",
       "\n",
       "    .dataframe tbody tr th {\n",
       "        vertical-align: top;\n",
       "    }\n",
       "\n",
       "    .dataframe thead th {\n",
       "        text-align: right;\n",
       "    }\n",
       "</style>\n",
       "<table border=\"1\" class=\"dataframe\">\n",
       "  <thead>\n",
       "    <tr style=\"text-align: right;\">\n",
       "      <th></th>\n",
       "      <th>country</th>\n",
       "      <th>continent</th>\n",
       "      <th>alcohol_rate_continent</th>\n",
       "    </tr>\n",
       "  </thead>\n",
       "  <tbody>\n",
       "    <tr>\n",
       "      <th>180</th>\n",
       "      <td>Kiribati</td>\n",
       "      <td>OC</td>\n",
       "      <td>0.018401</td>\n",
       "    </tr>\n",
       "    <tr>\n",
       "      <th>43</th>\n",
       "      <td>Yemen</td>\n",
       "      <td>AS</td>\n",
       "      <td>0.020293</td>\n",
       "    </tr>\n",
       "    <tr>\n",
       "      <th>87</th>\n",
       "      <td>Ukraine</td>\n",
       "      <td>EU</td>\n",
       "      <td>0.018392</td>\n",
       "    </tr>\n",
       "    <tr>\n",
       "      <th>146</th>\n",
       "      <td>Canada</td>\n",
       "      <td>OT</td>\n",
       "      <td>0.017860</td>\n",
       "    </tr>\n",
       "    <tr>\n",
       "      <th>170</th>\n",
       "      <td>Ecuador</td>\n",
       "      <td>SA</td>\n",
       "      <td>0.017909</td>\n",
       "    </tr>\n",
       "  </tbody>\n",
       "</table>\n",
       "</div>"
      ],
      "text/plain": [
       "      country continent  alcohol_rate_continent\n",
       "180  Kiribati        OC                0.018401\n",
       "43      Yemen        AS                0.020293\n",
       "87    Ukraine        EU                0.018392\n",
       "146    Canada        OT                0.017860\n",
       "170   Ecuador        SA                0.017909"
      ]
     },
     "execution_count": 152,
     "metadata": {},
     "output_type": "execute_result"
    }
   ],
   "source": [
    "# 대륙에 따른 컬럼별 총합\n",
    "continent_sum = drinks.groupby('continent').sum(numeric_only = True)\n",
    "\n",
    "# 대륙별 총 술 소비량 대비 총 알코올 비율\n",
    "continent_sum['alcohol_rate_continent'] = continent_sum['total_litres_of_pure_alcohol'] / continent_sum['total_servings']\n",
    "continent_sum = continent_sum.reset_index() # 인덱스 초기화 (대륙명 to num)\n",
    "continent_sum = continent_sum[['continent', 'alcohol_rate_continent']] # 'continent'와 'alcohol_rate_continent'만 남기기\n",
    "\n",
    "# 대륙별 알코올 비율을 drinks에 병합\n",
    "drinks = pd.merge(drinks, continent_sum, on='continent', how='outer')\n",
    "\n",
    "# 결과 출력\n",
    "drinks[['country', 'continent', 'alcohol_rate_continent']].sample(5)"
   ]
  },
  {
   "cell_type": "markdown",
   "id": "cf8f82d9",
   "metadata": {},
   "source": [
    "## 통계적 분석: 분석 대상 간의 통계적 차이 검정하기"
   ]
  },
  {
   "cell_type": "markdown",
   "id": "e9663215",
   "metadata": {},
   "source": [
    "지금까지는 두 피처 간의 상관성을 계산하거나 혹은 그룹 단위로 나누어 수치 정보를 살펴보는 방식의 데이터 분석을 알아보았습니다.  \n",
    "인사이트를 발견하는 데 있어서 매우 유용한 방법입니다.  \n",
    "하지만 이는 분석가의 주관에 따라 도출된 내용이기 때문에 분석 자체의 **타당성을 증명하기에는 한계가 있습니다.**  \n",
    "따라서 분석 결과에 타당성을 부여하기 위해 통계적으로 차이를 검정하는 과정이 필요합니다.  \n",
    "그 중 가장 기본적인 방법인 **t-test**를 통해 분석 대상 간에 통계적 차이를 검정하는 방법을 알아봅시다."
   ]
  },
  {
   "cell_type": "markdown",
   "id": "ac45735e",
   "metadata": {},
   "source": [
    "**t-test**\n",
    "- 두 집단 간 평균의 차이에 대한 검정 방법\n",
    "- **모집단의 평균** 등과 같이 실제 정보를 모를 때 현재의 데이터만으로 두 집단의 차이에 대해 검정할 수 있는 방법\n",
    "- 단, 검정 대상인 두 집단의 **데이터의 개수가 비슷**하면서 두 데이터가 **정규 분포**를 보이는 경우에 신뢰도가 높은 검정 방식"
   ]
  },
  {
   "cell_type": "markdown",
   "id": "e3b05f7d",
   "metadata": {},
   "source": [
    "파이썬에서는 **scipy**라는 라이브러리를 활용해서 t-test 검정을 할 수 있다."
   ]
  },
  {
   "cell_type": "code",
   "execution_count": 43,
   "id": "770fe7f4",
   "metadata": {},
   "outputs": [
    {
     "name": "stdout",
     "output_type": "stream",
     "text": [
      "The t-statistic and p-value assuming equal variance is -7.268 and 0.000.\n",
      "The t-statistic and p-value NOT assuming equal variance is -7.144 and 0.000.\n"
     ]
    }
   ],
   "source": [
    "# 아프리카와 유럽 간의 맥주 소비량 차이 검정하기\n",
    "africa = drinks.loc[drinks['continent']=='AF']\n",
    "europe = drinks.loc[drinks['continent']=='EU']\n",
    "\n",
    "from scipy import stats\n",
    "\n",
    "# ttest_ind() 함수에 두 집단의 시리즈 데이터를 넣는 것으로 t-test 검정 결과를 확인할 수 있다.\n",
    "tTestResult = stats.ttest_ind(africa['beer_servings'], europe['beer_servings']) # (default)eqaul_var=True\n",
    "tTestResultDiffVar = stats.ttest_ind(africa['beer_servings'],\n",
    "                                    europe['beer_servings'], equal_var=False)\n",
    "# equal_var: t-test의 두 가지 방법 중에 하나를 선택하는 것\n",
    "# True는 두 집단의 분산이 같은 경우, False는 분산이 같지 않은 경우를 가정한다.\n",
    "\n",
    "print(\"The t-statistic and p-value assuming equal variance is %.3f and %.3f.\" % tTestResult)\n",
    "print(\"The t-statistic and p-value NOT assuming equal variance is %.3f and %.3f.\" % tTestResultDiffVar)"
   ]
  },
  {
   "cell_type": "markdown",
   "id": "440203c5",
   "metadata": {},
   "source": [
    "**t-statistic**: t-test의 검정 통계랑. 함께 출력되는 p-value와 연관 지어 해석한다.  \n",
    "**p-value**: 가설이 얼마나 믿을만한지를 나타내는 지표. 데이터를 새로 샘플링했을 때 **귀무 가설이 맞다는 전제 하에 현재 나온 통계값 이상이 나올 확률** \n",
    "\n",
    "만약 p-value가 너무 낮으면 귀무 가설이 일어날 확률이 너무 낮기 때문에 귀무 가설을 기각하게 된다.  \n",
    "보통 그 기준은 **0.05나 0.01을 기준**으로 하며, 이를 p-value(유의확률)이라고 한다.  \n",
    "\n",
    "**귀무 가설**: 처음부터 버릴 것을 예상하는 가설. 가설이 맞지 않다는 것을 증명하기 위해 수립하는 가설  \n",
    "**대립 가설**: 귀무 가설의 반대 개념. 귀무 가설이 거짓인 경우에 대안적으로 참이 되는 가설  \n",
    "\n",
    "위 결과에서 등분산을 가정한 경우와 가정하지 않은 경우 모두 p-value가 0.000 이하로 나타났다.  \n",
    "t-test의 귀무 가설은 '두 집단의 평균이 같다'이고 이 귀무 가설은 기각되었다.  \n",
    "따라서 **'아프리카와 유럽 대륙 간의 맥주 소비량 차이'는 통계적으로 유의미하다**는 결론을 내릴 수 있다.  \n",
    "이는 대립 가설인 '두 집단의 평균이 다르다'를 채택한 것이다.  \n",
    "\n",
    "하지만 두 집단의 데이터는 크기도 다르고, 각각의 크기 또한 크지 않기 때문에 실제로 통계적인 의미를 가지는 검정이라고 보기는 어렵다.  \n",
    "만약 통계적 분석을 하기에 좋은 조건인 경우라면 이러한 방법을 사용할 수 있다는 것만 알아두자.  \n"
   ]
  },
  {
   "cell_type": "markdown",
   "id": "15acc4bc",
   "metadata": {},
   "source": [
    "다시 주제로 돌아가서, '대한민국은 얼마나 술을 독하게 마시는 나라일까?'에 대해 탐색해보자."
   ]
  },
  {
   "cell_type": "code",
   "execution_count": 44,
   "id": "112137bb",
   "metadata": {},
   "outputs": [
    {
     "data": {
      "text/html": [
       "<div>\n",
       "<style scoped>\n",
       "    .dataframe tbody tr th:only-of-type {\n",
       "        vertical-align: middle;\n",
       "    }\n",
       "\n",
       "    .dataframe tbody tr th {\n",
       "        vertical-align: top;\n",
       "    }\n",
       "\n",
       "    .dataframe thead th {\n",
       "        text-align: right;\n",
       "    }\n",
       "</style>\n",
       "<table border=\"1\" class=\"dataframe\">\n",
       "  <thead>\n",
       "    <tr style=\"text-align: right;\">\n",
       "      <th></th>\n",
       "      <th>country</th>\n",
       "      <th>alcohol_rate</th>\n",
       "    </tr>\n",
       "  </thead>\n",
       "  <tbody>\n",
       "    <tr>\n",
       "      <th>63</th>\n",
       "      <td>Gambia</td>\n",
       "      <td>0.266667</td>\n",
       "    </tr>\n",
       "    <tr>\n",
       "      <th>153</th>\n",
       "      <td>Sierra Leone</td>\n",
       "      <td>0.223333</td>\n",
       "    </tr>\n",
       "    <tr>\n",
       "      <th>124</th>\n",
       "      <td>Nigeria</td>\n",
       "      <td>0.185714</td>\n",
       "    </tr>\n",
       "    <tr>\n",
       "      <th>179</th>\n",
       "      <td>Uganda</td>\n",
       "      <td>0.153704</td>\n",
       "    </tr>\n",
       "    <tr>\n",
       "      <th>142</th>\n",
       "      <td>Rwanda</td>\n",
       "      <td>0.151111</td>\n",
       "    </tr>\n",
       "  </tbody>\n",
       "</table>\n",
       "</div>"
      ],
      "text/plain": [
       "          country  alcohol_rate\n",
       "63         Gambia      0.266667\n",
       "153  Sierra Leone      0.223333\n",
       "124       Nigeria      0.185714\n",
       "179        Uganda      0.153704\n",
       "142        Rwanda      0.151111"
      ]
     },
     "execution_count": 44,
     "metadata": {},
     "output_type": "execute_result"
    }
   ],
   "source": [
    "# total_servings 피처 생성\n",
    "drinks['total_servings'] = drinks['beer_servings'] + drinks['wine_servings'] + drinks['spirit_servings']\n",
    "\n",
    "# 술 소비량 대비 알코올 비율 피처 생성\n",
    "drinks['alcohol_rate'] = drinks['total_litres_of_pure_alcohol'] / drinks['total_servings']\n",
    "drinks['alcohol_rate'] = drinks['alcohol_rate'].fillna(0) # 결측치 0으로 대체\n",
    "\n",
    "# 순위 정보 생성\n",
    "country_with_rank = drinks[['country', 'alcohol_rate']]\n",
    "country_with_rank = country_with_rank.sort_values(by=['alcohol_rate'], ascending=0) # alcohol_rate 기준 내림차순 정렬\n",
    "country_with_rank.head(5) # 술을 독하게 마시는 상위 5개국 추출\n"
   ]
  },
  {
   "cell_type": "code",
   "execution_count": 75,
   "id": "ca1ebedf",
   "metadata": {},
   "outputs": [
    {
     "data": {
      "image/png": "[encoded data removed]",
      "text/plain": [
       "<Figure size 640x480 with 1 Axes>"
      ]
     },
     "metadata": {},
     "output_type": "display_data"
    }
   ],
   "source": [
    "# 국가별 순위 정보 시각화\n",
    "country_list = country_with_rank['country'].tolist() # 나라 이름 리스트 (순위별로 나열되어 있다)\n",
    "x_pos = np.arange(len(country_list)) # x축 index\n",
    "rank = country_with_rank['alcohol_rate'].tolist() # 각 나라 순위 리스트\n",
    "\n",
    "bar_list = plt.bar(x_pos, rank)\n",
    "bar_list[country_list.index('South Korea')].set_color('r')\n",
    "plt.ylabel('alcohol rate')\n",
    "plt.title('liquor drink rank by country')\n",
    "plt.axis([0, 200, 0, 0.3]) # [x시작, x끝, y시작, y끝]\n",
    "\n",
    "korea_rank = country_list.index(\"South Korea\") # country_list가 랭킹순으로 나열되어 있어서 인덱스가 rank와 같다.\n",
    "korea_alc_rate = country_with_rank[country_with_rank['country'] == 'South Korea']['alcohol_rate'].values[0]\n",
    "\n",
    "# 그래프에 주석 달기\n",
    "plt.annotate('South Korea: ' + str(korea_rank + 1),\n",
    "             xy=(korea_rank, korea_alc_rate), # 화살표가 가르키는 지점\n",
    "             xytext=(korea_rank + 10, korea_alc_rate + 0.05), # 주석 좌표\n",
    "             arrowprops=dict(facecolor='red', shrink=0.05)) # 화살표\n",
    "plt.show()"
   ]
  },
  {
   "cell_type": "markdown",
   "id": "3de4df73",
   "metadata": {},
   "source": [
    "## 정리"
   ]
  },
  {
   "cell_type": "markdown",
   "id": "f6c99630",
   "metadata": {},
   "source": [
    "- 대부분의 국가의 총 알코올 소비량은 맥주 소비량에 영향을 받을 확률이 높다. 또한 대부분의 국가에서는 맥주가 가장 많이 소비되는 술이라는 해석도 가능하다.\n",
    "- 유럽이 가장 맥주 소비량이 높다.대륙별로 상이한 차이가 있다.\n",
    "- 술 소비량 대비 알코올 비율이라는 새로운 피처로부터 술을 독하게 마시는 정도의 국가별 차이를 관찰할 수 있다.\n",
    "- t-test 분석 결과, 아프리카와 유럽 간의 맥주 소비량은 통계적으로 유의미한 차이를 보인다. (단, 이 예제는 그룹간의 데이터 크기가 매우 다르고, 정규분포를 띤다는 가정을 할 수 없기 때문에 신뢰할 만한 정보라고 할 수 없다.)"
   ]
  }
 ],
 "metadata": {
  "kernelspec": {
   "display_name": "Python 3 (ipykernel)",
   "language": "python",
   "name": "python3"
  },
  "language_info": {
   "codemirror_mode": {
    "name": "ipython",
    "version": 3
   },
   "file_extension": ".py",
   "mimetype": "text/x-python",
   "name": "python",
   "nbconvert_exporter": "python",
   "pygments_lexer": "ipython3",
   "version": "3.8.15"
  },
  "toc": {
   "base_numbering": 1,
   "nav_menu": {},
   "number_sections": true,
   "sideBar": true,
   "skip_h1_title": false,
   "title_cell": "Table of Contents",
   "title_sidebar": "Contents",
   "toc_cell": false,
   "toc_position": {
    "height": "calc(100% - 180px)",
    "left": "10px",
    "top": "150px",
    "width": "258.003px"
   },
   "toc_section_display": true,
   "toc_window_display": true
  }
 },
 "nbformat": 4,
 "nbformat_minor": 5
}
