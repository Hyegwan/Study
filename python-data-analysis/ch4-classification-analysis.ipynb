{
 "cells": [
  {
   "cell_type": "markdown",
   "id": "645115b2",
   "metadata": {},
   "source": [
    "# 분류 분석"
   ]
  },
  {
   "cell_type": "markdown",
   "id": "a695708c",
   "metadata": {},
   "source": [
    "## 목차\n",
    "1. 타이타닉 생존자 가려내기   \n",
    "    1.1 탐색: 타이타닉 데이터 살펴보기  \n",
    "    1.2 분류: 생존자 분류 모델 만들기  \n",
    "    1.3 모델 개선: 피처 엔지니어링  \n",
    "    1.4 평가: 모델 검증하기"
   ]
  },
  {
   "cell_type": "markdown",
   "id": "47dd52c1",
   "metadata": {},
   "source": [
    "2. 강남역 맛집 리뷰로 알아보는 감성 분류   \n",
    "    2.1 크롤링: 카카오맵 리뷰 크롤링  \n",
    "    2.2 텍스트 전처리: 분류 모델 피처로 변환하기  \n",
    "    2.3 분류: 긍정/부정 리뷰 분류하기  \n",
    "    2.4 분석: 중요 키워드 분석하기  "
   ]
  },
  {
   "cell_type": "markdown",
   "id": "aea13d85",
   "metadata": {},
   "source": [
    "## 1. 타이타닉 생존자 가려내기"
   ]
  },
  {
   "cell_type": "markdown",
   "id": "4034f8ee",
   "metadata": {},
   "source": [
    "타이타닉 승객을 생존자 그룹과 비생존자 그룹으로 분류해보자.  "
   ]
  },
  {
   "cell_type": "markdown",
   "id": "022434c1",
   "metadata": {},
   "source": [
    "### 1.1 탐색: 타이타닉 데이터 살펴보기"
   ]
  },
  {
   "cell_type": "markdown",
   "id": "30b46129",
   "metadata": {},
   "source": [
    "**타이타닉 데이터셋 구성**\n",
    "- pclass: Passenger Class, 승객 등급 (1st-Upper, 2nd-Middle, 3rd-Lower)\n",
    "- survived: 생존 여부 (생존-1, 비생존-0)\n",
    "- name: 승객 이름\n",
    "- sex: 승객 성별\n",
    "- age: 승객 나이\n",
    "- sibsp: 동승한 형제/배우자 수\n",
    "- parch: 동승한 부모/자녀 수\n",
    "- ticket: 티켓 번호\n",
    "- fare: 승객 지불 요금\n",
    "- cabin: 선실 이름\n",
    "- embarked: 승선항(C-쉘 부르크, Q-퀸즈타운, S-사우스 햄튼)\n",
    "- body: 비생존자 확인 번호\n",
    "- home.dest: 고향/목적지\n",
    "\n",
    "**타이타닉 데이터셋 기본 정보**"
   ]
  },
  {
   "cell_type": "code",
   "execution_count": 72,
   "id": "7b153219",
   "metadata": {},
   "outputs": [
    {
     "data": {
      "text/html": [
       "<div>\n",
       "<style scoped>\n",
       "    .dataframe tbody tr th:only-of-type {\n",
       "        vertical-align: middle;\n",
       "    }\n",
       "\n",
       "    .dataframe tbody tr th {\n",
       "        vertical-align: top;\n",
       "    }\n",
       "\n",
       "    .dataframe thead th {\n",
       "        text-align: right;\n",
       "    }\n",
       "</style>\n",
       "<table border=\"1\" class=\"dataframe\">\n",
       "  <thead>\n",
       "    <tr style=\"text-align: right;\">\n",
       "      <th></th>\n",
       "      <th>pclass</th>\n",
       "      <th>survived</th>\n",
       "      <th>name</th>\n",
       "      <th>sex</th>\n",
       "      <th>age</th>\n",
       "      <th>sibsp</th>\n",
       "      <th>parch</th>\n",
       "      <th>ticket</th>\n",
       "      <th>fare</th>\n",
       "      <th>cabin</th>\n",
       "      <th>embarked</th>\n",
       "      <th>body</th>\n",
       "      <th>home.dest</th>\n",
       "    </tr>\n",
       "  </thead>\n",
       "  <tbody>\n",
       "    <tr>\n",
       "      <th>0</th>\n",
       "      <td>2</td>\n",
       "      <td>1</td>\n",
       "      <td>Mellinger, Miss. Madeleine Violet</td>\n",
       "      <td>female</td>\n",
       "      <td>13.0</td>\n",
       "      <td>0</td>\n",
       "      <td>1</td>\n",
       "      <td>250644</td>\n",
       "      <td>19.5000</td>\n",
       "      <td>NaN</td>\n",
       "      <td>S</td>\n",
       "      <td>NaN</td>\n",
       "      <td>England / Bennington, VT</td>\n",
       "    </tr>\n",
       "    <tr>\n",
       "      <th>1</th>\n",
       "      <td>2</td>\n",
       "      <td>1</td>\n",
       "      <td>Wells, Miss. Joan</td>\n",
       "      <td>female</td>\n",
       "      <td>4.0</td>\n",
       "      <td>1</td>\n",
       "      <td>1</td>\n",
       "      <td>29103</td>\n",
       "      <td>23.0000</td>\n",
       "      <td>NaN</td>\n",
       "      <td>S</td>\n",
       "      <td>NaN</td>\n",
       "      <td>Cornwall / Akron, OH</td>\n",
       "    </tr>\n",
       "    <tr>\n",
       "      <th>2</th>\n",
       "      <td>2</td>\n",
       "      <td>1</td>\n",
       "      <td>Duran y More, Miss. Florentina</td>\n",
       "      <td>female</td>\n",
       "      <td>30.0</td>\n",
       "      <td>1</td>\n",
       "      <td>0</td>\n",
       "      <td>SC/PARIS 2148</td>\n",
       "      <td>13.8583</td>\n",
       "      <td>NaN</td>\n",
       "      <td>C</td>\n",
       "      <td>NaN</td>\n",
       "      <td>Barcelona, Spain / Havana, Cuba</td>\n",
       "    </tr>\n",
       "    <tr>\n",
       "      <th>3</th>\n",
       "      <td>3</td>\n",
       "      <td>0</td>\n",
       "      <td>Scanlan, Mr. James</td>\n",
       "      <td>male</td>\n",
       "      <td>NaN</td>\n",
       "      <td>0</td>\n",
       "      <td>0</td>\n",
       "      <td>36209</td>\n",
       "      <td>7.7250</td>\n",
       "      <td>NaN</td>\n",
       "      <td>Q</td>\n",
       "      <td>NaN</td>\n",
       "      <td>NaN</td>\n",
       "    </tr>\n",
       "    <tr>\n",
       "      <th>4</th>\n",
       "      <td>3</td>\n",
       "      <td>1</td>\n",
       "      <td>Bradley, Miss. Bridget Delia</td>\n",
       "      <td>female</td>\n",
       "      <td>22.0</td>\n",
       "      <td>0</td>\n",
       "      <td>0</td>\n",
       "      <td>334914</td>\n",
       "      <td>7.7250</td>\n",
       "      <td>NaN</td>\n",
       "      <td>Q</td>\n",
       "      <td>NaN</td>\n",
       "      <td>Kingwilliamstown, Co Cork, Ireland Glens Falls...</td>\n",
       "    </tr>\n",
       "  </tbody>\n",
       "</table>\n",
       "</div>"
      ],
      "text/plain": [
       "   pclass  survived                               name     sex   age  sibsp  \\\n",
       "0       2         1  Mellinger, Miss. Madeleine Violet  female  13.0      0   \n",
       "1       2         1                  Wells, Miss. Joan  female   4.0      1   \n",
       "2       2         1     Duran y More, Miss. Florentina  female  30.0      1   \n",
       "3       3         0                 Scanlan, Mr. James    male   NaN      0   \n",
       "4       3         1       Bradley, Miss. Bridget Delia  female  22.0      0   \n",
       "\n",
       "   parch         ticket     fare cabin embarked  body  \\\n",
       "0      1         250644  19.5000   NaN        S   NaN   \n",
       "1      1          29103  23.0000   NaN        S   NaN   \n",
       "2      0  SC/PARIS 2148  13.8583   NaN        C   NaN   \n",
       "3      0          36209   7.7250   NaN        Q   NaN   \n",
       "4      0         334914   7.7250   NaN        Q   NaN   \n",
       "\n",
       "                                           home.dest  \n",
       "0                           England / Bennington, VT  \n",
       "1                               Cornwall / Akron, OH  \n",
       "2                    Barcelona, Spain / Havana, Cuba  \n",
       "3                                                NaN  \n",
       "4  Kingwilliamstown, Co Cork, Ireland Glens Falls...  "
      ]
     },
     "execution_count": 72,
     "metadata": {},
     "output_type": "execute_result"
    }
   ],
   "source": [
    "import pandas as pd\n",
    "import numpy as np\n",
    "import matplotlib.pyplot as plt\n",
    "import seaborn as sns\n",
    "\n",
    "train_file_path = 'Desktop/python-data-analysis-master/data/titanic_train.csv'\n",
    "test_file_path = 'Desktop/python-data-analysis-master/data/titanic_test.csv'\n",
    "\n",
    "df_train = pd.read_csv(train_file_path)\n",
    "df_test = pd.read_csv(test_file_path)\n",
    "\n",
    "df_train.head()"
   ]
  },
  {
   "cell_type": "code",
   "execution_count": 4,
   "id": "9917ac6d",
   "metadata": {},
   "outputs": [
    {
     "name": "stdout",
     "output_type": "stream",
     "text": [
      "<class 'pandas.core.frame.DataFrame'>\n",
      "RangeIndex: 916 entries, 0 to 915\n",
      "Data columns (total 13 columns):\n",
      " #   Column     Non-Null Count  Dtype  \n",
      "---  ------     --------------  -----  \n",
      " 0   pclass     916 non-null    int64  \n",
      " 1   survived   916 non-null    int64  \n",
      " 2   name       916 non-null    object \n",
      " 3   sex        916 non-null    object \n",
      " 4   age        741 non-null    float64\n",
      " 5   sibsp      916 non-null    int64  \n",
      " 6   parch      916 non-null    int64  \n",
      " 7   ticket     916 non-null    object \n",
      " 8   fare       916 non-null    float64\n",
      " 9   cabin      214 non-null    object \n",
      " 10  embarked   914 non-null    object \n",
      " 11  body       85 non-null     float64\n",
      " 12  home.dest  527 non-null    object \n",
      "dtypes: float64(3), int64(4), object(6)\n",
      "memory usage: 93.2+ KB\n",
      "None\n",
      "--------------------------------------------------\n",
      "<class 'pandas.core.frame.DataFrame'>\n",
      "RangeIndex: 393 entries, 0 to 392\n",
      "Data columns (total 13 columns):\n",
      " #   Column     Non-Null Count  Dtype  \n",
      "---  ------     --------------  -----  \n",
      " 0   pclass     393 non-null    int64  \n",
      " 1   survived   393 non-null    int64  \n",
      " 2   name       393 non-null    object \n",
      " 3   sex        393 non-null    object \n",
      " 4   age        305 non-null    float64\n",
      " 5   sibsp      393 non-null    int64  \n",
      " 6   parch      393 non-null    int64  \n",
      " 7   ticket     393 non-null    object \n",
      " 8   fare       393 non-null    float64\n",
      " 9   cabin      81 non-null     object \n",
      " 10  embarked   393 non-null    object \n",
      " 11  body       36 non-null     float64\n",
      " 12  home.dest  218 non-null    object \n",
      "dtypes: float64(3), int64(4), object(6)\n",
      "memory usage: 40.0+ KB\n",
      "None\n"
     ]
    }
   ],
   "source": [
    "print(df_train.info())\n",
    "print('--------------------------------------------------')\n",
    "print(df_test.info())"
   ]
  },
  {
   "cell_type": "markdown",
   "id": "5b49198d",
   "metadata": {},
   "source": [
    "학습 데이터셋에서는 age, cabin, body, home.dest  \n",
    "테스트 데이터셋에서는 cabin, body, home.dest 피처에 결측치가 존재하는 것을 알 수 있다.  \n",
    "\n",
    "다음으로 분석에 활용할 수 없는 피처(name, cabin)와 큰 의미가 없는 피처(ticket, body, home.dest)를 제거하자.  \n",
    "\n",
    "**불필요한 피처 제거**"
   ]
  },
  {
   "cell_type": "code",
   "execution_count": 73,
   "id": "0926957f",
   "metadata": {},
   "outputs": [],
   "source": [
    "# 데이터 셋에서 name, ticket, cabin, body, home.dest 피처를 제거\n",
    "df_train.drop(['name', 'ticket', 'cabin', 'body', 'home.dest'], axis=1, inplace=True)\n",
    "df_test.drop(['name', 'ticket', 'cabin', 'body', 'home.dest'], axis=1, inplace=True)"
   ]
  },
  {
   "cell_type": "markdown",
   "id": "15f8ad24",
   "metadata": {},
   "source": [
    "**탐색적 데이터 분석**  \n",
    "\n",
    "각 피처가 분류 분석에 미칠 영향에 대해 알아보자.  \n",
    "가장 좋은 방법은 데이터를 그룹(생존자/비생존자)으로 나누어 **피처의 그룹 간 차이를 탐색**하는 것이다.  "
   ]
  },
  {
   "cell_type": "code",
   "execution_count": 20,
   "id": "27329521",
   "metadata": {},
   "outputs": [
    {
     "name": "stdout",
     "output_type": "stream",
     "text": [
      "생존자-1, 비생존자-0 인원수\n",
      "0    563\n",
      "1    353\n",
      "Name: survived, dtype: int64\n"
     ]
    },
    {
     "data": {
      "image/png": "[encoded data removed]",
      "text/plain": [
       "<Figure size 640x480 with 1 Axes>"
      ]
     },
     "metadata": {},
     "output_type": "display_data"
    }
   ],
   "source": [
    "# 생존자와 비생존자 인원수 비교\n",
    "print('생존자-1, 비생존자-0 인원수')\n",
    "print(df_train['survived'].value_counts())\n",
    "\n",
    "df_train['survived'].value_counts().plot.bar()\n",
    "plt.title('Number of Survivors(1) and Non-survivors(0)')\n",
    "plt.show()"
   ]
  },
  {
   "cell_type": "markdown",
   "id": "fba709d3",
   "metadata": {},
   "source": [
    "**pclass, sex, embared 피처의 그룹별 생존자 분포**"
   ]
  },
  {
   "cell_type": "code",
   "execution_count": 35,
   "id": "4384dd9f",
   "metadata": {},
   "outputs": [
    {
     "name": "stdout",
     "output_type": "stream",
     "text": [
      "승객 등급별 인원수\n",
      "3    498\n",
      "1    230\n",
      "2    188\n",
      "Name: pclass, dtype: int64\n"
     ]
    },
    {
     "data": {
      "image/png": "[encoded data removed]",
      "text/plain": [
       "<Figure size 640x480 with 1 Axes>"
      ]
     },
     "metadata": {},
     "output_type": "display_data"
    }
   ],
   "source": [
    "# 생존 여부인 survived 피처를 그룹으로 한 pclass 피처의 그룹별 분포\n",
    "print('승객 등급별 인원수')\n",
    "print(df_train['pclass'].value_counts())\n",
    "\n",
    "ax = sns.countplot(x='pclass', hue='survived', data=df_train)\n",
    "plt.xticks(np.arange(0,3), labels=['1st', '2nd', '3rd'])\n",
    "plt.title('Number of Survivors(1) and Non-survivors(0) by Class')\n",
    "plt.show()"
   ]
  },
  {
   "cell_type": "markdown",
   "id": "1b600097",
   "metadata": {},
   "source": [
    "상급 클래스로 갈 수록 생존자의 비율이 늘어나는 것을 알 수 있다.  "
   ]
  },
  {
   "cell_type": "code",
   "execution_count": 57,
   "id": "ad09b6cc",
   "metadata": {},
   "outputs": [
    {
     "data": {
      "image/png": "[encoded data removed]",
      "text/plain": [
       "<Figure size 640x480 with 1 Axes>"
      ]
     },
     "metadata": {},
     "output_type": "display_data"
    }
   ],
   "source": [
    "# 생존 여부인 survived 피처를 그룹으로 한 sex 피처의 그룹별 분포\n",
    "ax = sns.countplot(x='sex', hue='survived', data=df_train)\n",
    "plt.title('Number of Survivors(1) & Non-survivors(0) by Sex')\n",
    "plt.show()"
   ]
  },
  {
   "cell_type": "markdown",
   "id": "80934f57",
   "metadata": {},
   "source": [
    "남성보다 여성이 더 높은 생존자 비율을 보인다.  "
   ]
  },
  {
   "cell_type": "code",
   "execution_count": 56,
   "id": "de7955cc",
   "metadata": {},
   "outputs": [
    {
     "data": {
      "image/png": "[encoded data removed]",
      "text/plain": [
       "<Figure size 640x480 with 1 Axes>"
      ]
     },
     "metadata": {},
     "output_type": "display_data"
    }
   ],
   "source": [
    "# 생존 여부인 survived 피처를 그룹으로 한 embarked 피처의 그룹별 분포\n",
    "ax = sns.countplot(x='embarked', hue='survived', data=df_train)\n",
    "plt.title('Number of Survivors(1) & Non-survivors(0) by Boarding Place')\n",
    "plt.show()"
   ]
  },
  {
   "cell_type": "markdown",
   "id": "dc53089b",
   "metadata": {},
   "source": [
    "S-사우스 햄튼, C-쉘 부르크, Q-퀸즈 타운  "
   ]
  },
  {
   "cell_type": "markdown",
   "id": "cd4cb16c",
   "metadata": {},
   "source": [
    "유독 사우스 햄튼에서 승선한 승객의 생존자 비율이 낮다. (비생존자 비율의 절반 정도)"
   ]
  },
  {
   "cell_type": "markdown",
   "id": "64153598",
   "metadata": {},
   "source": [
    "피처별 생존자와 비생존자의 분포를 살펴본 결과,  \n",
    "pclass, sex > embarked 순으로 피처의 그룹별 생존자 분포 차이가 크고  \n",
    "차이가 클수록 생존자 분류에 영향을 미칠 수 있다고 생각해 볼 수 있다.  "
   ]
  },
  {
   "cell_type": "markdown",
   "id": "12d76433",
   "metadata": {},
   "source": [
    "**수치형 피처 탐색**\n",
    "\n",
    "수치헝 피처들을 탐색할 수 있는 자동화 함수 valid_features()를 생성해보자.  \n",
    "\n",
    "함수가 실행하는 내용\n",
    "- 두 그룹(생존자, 비생존자) 간의 분포를 비교하는 그래프 출력\n",
    "- 두 그룹 각각의 표준편차 출력\n",
    "- 두 그룹 간의 T-test 검정 실시하여 출력\n",
    "    - T-test 검정: 검정통계량이 귀무가설 하에서 t-분포를 따르는 통계적 가설 검정법\n",
    "- 두 그룹 각각에 Shapiro-wilk 검정을 실시하여 출력\n",
    "    - Shapiro-wilk 검정: 주어진 데이터가 얼마나 정규성을 따르는지, 즉 얼마나 정규분포에 가까운지를 측정"
   ]
  },
  {
   "cell_type": "code",
   "execution_count": 48,
   "id": "b2dcaf4e",
   "metadata": {},
   "outputs": [],
   "source": [
    "from scipy import stats\n",
    "\n",
    "# 두 집단의 피처를 비교해주며 탐색작업을 자동화하는 함수 정의\n",
    "def valid_features(df, col_name, distribution_check=True):\n",
    "    \n",
    "    # 두 집단 (survived=1, not survived=0)의 분포 그래프 출력\n",
    "    g = sns.FacetGrid(df, col='survived') # FacetGrid: 범주형 데이터 시각화에 좋은 방법 \n",
    "    g.map(plt.hist, col_name, bins=30)\n",
    "    \n",
    "    # 두 집단의 표준편차 출력\n",
    "    titanic_survived = df[df['survived']==1]\n",
    "    titanic_survived_static = np.array(titanic_survived[col_name])\n",
    "    std = np.std(titanic_survived_static)\n",
    "    print('data std is', '%.2f' % std)\n",
    "\n",
    "    titanic_n_survived = df[df['survived']==0]\n",
    "    titanic_n_survived_static = np.array(titanic_n_survived[col_name])\n",
    "    std = np.std(titanic_n_survived_static)\n",
    "    print('data std is', '%.2f' % std)\n",
    "    \n",
    "    # T-test로 두 집단의 평균 차이 검정\n",
    "    tTestResult = stats.ttest_ind(titanic_survived[col_name], titanic_n_survived[col_name])\n",
    "    tTestResultDiffVar = stats.ttest_ind(titanic_survived[col_name], titanic_n_survived[col_name],\n",
    "                                        equal_var=False)\n",
    "        # stats.ttest_ind(): Calculate the T-test for the means of two independent samples\n",
    "    print('The t-statistic and p-value assuming equal variances is %.3f and %.3f.' % tTestResult)\n",
    "    print('The t-statistic and p-value not assuming equal variances is %.3f and %.3f.' % tTestResult)\n",
    "\n",
    "    if distribution_check:\n",
    "        # Shapiro-Wilk 검정: 분포의 정규성 정도를 검증합니다. \n",
    "        shapiro_survived = stats.shapiro(titanic_survived[col_name]) \n",
    "        print('The w-statistic and p-value in Survived %.3f and %.3f' % shapiro_survived)\n",
    "        shapiro_n_survived = stats.shapiro(titanic_n_survived[col_name])\n",
    "        print('The w-statistic and p-value in Not Survived %.3f and %.3f' % shapiro_n_survived)"
   ]
  },
  {
   "cell_type": "markdown",
   "id": "c9cecbee",
   "metadata": {},
   "source": [
    "**t-statistic(t-value)**  \n",
    ": 두 집단의 평균의 차이를 나타내는 정도  \n",
    "- t-value가 0에서 멀다 - 평균 차이가 크다 (음수인지 양수인지는 귀무가설에 따라, 순서에 따라 바뀐다.)\n",
    "- t-value가 0에 가깝다 - 평균 차이가 없다\n",
    "\n",
    "\n",
    "t-value는 비교할 때마다 값이 달라질 수 있다.  \n",
    "이때 p-value를 통해 이러한 t-value의 유의성을 판단할 수 있다. (우연일까? 아닐까?에 대한 판단)\n",
    "\n",
    "\n",
    "**p-value**   \n",
    ": 어떤 사건이 우연히 발생할 확률  \n",
    ": 확률분포 그래프에서 양쪽 극단값의 범위를 설정하여 통계적으로 나오는 결과의 신뢰성\n",
    "- p-value가 작다 - 우연일 가능성이 작다 -> 인과관계가 있을 것이다고 추론\n",
    "- 통계적 유의 수준: 0.05 (5%) 이하  \n",
    "- p-value가 0.05보다 크다 - 우연히 발생한 사건이라고 판단, 인과관계가 없을 것이라고 추론\n",
    "\n",
    "두 집단의 차이가 있다는 주장에서  \n",
    "p-value가 0.05 이하면 95%로 통계를 신뢰할 수 있다고 판단하여 두 집단 간의 유의미한 차이가 있다고 해석 할 수 있고,  \n",
    "p-value가 0.05 이상이면 통계를 신뢰할 수 없다고 판단하고 유의미한 차이가 있지 않다(인과관계가 없다)고 해석할 수 있다.  \n",
    "즉, p-value가 작아질수록 가정하는 주장에 대한 신뢰도가 올라가게 된다."
   ]
  },
  {
   "cell_type": "markdown",
   "id": "5cd406ec",
   "metadata": {},
   "source": [
    "**age, sibsp, parch, fare 피처에서 생존자와 비생존자 간의 평균 차이**"
   ]
  },
  {
   "cell_type": "code",
   "execution_count": 50,
   "id": "5e23acd2",
   "metadata": {},
   "outputs": [
    {
     "name": "stdout",
     "output_type": "stream",
     "text": [
      "data std is 14.22\n",
      "data std is 13.71\n",
      "The t-statistic and p-value assuming equal variances is -0.546 and 0.585.\n",
      "The t-statistic and p-value not assuming equal variances is -0.546 and 0.585.\n",
      "The w-statistic and p-value in Survived 0.982 and 0.001\n",
      "The w-statistic and p-value in Not Survived 0.968 and 0.000\n"
     ]
    },
    {
     "data": {
      "image/png": "[encoded data removed]",
      "text/plain": [
       "<Figure size 600x300 with 2 Axes>"
      ]
     },
     "metadata": {},
     "output_type": "display_data"
    }
   ],
   "source": [
    "## 자동화 함수 실행\n",
    "# age 피처 탐색\n",
    "valid_features(df_train[df_train['age']>0], 'age', distribution_check=True)"
   ]
  },
  {
   "cell_type": "markdown",
   "id": "a136a094",
   "metadata": {},
   "source": [
    "분석 결과, age 피처에서 두 그룹(생존자&비생존자) 간의 평균 차이가 크지 않지만 (t-statistic: -0.546)  \n",
    "우연일 가능성(p-value: 0.585)도 높다.   "
   ]
  },
  {
   "cell_type": "code",
   "execution_count": 62,
   "id": "31e59e4a",
   "metadata": {},
   "outputs": [
    {
     "name": "stdout",
     "output_type": "stream",
     "text": [
      "data std is 0.64\n",
      "data std is 1.34\n",
      "The t-statistic and p-value assuming equal variances is -2.118 and 0.034.\n",
      "The t-statistic and p-value not assuming equal variances is -2.118 and 0.034.\n"
     ]
    },
    {
     "data": {
      "image/png": "[encoded data removed]",
      "text/plain": [
       "<Figure size 600x300 with 2 Axes>"
      ]
     },
     "metadata": {},
     "output_type": "display_data"
    }
   ],
   "source": [
    "# sibsp 피처 탐색\n",
    "valid_features(df_train, 'sibsp', distribution_check=False)"
   ]
  },
  {
   "cell_type": "markdown",
   "id": "666ae994",
   "metadata": {},
   "source": [
    "반면 sibsp 피처에서는 두 그룹 간의 평균 차이가 어느 정도 존재하고 우연일 가능성도 낮은 것을 알 수 있다."
   ]
  },
  {
   "cell_type": "code",
   "execution_count": 58,
   "id": "e437200e",
   "metadata": {},
   "outputs": [
    {
     "name": "stdout",
     "output_type": "stream",
     "text": [
      "data std is 0.74\n",
      "data std is 0.89\n",
      "The t-statistic and p-value assuming equal variances is 1.865 and 0.063.\n",
      "The t-statistic and p-value not assuming equal variances is 1.865 and 0.063.\n"
     ]
    },
    {
     "data": {
      "image/png": "[encoded data removed]",
      "text/plain": [
       "<Figure size 600x300 with 2 Axes>"
      ]
     },
     "metadata": {},
     "output_type": "display_data"
    }
   ],
   "source": [
    "# parch 피처 탐색\n",
    "valid_features(df_train, 'parch', distribution_check=False)"
   ]
  },
  {
   "cell_type": "markdown",
   "id": "3e788e86",
   "metadata": {},
   "source": [
    "parch 피처에서는 두 집단의 평균의 차이가 있지만 우연일 가능성도 있다."
   ]
  },
  {
   "cell_type": "code",
   "execution_count": 59,
   "id": "7b835352",
   "metadata": {},
   "outputs": [
    {
     "name": "stdout",
     "output_type": "stream",
     "text": [
      "data std is 60.68\n",
      "data std is 33.65\n",
      "The t-statistic and p-value assuming equal variances is 7.523 and 0.000.\n",
      "The t-statistic and p-value not assuming equal variances is 7.523 and 0.000.\n"
     ]
    },
    {
     "data": {
      "image/png": "[encoded data removed]",
      "text/plain": [
       "<Figure size 600x300 with 2 Axes>"
      ]
     },
     "metadata": {},
     "output_type": "display_data"
    }
   ],
   "source": [
    "# fare 피처 탐색\n",
    "valid_features(df_train, 'fare', distribution_check=False)"
   ]
  },
  {
   "cell_type": "markdown",
   "id": "86d750f7",
   "metadata": {},
   "source": [
    "fare 피처는 두 집단의 평균의 차이가 비교적 큰 편이고 우연일 가능성도 낮으므로  \n",
    "두 집단의 분류(생존자 분류)에 미치는 영향력이 있을 것이라고 볼 수 있다.   "
   ]
  },
  {
   "cell_type": "markdown",
   "id": "a6d0e828",
   "metadata": {},
   "source": [
    "피처를 생존자와 비생존자로 나누고 각 평균을 비교해본 결과,  \n",
    "fare >> sibsp > parch >> age 순서대로 생존자 분류에 영향을 미칠 수 있다고 생각해 볼 수 있다.   "
   ]
  },
  {
   "cell_type": "markdown",
   "id": "9ae5b893",
   "metadata": {},
   "source": [
    "### 1.2 분류: 생존자 분류 모델 만들기"
   ]
  },
  {
   "cell_type": "markdown",
   "id": "30eff5ac",
   "metadata": {},
   "source": [
    "이제 분류 모델을 만들어보자.  \n",
    "\n",
    "첫 번째 방법은 **로지스틱 회귀 모델(Logistic Regression)** 을 이용한 분류이다.  \n",
    "\n",
    "로지스틱 회귀 모델은 **기존 회귀 분석 예측값 Y를 0~1 사이의 값으로 제한하여  \n",
    "0.5 보다 크면 1, 0.5 보다 작으면 0이라고 분류하는 방법**이다.  \n",
    "\n",
    "일반적인 회귀 모델과 마찬가지로 **계수 분석을 통한 피처의 영향력 해석이 용이**하다는 장점이 있다.  \n",
    "\n",
    "로지스틱 모델을 사용하기 위해 데이터를 가공한다.  \n",
    "먼저 결측값을 처리해보자. 크게 두 가지 방법이 있다.  \n",
    "1. 결측이 존재하는 데이터 삭제\n",
    "2. 평균값/중앙값/최빈값 등 임이의 수치로 대체\n",
    "\n",
    "1번 방법은 처리가 쉽고 분석에서의 주관이 개입될 여지가 없다는 장점이 있다. 하지만 중요한 정보를 삭제하게 될 위험도 있다.  \n",
    "\n",
    "2번 방법은 데이터를 모두 분석에 활용할 수 있다는 장점이 있지만, 수치 왜곡의 가능성이 있다는 단점이 있다.  \n"
   ]
  },
  {
   "cell_type": "markdown",
   "id": "e42b7fcf",
   "metadata": {},
   "source": [
    "**분류 모델을 위해 전처리**"
   ]
  },
  {
   "cell_type": "code",
   "execution_count": 64,
   "id": "0fa40dbb",
   "metadata": {},
   "outputs": [
    {
     "name": "stdout",
     "output_type": "stream",
     "text": [
      "<class 'pandas.core.frame.DataFrame'>\n",
      "RangeIndex: 916 entries, 0 to 915\n",
      "Data columns (total 8 columns):\n",
      " #   Column    Non-Null Count  Dtype  \n",
      "---  ------    --------------  -----  \n",
      " 0   pclass    916 non-null    int64  \n",
      " 1   survived  916 non-null    int64  \n",
      " 2   sex       916 non-null    object \n",
      " 3   age       741 non-null    float64\n",
      " 4   sibsp     916 non-null    int64  \n",
      " 5   parch     916 non-null    int64  \n",
      " 6   fare      916 non-null    float64\n",
      " 7   embarked  914 non-null    object \n",
      "dtypes: float64(2), int64(4), object(2)\n",
      "memory usage: 57.4+ KB\n"
     ]
    }
   ],
   "source": [
    "df_train.info()"
   ]
  },
  {
   "cell_type": "markdown",
   "id": "ada1d58e",
   "metadata": {},
   "source": [
    "**결측치 처리**  \n",
    "\n",
    "현재 age, embarked 피처에 결측치가 존재한다. 2번 방법으로 결측값을 임의의 값으로 보정해보자.  \n"
   ]
  },
  {
   "cell_type": "code",
   "execution_count": 74,
   "id": "bc29017b",
   "metadata": {},
   "outputs": [],
   "source": [
    "# age 피처의 결측값을 평균값으로 대체\n",
    "age_mean = df_train[df_train['age']>0]['age'].mean()\n",
    "df_train['age'] = df_train['age'].fillna(age_mean)\n",
    "df_test['age'] = df_test['age'].fillna(age_mean) # 이건 data leakage가 아닌가?\n",
    "\n",
    "# embark 피처의 결측값 2개를 최빈값으로 대체\n",
    "embarked_mode = df_train['embarked'].value_counts().index[0]\n",
    "df_train['embarked'] = df_train['embarked'].fillna(embarked_mode)\n",
    "df_test['embarked'] = df_test['embarked'].fillna(embarked_mode)"
   ]
  },
  {
   "cell_type": "markdown",
   "id": "6e3739cb",
   "metadata": {},
   "source": [
    "**범주형 변수 처리**\n",
    "\n",
    "그 다음 원-핫 인코딩 방법으로 범주형 변수를 변환하자.  \n",
    "\n",
    "현재 데이터셋은 train과 test 데이터로 분리되어 있기 때문에  \n",
    "원-핫 인코딩을 적용하기 위해 데이터를 하나로 합쳐준다.  << data leakaga issue?? no?  \n",
    "그리고 인코딩 적용 후 다시 train과 test로 나눈다.  \n",
    "\n",
    "원-핫 인코딩이 적용되는 피처: sex, embarked"
   ]
  },
  {
   "cell_type": "code",
   "execution_count": 75,
   "id": "aedb704d",
   "metadata": {},
   "outputs": [
    {
     "data": {
      "text/html": [
       "<div>\n",
       "<style scoped>\n",
       "    .dataframe tbody tr th:only-of-type {\n",
       "        vertical-align: middle;\n",
       "    }\n",
       "\n",
       "    .dataframe tbody tr th {\n",
       "        vertical-align: top;\n",
       "    }\n",
       "\n",
       "    .dataframe thead th {\n",
       "        text-align: right;\n",
       "    }\n",
       "</style>\n",
       "<table border=\"1\" class=\"dataframe\">\n",
       "  <thead>\n",
       "    <tr style=\"text-align: right;\">\n",
       "      <th></th>\n",
       "      <th>pclass</th>\n",
       "      <th>survived</th>\n",
       "      <th>age</th>\n",
       "      <th>sibsp</th>\n",
       "      <th>parch</th>\n",
       "      <th>fare</th>\n",
       "      <th>sex_female</th>\n",
       "      <th>sex_male</th>\n",
       "      <th>embarked_C</th>\n",
       "      <th>embarked_Q</th>\n",
       "      <th>embarked_S</th>\n",
       "    </tr>\n",
       "  </thead>\n",
       "  <tbody>\n",
       "    <tr>\n",
       "      <th>0</th>\n",
       "      <td>2</td>\n",
       "      <td>1</td>\n",
       "      <td>13.000000</td>\n",
       "      <td>0</td>\n",
       "      <td>1</td>\n",
       "      <td>19.5000</td>\n",
       "      <td>1</td>\n",
       "      <td>0</td>\n",
       "      <td>0</td>\n",
       "      <td>0</td>\n",
       "      <td>1</td>\n",
       "    </tr>\n",
       "    <tr>\n",
       "      <th>1</th>\n",
       "      <td>2</td>\n",
       "      <td>1</td>\n",
       "      <td>4.000000</td>\n",
       "      <td>1</td>\n",
       "      <td>1</td>\n",
       "      <td>23.0000</td>\n",
       "      <td>1</td>\n",
       "      <td>0</td>\n",
       "      <td>0</td>\n",
       "      <td>0</td>\n",
       "      <td>1</td>\n",
       "    </tr>\n",
       "    <tr>\n",
       "      <th>2</th>\n",
       "      <td>2</td>\n",
       "      <td>1</td>\n",
       "      <td>30.000000</td>\n",
       "      <td>1</td>\n",
       "      <td>0</td>\n",
       "      <td>13.8583</td>\n",
       "      <td>1</td>\n",
       "      <td>0</td>\n",
       "      <td>1</td>\n",
       "      <td>0</td>\n",
       "      <td>0</td>\n",
       "    </tr>\n",
       "    <tr>\n",
       "      <th>3</th>\n",
       "      <td>3</td>\n",
       "      <td>0</td>\n",
       "      <td>30.231444</td>\n",
       "      <td>0</td>\n",
       "      <td>0</td>\n",
       "      <td>7.7250</td>\n",
       "      <td>0</td>\n",
       "      <td>1</td>\n",
       "      <td>0</td>\n",
       "      <td>1</td>\n",
       "      <td>0</td>\n",
       "    </tr>\n",
       "    <tr>\n",
       "      <th>4</th>\n",
       "      <td>3</td>\n",
       "      <td>1</td>\n",
       "      <td>22.000000</td>\n",
       "      <td>0</td>\n",
       "      <td>0</td>\n",
       "      <td>7.7250</td>\n",
       "      <td>1</td>\n",
       "      <td>0</td>\n",
       "      <td>0</td>\n",
       "      <td>1</td>\n",
       "      <td>0</td>\n",
       "    </tr>\n",
       "  </tbody>\n",
       "</table>\n",
       "</div>"
      ],
      "text/plain": [
       "   pclass  survived        age  sibsp  parch     fare  sex_female  sex_male  \\\n",
       "0       2         1  13.000000      0      1  19.5000           1         0   \n",
       "1       2         1   4.000000      1      1  23.0000           1         0   \n",
       "2       2         1  30.000000      1      0  13.8583           1         0   \n",
       "3       3         0  30.231444      0      0   7.7250           0         1   \n",
       "4       3         1  22.000000      0      0   7.7250           1         0   \n",
       "\n",
       "   embarked_C  embarked_Q  embarked_S  \n",
       "0           0           0           1  \n",
       "1           0           0           1  \n",
       "2           1           0           0  \n",
       "3           0           1           0  \n",
       "4           0           1           0  "
      ]
     },
     "execution_count": 75,
     "metadata": {},
     "output_type": "execute_result"
    }
   ],
   "source": [
    "# 원-핫 인코딩을 위한 통합 데이터 프레임(whole_df) 생성\n",
    "whole_df = pd.concat([df_train, df_test]) # axis=0 (default)\n",
    "\n",
    "# pandas 패키지를 이용한 원-핫 인코딩 수행\n",
    "whole_df_encoded = pd.get_dummies(whole_df)\n",
    "\n",
    "# 다시 이전과 동일하게 나누기 위해 whole_df에서 train, test 데이터가 합쳐지는 위치의 인덱스를 저장 \n",
    "train_idx_num = len(df_train)\n",
    "\n",
    "# 인코딩을 수행한 whole_df를 다시 train과 test로 나누기\n",
    "df_train = whole_df_encoded[:train_idx_num]\n",
    "df_test = whole_df_encoded[train_idx_num:]  \n",
    "\n",
    "df_train.head()"
   ]
  },
  {
   "cell_type": "markdown",
   "id": "3bb03038",
   "metadata": {},
   "source": [
    "**로지스틱 회귀 모델 학습**"
   ]
  },
  {
   "cell_type": "code",
   "execution_count": 93,
   "id": "dcbed4e0",
   "metadata": {},
   "outputs": [],
   "source": [
    "from sklearn.linear_model import LogisticRegression\n",
    "\n",
    "# train, test 데이터를 x, y로 분리 (x: y를 제외한 모든 값, y: 분류 예측값(0 or 1) (array 형태))\n",
    "x_train = df_train.drop(['survived'], axis=1).values\n",
    "y_train = df_train['survived'].values\n",
    "\n",
    "x_test = df_test.drop(['survived'], axis=1).values\n",
    "y_test = df_test['survived'].values\n",
    "\n",
    "# 로지스틱 회귀 모델 학습\n",
    "lr = LogisticRegression(max_iter=500, random_state=42)\n",
    "lr.fit(x_train, y_train)\n",
    "\n",
    "# 학습한 모델의 테스트 데이터셋에 대한 예측 결과 반환\n",
    "y_pred = lr.predict(x_test)\n",
    "y_pred_probability = lr.predict_proba(x_test)[:, 1] # 각 클래스가 1일 확률"
   ]
  },
  {
   "cell_type": "markdown",
   "id": "a216f886",
   "metadata": {},
   "source": [
    "**모델 성능 평가 지표**"
   ]
  },
  {
   "cell_type": "markdown",
   "id": "f61f3269",
   "metadata": {},
   "source": [
    "일반적으로 분류 모델의 평가 기준으로 **Confusion Matrix**를 활용한다.  \n",
    "\n",
    " \n",
    "True Positive (TP)  | False Negative (FN)  \n",
    "False Positive (FP) | True Negative (TN)"
   ]
  },
  {
   "cell_type": "markdown",
   "id": "f5c552eb",
   "metadata": {},
   "source": [
    "이 정보들을 이용한 **분류 평가 지표**\n",
    "- **정확도(Accuracy)**: (TP+TN) / (TP+TN+FP+FN)  \n",
    "- **정밀도(Precision)**: TP / (TP+FP)\n",
    "- **재현도(Recall)**: TP / (TP+FN)\n",
    "- **특이도(Specificity)**: TN / (TN+FP)"
   ]
  },
  {
   "cell_type": "markdown",
   "id": "86892c66",
   "metadata": {},
   "source": [
    "그리고 이 지표들을 응용한 두 가지 평가 지표\n",
    "- **F1-score**: 정밀도(Precision)과 재현도(Recall)의 조화 평균값\n",
    "- **ROC Curve**: 재현도(민감도)와 특이도를 고려하여 종합적인 모델의 성능을 그래프로 나타내는 것\n",
    "    - 이때 그래프의 넓이를 계산한 **AUC(Area Under Curve)** 를 성능의 지표로 사용한다. 이 값이 **1에 가까울수록** 좋은 분류 모델이다."
   ]
  },
  {
   "cell_type": "markdown",
   "id": "39edcd22",
   "metadata": {},
   "source": [
    "**로지스틱 회귀 모델 평가**"
   ]
  },
  {
   "cell_type": "code",
   "execution_count": 103,
   "id": "fa4440e4",
   "metadata": {},
   "outputs": [
    {
     "name": "stdout",
     "output_type": "stream",
     "text": [
      "accuracy: 0.80\n",
      "precision: 0.756\n",
      "recall: 0.67\n",
      "F1: 0.71\n"
     ]
    }
   ],
   "source": [
    "from sklearn.metrics import accuracy_score, precision_score, recall_score, f1_score\n",
    "\n",
    "# 테스트 데이터셋에 대한 정확도, 정밀도, 재현도, f1-score 출력\n",
    "print('accuracy: %.2f' % accuracy_score(y_test, y_pred))\n",
    "print('precision: %.3f' % precision_score(y_test, y_pred))\n",
    "print('recall: %.2f' % recall_score(y_test, y_pred))\n",
    "print('F1: %.2f' % f1_score(y_test, y_pred))"
   ]
  },
  {
   "cell_type": "code",
   "execution_count": 105,
   "id": "d39c70ef",
   "metadata": {},
   "outputs": [
    {
     "name": "stdout",
     "output_type": "stream",
     "text": [
      "[[214  32]\n",
      " [ 48  99]]\n"
     ]
    }
   ],
   "source": [
    "from sklearn.metrics import confusion_matrix\n",
    "\n",
    "# confusion matrix 출력\n",
    "confmat = confusion_matrix(y_true=y_test, y_pred=y_pred)\n",
    "print(confmat)"
   ]
  },
  {
   "cell_type": "markdown",
   "id": "ab704418",
   "metadata": {},
   "source": [
    "**AUC**는 분류 결과(y_pred)를 사용하는 것이 아니라, 분류 직전의 **확률값(y_pred_probability)** 인 0~1 사이의 값을 사용한다.   \n",
    "\n",
    "**threshold(임계값)**: 0 또는 1로 분류하는 기준 값  \n",
    "예를들어, 임계값이 0.7인 경우에 1일 확률이 0.6이라면 0으로 분류 된다.  \n",
    "임계값으로 0.5를 생각하기 쉽지만 상황에 따라 기준은 달라진다.  \n"
   ]
  },
  {
   "cell_type": "code",
   "execution_count": 111,
   "id": "9740abeb",
   "metadata": {},
   "outputs": [
    {
     "name": "stdout",
     "output_type": "stream",
     "text": [
      "AUC: 0.838\n"
     ]
    },
    {
     "data": {
      "image/png": "[encoded data removed]",
      "text/plain": [
       "<Figure size 500x400 with 1 Axes>"
      ]
     },
     "metadata": {},
     "output_type": "display_data"
    }
   ],
   "source": [
    "from sklearn.metrics import roc_curve, roc_auc_score\n",
    "\n",
    "# 로지스틱 회귀 모델의 AUC 출력\n",
    "false_positive_rate, true_positive_rate, thresholds = roc_curve(y_test, y_pred_probability)\n",
    "auc_score = roc_auc_score(y_test, y_pred_probability)\n",
    "print('AUC: %.3f' % auc_score)\n",
    "\n",
    "# ROC Curve 그래프 출력\n",
    "plt.figure(figsize=(5,4))\n",
    "plt.plot(false_positive_rate, true_positive_rate, \n",
    "         label='ROC Curve (area = %0.3f)' % auc_score, \n",
    "         color='red', \n",
    "         linewidth=4.0)\n",
    "plt.plot([0,1], [0,1], 'k--') # plt.plot([x_start, x_end], [y_start, y_end], 점선)\n",
    "plt.xlim([0.0, 1.0])\n",
    "plt.ylim([0.0, 1.0])\n",
    "plt.xlabel('False Positive Rate')\n",
    "plt.ylabel('True Positive Rate')\n",
    "plt.title('ROC Curve of Logistic Regression')\n",
    "plt.legend(loc='lower right')\n",
    "plt.show()"
   ]
  },
  {
   "cell_type": "markdown",
   "id": "0476ad78",
   "metadata": {},
   "source": [
    "이 모델의 AUC 약 0.837로, 생존자를 잘 분류해내는 모델이라고 평가할 수 있다.  "
   ]
  },
  {
   "cell_type": "markdown",
   "id": "3386d1c3",
   "metadata": {},
   "source": [
    "다음으로, 두 번째 분류 방법은 **의사결정 나무(Decision Tree) 모델**을 적용한다.  \n",
    "로지스틱 회귀 모델과 더불어 가장 대표적인 방법이다.  "
   ]
  },
  {
   "cell_type": "markdown",
   "id": "0fbfd27b",
   "metadata": {},
   "source": [
    "의사결정 나무 모델은 **피처 단위로 조건을 분기하여 정답의 집합을 좁혀나가는 방법**이다.  \n",
    "스무고개 놀이에서 정답을 찾아 나가는 과정과 유사하며, 이를 도식화 하면 생김새가 '나무 모양'과 같다 하여 붙여진 이름이다.  \n",
    "\n",
    "예시) 타이타닉 탑승객의 생존 여부를 나타내는 결정 트리\n",
    "\n",
    "male 인가?\n",
    "- 예\n",
    "    - age > 9.5 인가?\n",
    "        - 예\n",
    "            - 생존 (0.17, 61%)\n",
    "        - 아니오\n",
    "            - sibsp > 2.5 인가?\n",
    "                - 예\n",
    "                    - 사망 (0.05, 2%)\n",
    "                - 아니오\n",
    "                    - 생존 (0.89, 2%)\n",
    "            \n",
    "- 아니오\n",
    "    - 생존 (0.73, 36%)\n",
    "    \n",
    "잎(사망/생존) 아래의 숫자는 각각 생존 확률과 탑승객이 그 앞에 해당될 확률을 의미한다.  "
   ]
  },
  {
   "cell_type": "markdown",
   "id": "85169eb0",
   "metadata": {},
   "source": [
    "**의사결정 나무 모델 학습 및 평가**"
   ]
  },
  {
   "cell_type": "code",
   "execution_count": 116,
   "id": "d100fba7",
   "metadata": {},
   "outputs": [
    {
     "name": "stdout",
     "output_type": "stream",
     "text": [
      "Accuracy: 0.75\n",
      "Precision: 0.75\n",
      "Recall: 0.75\n",
      "F1: 0.75\n",
      "AUC: 0.744\n"
     ]
    },
    {
     "data": {
      "image/png": "[encoded data removed]",
      "text/plain": [
       "<Figure size 500x400 with 1 Axes>"
      ]
     },
     "metadata": {},
     "output_type": "display_data"
    }
   ],
   "source": [
    "from sklearn.tree import DecisionTreeClassifier\n",
    "from sklearn.metrics import accuracy_score, precision_score, recall_score, f1_score\n",
    "from sklearn.metrics import roc_curve, roc_auc_score\n",
    "\n",
    "# 의사결정 나무를 학습하고, 학습한 모델로 테스트 데이터셋에 대한 예측값 반환\n",
    "dtc = DecisionTreeClassifier()\n",
    "dtc.fit(x_train, y_train) # 학습\n",
    "y_pred = dtc.predict(x_test) # 예측\n",
    "y_pred_probability = dtc.predict_proba(x_test)[:, 1] # 클래스가 1로 예측될 확률\n",
    "\n",
    "# 학습한 모델의 성능 (평가 지표) 출력 \n",
    "print('Accuracy: %.2f' % accuracy_score(y_test, y_pred))\n",
    "print('Precision: %.2f' % accuracy_score(y_test, y_pred))\n",
    "print('Recall: %.2f' % accuracy_score(y_test, y_pred))\n",
    "print('F1: %.2f' % accuracy_score(y_test, y_pred))\n",
    "\n",
    "# 학습한 모델의 AUC 출력\n",
    "false_positive_rate, true_positive_rate, thresholds = roc_curve(y_test, y_pred_probability)\n",
    "auc_score = roc_auc_score(y_test, y_pred_probability)\n",
    "print('AUC: %.3f' % auc_score)\n",
    "\n",
    "# ROC Curve 그래프 출력\n",
    "plt.figure(figsize=(5,4))\n",
    "plt.plot(false_positive_rate, true_positive_rate, \n",
    "         label='ROC Curve (area = %.3f)' % auc_score,\n",
    "         color='Red',\n",
    "         linewidth=4.0)\n",
    "plt.plot([0,1], [0,1], 'k--')\n",
    "plt.xlim([0.0, 1.0])\n",
    "plt.ylim([0.0, 1.0])\n",
    "plt.xlabel('False Positive Rate')\n",
    "plt.ylabel('True Positive Rate')\n",
    "plt.title('ROC Curve of Decision Tree Classifier')\n",
    "plt.legend(loc='lower right')\n",
    "plt.show()"
   ]
  },
  {
   "cell_type": "markdown",
   "id": "1de79b05",
   "metadata": {},
   "source": [
    "두개의 모델을 학습해본 결과,  \n",
    "현재 데이터셋에서는 의사결정 나무 모델이 로지스틱 회귀 모델에 비해 모든 평가 지표가 낮은 것을 확인할 수 있다."
   ]
  },
  {
   "cell_type": "markdown",
   "id": "7cd9cb74",
   "metadata": {},
   "source": [
    "### 1.3 모델 개선: 피처 엔지니어링"
   ]
  },
  {
   "cell_type": "markdown",
   "id": "cde42f44",
   "metadata": {},
   "source": [
    "분류 모델의 성능을 더욱 끌어올리는 방법\n",
    "- 더 좋은 분류 기법 사용하기\n",
    "- 더 많은 데이터를 사용하기  \n",
    "\n",
    "하지만 이 방법들은 쉽게 적용할 수 있는 것들이 아니다.  \n",
    "\n",
    "이럴 때 **피처 엔지니어링(Feature Engineering)** 을 사용해볼 수 있다.  \n",
    "피처 엔지니어링이란 모델에 사용할 **피처를 가공하는 분석 작업**을 의미한다.  \n",
    "\n",
    "이를 수행하기 위해 분석 과정을 처음부터 다시 시작해보자.  \n",
    "\n",
    "우선 이전과 동일하게 전처리를 한다.    \n",
    "\n",
    "**전처리**"
   ]
  },
  {
   "cell_type": "code",
   "execution_count": 141,
   "id": "a45b50d5",
   "metadata": {},
   "outputs": [],
   "source": [
    "## 전처리 ##\n",
    "# 데이터 다시 불러오기\n",
    "train_file_path = 'Desktop/python-data-analysis-master/data/titanic_train.csv'\n",
    "test_file_path = 'Desktop/python-data-analysis-master/data/titanic_test.csv'\n",
    "\n",
    "df_train = pd.read_csv(train_file_path)\n",
    "df_test = pd.read_csv(test_file_path)\n",
    "\n",
    "# 불필요한 피처 제거\n",
    "df_train = df_train.drop(['ticket', 'body', 'home.dest'], axis=1)\n",
    "df_test = df_test.drop(['ticket', 'body', 'home.dest'], axis=1)\n",
    "\n",
    "# age의 결측값을 평균값으로 대체\n",
    "age_mean = df_train[df_train['age']>0]['age'].mean()\n",
    "df_train['age'] = df_train['age'].fillna(age_mean)\n",
    "df_test['age'] = df_test['age'].fillna(age_mean)\n",
    "\n",
    "# embarked의 결측값(2개)을 최빈값으로 대체\n",
    "embarked_mode = df_train['embarked'].value_counts().index[0]\n",
    "df_train['embarked'] = df_train['embarked'].fillna(embarked_mode)\n",
    "df_test['embarked'] = df_test['embarked'].fillna(embarked_mode)\n",
    "\n",
    "# 원-핫 인코딩을 위한 통합 데이터 프레임(whole_df) 생성\n",
    "whole_df = pd.concat([df_train, df_test])"
   ]
  },
  {
   "cell_type": "code",
   "execution_count": 144,
   "id": "9669b08e",
   "metadata": {},
   "outputs": [
    {
     "name": "stdout",
     "output_type": "stream",
     "text": [
      "<class 'pandas.core.frame.DataFrame'>\n",
      "Int64Index: 1309 entries, 0 to 392\n",
      "Data columns (total 10 columns):\n",
      " #   Column    Non-Null Count  Dtype  \n",
      "---  ------    --------------  -----  \n",
      " 0   pclass    1309 non-null   int64  \n",
      " 1   survived  1309 non-null   int64  \n",
      " 2   name      1309 non-null   object \n",
      " 3   sex       1309 non-null   object \n",
      " 4   age       1309 non-null   float64\n",
      " 5   sibsp     1309 non-null   int64  \n",
      " 6   parch     1309 non-null   int64  \n",
      " 7   fare      1309 non-null   float64\n",
      " 8   cabin     295 non-null    object \n",
      " 9   embarked  1309 non-null   object \n",
      "dtypes: float64(2), int64(4), object(4)\n",
      "memory usage: 112.5+ KB\n"
     ]
    }
   ],
   "source": [
    "whole_df.info()"
   ]
  },
  {
   "cell_type": "markdown",
   "id": "c293c773",
   "metadata": {},
   "source": [
    "이제 cabin과 name 피처에 피처 엔지니어링을 적용해보자.  \n",
    "\n",
    "**피처 엔지니어링 - cabin 피처**"
   ]
  },
  {
   "cell_type": "code",
   "execution_count": 142,
   "id": "2fc6f964",
   "metadata": {},
   "outputs": [
    {
     "name": "stdout",
     "output_type": "stream",
     "text": [
      "C23 C25 C27        6\n",
      "B57 B59 B63 B66    5\n",
      "G6                 5\n",
      "F4                 4\n",
      "B96 B98            4\n",
      "F33                4\n",
      "C78                4\n",
      "D                  4\n",
      "F2                 4\n",
      "C22 C26            4\n",
      "Name: cabin, dtype: int64\n"
     ]
    }
   ],
   "source": [
    "print(whole_df['cabin'].value_counts()[:10])"
   ]
  },
  {
   "cell_type": "markdown",
   "id": "c0b494b4",
   "metadata": {},
   "source": [
    "cabin 피처는 선실의 정보를 나타내는 데이터로, 선실을 대표하는 알파벳이 반드시 첫 글자에 등장하는 패턴을 가지고 있다. \n",
    "\n",
    "이 피처의 결측 데이터는 임의의 'n'으로 채워준다.  \n",
    "(선실을 구분하는 알파벳이 대문자이므로 구분하기 쉽게 소문자를 사용했다.)"
   ]
  },
  {
   "cell_type": "code",
   "execution_count": 146,
   "id": "39e06b42",
   "metadata": {},
   "outputs": [],
   "source": [
    "# 결측치를 'n'으로 대체\n",
    "whole_df['cabin'] = whole_df['cabin'].fillna('n')"
   ]
  },
  {
   "cell_type": "markdown",
   "id": "32277877",
   "metadata": {},
   "source": [
    "그리고 분석에 필요한 첫 알파벳만 추출하여 알파벳별 선실 수를 살펴보자.  "
   ]
  },
  {
   "cell_type": "code",
   "execution_count": 147,
   "id": "9a4fbd10",
   "metadata": {},
   "outputs": [
    {
     "data": {
      "text/plain": [
       "n    1014\n",
       "C      94\n",
       "B      65\n",
       "D      46\n",
       "E      41\n",
       "A      22\n",
       "F      21\n",
       "G       5\n",
       "T       1\n",
       "Name: cabin, dtype: int64"
      ]
     },
     "execution_count": 147,
     "metadata": {},
     "output_type": "execute_result"
    }
   ],
   "source": [
    "# cabin 피처의 첫 번째 알파벳 추출\n",
    "whole_df['cabin'] = whole_df['cabin'].apply(lambda x: x[0])\n",
    "\n",
    "# 알파벳별 선실 수\n",
    "whole_df['cabin'].value_counts()"
   ]
  },
  {
   "cell_type": "markdown",
   "id": "42e1ce33",
   "metadata": {},
   "source": [
    "선실 타입 중, G(5)와 T(1) 타입의 수가 너무 적기 때문에 아웃라이어로 가정하고 결측치와 마찬가지로 'na'로 대체한다.  "
   ]
  },
  {
   "cell_type": "code",
   "execution_count": 149,
   "id": "dd990f1d",
   "metadata": {},
   "outputs": [],
   "source": [
    "# 아웃라이어(G, T) 또한 'na'로 대체\n",
    "whole_df['cabin'] = whole_df['cabin'].replace({'G':'n', 'T': 'n'})"
   ]
  },
  {
   "cell_type": "markdown",
   "id": "c3ea303b",
   "metadata": {},
   "source": [
    "피처 엔지니어링이 끝난 cabin 피처의 생존자/비생존자 그룹 간 분포는 아래와 같다.  "
   ]
  },
  {
   "cell_type": "code",
   "execution_count": 179,
   "id": "12928819",
   "metadata": {},
   "outputs": [
    {
     "data": {
      "image/png": "[encoded data removed]",
      "text/plain": [
       "<Figure size 640x480 with 1 Axes>"
      ]
     },
     "metadata": {},
     "output_type": "display_data"
    }
   ],
   "source": [
    "ax = sns.countplot(x='cabin', hue='survived', data=whole_df)\n",
    "plt.title('Number of Survivors(1) & Non-survivors(0) by Cabin Type')\n",
    "plt.show()"
   ]
  },
  {
   "cell_type": "markdown",
   "id": "e44ca97d",
   "metadata": {},
   "source": [
    "이를 살펴본 결과, 생존자와 비생존자 두 그룹 간의 유의미한 차이가 있는 것으로 보인다.  \n",
    "따라서 이 피처를 분류 모델에 사용해볼 수 있다.  "
   ]
  },
  {
   "cell_type": "markdown",
   "id": "ebf1ab87",
   "metadata": {},
   "source": [
    "다음으로 name 피처를 살펴보자.  \n",
    "\n",
    "**피처 엔지니어링 - name 피처**"
   ]
  },
  {
   "cell_type": "code",
   "execution_count": 155,
   "id": "deedc571",
   "metadata": {},
   "outputs": [
    {
     "data": {
      "text/plain": [
       "0    Mellinger, Miss. Madeleine Violet\n",
       "1                    Wells, Miss. Joan\n",
       "2       Duran y More, Miss. Florentina\n",
       "3                   Scanlan, Mr. James\n",
       "4         Bradley, Miss. Bridget Delia\n",
       "5                 Linehan, Mr. Michael\n",
       "6       Francatelli, Miss. Laura Mabel\n",
       "7             Quick, Miss. Phyllis May\n",
       "8             Thayer, Mr. John Borland\n",
       "9     Silverthorne, Mr. Spencer Victor\n",
       "Name: name, dtype: object"
      ]
     },
     "execution_count": 155,
     "metadata": {},
     "output_type": "execute_result"
    }
   ],
   "source": [
    "whole_df['name'].head(10)"
   ]
  },
  {
   "cell_type": "markdown",
   "id": "91bb6560",
   "metadata": {},
   "source": [
    "이름을 살펴보면, (성, 호칭(prefix), 이름)으로 구성되어 있다.  \n",
    "\n",
    "당시 시대는 사회적 계급이 존재하였기 때문에 호칭 정보는 중요한 데이터로 활용될 수 있다.\n",
    "\n",
    "호칭을 추출해보자."
   ]
  },
  {
   "cell_type": "code",
   "execution_count": 173,
   "id": "496071be",
   "metadata": {},
   "outputs": [
    {
     "name": "stdout",
     "output_type": "stream",
     "text": [
      "['Miss', 'Mr', 'Master', 'Mrs', 'Dr', 'Mlle', 'Col', 'Rev', 'Ms', 'Mme', 'Sir', 'the Countess', 'Dona', 'Jonkheer', 'Lady', 'Major', 'Don', 'Capt']\n"
     ]
    }
   ],
   "source": [
    "# 이름에서 호칭 추출\n",
    "prefix = whole_df['name'].apply(lambda x: x.split(', ', 1)[1].split('.')[0]) # .split(seperator, maxsplit)\n",
    "prefix = prefix.unique().tolist()\n",
    "print(prefix)"
   ]
  },
  {
   "cell_type": "markdown",
   "id": "9f01dfb6",
   "metadata": {},
   "source": [
    "추출한 호칭을 사회적 지위로 정의하여 범주형 데이터로 변환해 보자. "
   ]
  },
  {
   "cell_type": "code",
   "execution_count": 175,
   "id": "63439699",
   "metadata": {},
   "outputs": [
    {
     "name": "stdout",
     "output_type": "stream",
     "text": [
      "D    758\n",
      "E    263\n",
      "C    201\n",
      "F     61\n",
      "A     24\n",
      "B      2\n",
      "Name: name, dtype: int64\n"
     ]
    }
   ],
   "source": [
    "# 호칭에 따라 사회적 지위(1910년대 기준)를 정의\n",
    "status_dict = {\n",
    "    'A': ['Rev', 'Col', 'Major', 'Dr', 'Capt', 'Sir'], # 명예직\n",
    "    'B': ['Jonkheer', 'the Countess'], # 귀족, 작위\n",
    "    'C': ['Ms', 'Mme', 'Mrs', 'Dona'], # 여성\n",
    "    'D': ['Mr', 'Don'], # 남성\n",
    "    'E': ['Miss', 'Mlle', 'Lady'], # 젊은 여성\n",
    "    'F': ['Master'] # 젊은 남성   \n",
    "}\n",
    "\n",
    "# 정의한 호칭의 기준에 따라 A~F의 문자로 name 피처를 다시 정의하는 함수 생성\n",
    "def give_status(x):\n",
    "    prefix = x.split(', ', 1)[1].split('.')[0]\n",
    "    for key, value in status_dict.items():\n",
    "        for status in value:\n",
    "            if prefix == status:\n",
    "                return key\n",
    "    return 'G'\n",
    "\n",
    "# 함수 적용하여 name 피처 새롭게 정의\n",
    "whole_df['name'] = whole_df['name'].apply(lambda x: give_status(x))\n",
    "print(whole_df['name'].value_counts())"
   ]
  },
  {
   "cell_type": "markdown",
   "id": "ec7872c1",
   "metadata": {},
   "source": [
    "피처 엔지니어링이 끝난 name 피처의 생존자/비생존자 그룹 간 분포는 아래와 같다.  "
   ]
  },
  {
   "cell_type": "code",
   "execution_count": 178,
   "id": "9d5bd588",
   "metadata": {},
   "outputs": [
    {
     "data": {
      "image/png": "[encoded data removed]",
      "text/plain": [
       "<Figure size 640x480 with 1 Axes>"
      ]
     },
     "metadata": {},
     "output_type": "display_data"
    }
   ],
   "source": [
    "ax = sns.countplot(x='name', hue='survived', data=whole_df)\n",
    "plt.title('Number of Survivors(1) & Non-survivors(0) by Name(Social Status)')\n",
    "plt.show()"
   ]
  },
  {
   "cell_type": "markdown",
   "id": "470eec98",
   "metadata": {},
   "source": [
    "마찬가지로, 새롭게 정의된 name 피처에서도 생존자/비생존자 두 그룹간의 차이가 있기 때문에 분류 분석에 사용해볼 수 있다.  "
   ]
  },
  {
   "cell_type": "markdown",
   "id": "8c0a7e07",
   "metadata": {},
   "source": [
    "피처 엔지니어링을 마치고 이제 모든 범주형 피처들(name, cabim, sex, embarked)에 원-핫 인코딩을 적용한다. \n",
    "\n",
    "**원-핫 인코딩**"
   ]
  },
  {
   "cell_type": "code",
   "execution_count": 182,
   "id": "948142d9",
   "metadata": {},
   "outputs": [
    {
     "data": {
      "text/html": [
       "<div>\n",
       "<style scoped>\n",
       "    .dataframe tbody tr th:only-of-type {\n",
       "        vertical-align: middle;\n",
       "    }\n",
       "\n",
       "    .dataframe tbody tr th {\n",
       "        vertical-align: top;\n",
       "    }\n",
       "\n",
       "    .dataframe thead th {\n",
       "        text-align: right;\n",
       "    }\n",
       "</style>\n",
       "<table border=\"1\" class=\"dataframe\">\n",
       "  <thead>\n",
       "    <tr style=\"text-align: right;\">\n",
       "      <th></th>\n",
       "      <th>pclass</th>\n",
       "      <th>survived</th>\n",
       "      <th>age</th>\n",
       "      <th>sibsp</th>\n",
       "      <th>parch</th>\n",
       "      <th>fare</th>\n",
       "      <th>name_A</th>\n",
       "      <th>name_B</th>\n",
       "      <th>name_C</th>\n",
       "      <th>name_D</th>\n",
       "      <th>...</th>\n",
       "      <th>cabin_A</th>\n",
       "      <th>cabin_B</th>\n",
       "      <th>cabin_C</th>\n",
       "      <th>cabin_D</th>\n",
       "      <th>cabin_E</th>\n",
       "      <th>cabin_F</th>\n",
       "      <th>cabin_n</th>\n",
       "      <th>embarked_C</th>\n",
       "      <th>embarked_Q</th>\n",
       "      <th>embarked_S</th>\n",
       "    </tr>\n",
       "  </thead>\n",
       "  <tbody>\n",
       "    <tr>\n",
       "      <th>0</th>\n",
       "      <td>2</td>\n",
       "      <td>1</td>\n",
       "      <td>13.000000</td>\n",
       "      <td>0</td>\n",
       "      <td>1</td>\n",
       "      <td>19.5000</td>\n",
       "      <td>0</td>\n",
       "      <td>0</td>\n",
       "      <td>0</td>\n",
       "      <td>0</td>\n",
       "      <td>...</td>\n",
       "      <td>0</td>\n",
       "      <td>0</td>\n",
       "      <td>0</td>\n",
       "      <td>0</td>\n",
       "      <td>0</td>\n",
       "      <td>0</td>\n",
       "      <td>1</td>\n",
       "      <td>0</td>\n",
       "      <td>0</td>\n",
       "      <td>1</td>\n",
       "    </tr>\n",
       "    <tr>\n",
       "      <th>1</th>\n",
       "      <td>2</td>\n",
       "      <td>1</td>\n",
       "      <td>4.000000</td>\n",
       "      <td>1</td>\n",
       "      <td>1</td>\n",
       "      <td>23.0000</td>\n",
       "      <td>0</td>\n",
       "      <td>0</td>\n",
       "      <td>0</td>\n",
       "      <td>0</td>\n",
       "      <td>...</td>\n",
       "      <td>0</td>\n",
       "      <td>0</td>\n",
       "      <td>0</td>\n",
       "      <td>0</td>\n",
       "      <td>0</td>\n",
       "      <td>0</td>\n",
       "      <td>1</td>\n",
       "      <td>0</td>\n",
       "      <td>0</td>\n",
       "      <td>1</td>\n",
       "    </tr>\n",
       "    <tr>\n",
       "      <th>2</th>\n",
       "      <td>2</td>\n",
       "      <td>1</td>\n",
       "      <td>30.000000</td>\n",
       "      <td>1</td>\n",
       "      <td>0</td>\n",
       "      <td>13.8583</td>\n",
       "      <td>0</td>\n",
       "      <td>0</td>\n",
       "      <td>0</td>\n",
       "      <td>0</td>\n",
       "      <td>...</td>\n",
       "      <td>0</td>\n",
       "      <td>0</td>\n",
       "      <td>0</td>\n",
       "      <td>0</td>\n",
       "      <td>0</td>\n",
       "      <td>0</td>\n",
       "      <td>1</td>\n",
       "      <td>1</td>\n",
       "      <td>0</td>\n",
       "      <td>0</td>\n",
       "    </tr>\n",
       "    <tr>\n",
       "      <th>3</th>\n",
       "      <td>3</td>\n",
       "      <td>0</td>\n",
       "      <td>30.231444</td>\n",
       "      <td>0</td>\n",
       "      <td>0</td>\n",
       "      <td>7.7250</td>\n",
       "      <td>0</td>\n",
       "      <td>0</td>\n",
       "      <td>0</td>\n",
       "      <td>1</td>\n",
       "      <td>...</td>\n",
       "      <td>0</td>\n",
       "      <td>0</td>\n",
       "      <td>0</td>\n",
       "      <td>0</td>\n",
       "      <td>0</td>\n",
       "      <td>0</td>\n",
       "      <td>1</td>\n",
       "      <td>0</td>\n",
       "      <td>1</td>\n",
       "      <td>0</td>\n",
       "    </tr>\n",
       "    <tr>\n",
       "      <th>4</th>\n",
       "      <td>3</td>\n",
       "      <td>1</td>\n",
       "      <td>22.000000</td>\n",
       "      <td>0</td>\n",
       "      <td>0</td>\n",
       "      <td>7.7250</td>\n",
       "      <td>0</td>\n",
       "      <td>0</td>\n",
       "      <td>0</td>\n",
       "      <td>0</td>\n",
       "      <td>...</td>\n",
       "      <td>0</td>\n",
       "      <td>0</td>\n",
       "      <td>0</td>\n",
       "      <td>0</td>\n",
       "      <td>0</td>\n",
       "      <td>0</td>\n",
       "      <td>1</td>\n",
       "      <td>0</td>\n",
       "      <td>1</td>\n",
       "      <td>0</td>\n",
       "    </tr>\n",
       "  </tbody>\n",
       "</table>\n",
       "<p>5 rows × 24 columns</p>\n",
       "</div>"
      ],
      "text/plain": [
       "   pclass  survived        age  sibsp  parch     fare  name_A  name_B  name_C  \\\n",
       "0       2         1  13.000000      0      1  19.5000       0       0       0   \n",
       "1       2         1   4.000000      1      1  23.0000       0       0       0   \n",
       "2       2         1  30.000000      1      0  13.8583       0       0       0   \n",
       "3       3         0  30.231444      0      0   7.7250       0       0       0   \n",
       "4       3         1  22.000000      0      0   7.7250       0       0       0   \n",
       "\n",
       "   name_D  ...  cabin_A  cabin_B  cabin_C  cabin_D  cabin_E  cabin_F  cabin_n  \\\n",
       "0       0  ...        0        0        0        0        0        0        1   \n",
       "1       0  ...        0        0        0        0        0        0        1   \n",
       "2       0  ...        0        0        0        0        0        0        1   \n",
       "3       1  ...        0        0        0        0        0        0        1   \n",
       "4       0  ...        0        0        0        0        0        0        1   \n",
       "\n",
       "   embarked_C  embarked_Q  embarked_S  \n",
       "0           0           0           1  \n",
       "1           0           0           1  \n",
       "2           1           0           0  \n",
       "3           0           1           0  \n",
       "4           0           1           0  \n",
       "\n",
       "[5 rows x 24 columns]"
      ]
     },
     "execution_count": 182,
     "metadata": {},
     "output_type": "execute_result"
    }
   ],
   "source": [
    "# 범주형 피처(name, cabim, sex, embarked)에 원-핫 인코딩 적용 \n",
    "whole_df_encoded = pd.get_dummies(whole_df)\n",
    "whole_df_encoded.head()"
   ]
  },
  {
   "cell_type": "markdown",
   "id": "017ec98e",
   "metadata": {},
   "source": [
    "이제 다시 모델을 학습해보자.  \n",
    "\n",
    "**로지스틱 회귀 모델 학습**"
   ]
  },
  {
   "cell_type": "code",
   "execution_count": 211,
   "id": "fd6dcdb1",
   "metadata": {},
   "outputs": [],
   "source": [
    "## 피처 엔지니어링 후 데이터셋 학습 ##\n",
    "# 데이터를 train, test 데이터셋으로 분리\n",
    "train_idx_num = len(df_train)\n",
    "df_train = whole_df_encoded[:train_idx_num]\n",
    "df_test = whole_df_encoded[train_idx_num:]\n",
    "\n",
    "# train, test 데이터를 x, y로 분리 (x: y를 제외한 모든 값, y: 분류 예측값(0 or 1))\n",
    "x_train = df_train.drop(['survived'], axis=1).values\n",
    "y_train = df_train['survived'].values\n",
    "\n",
    "x_test = df_test.drop(['survived'], axis=1).values\n",
    "y_test = df_test['survived'].values\n",
    "\n",
    "# 로지스틱 회귀 모델 학습\n",
    "lr = LogisticRegression(max_iter=800, random_state=42)\n",
    "lr.fit(x_train, y_train)\n",
    "\n",
    "# 학습한 모델의 테스트 데이터셋에 대한 예측 결과 반환\n",
    "y_pred = lr.predict(x_test)\n",
    "y_pred_probability = lr.predict_proba(x_test)[:, 1] # 각 클래스가 1일 확률"
   ]
  },
  {
   "cell_type": "markdown",
   "id": "bc6ebe24",
   "metadata": {},
   "source": [
    "**로지스틱 회귀 모델 평가**"
   ]
  },
  {
   "cell_type": "code",
   "execution_count": 186,
   "id": "7810bf87",
   "metadata": {},
   "outputs": [
    {
     "name": "stdout",
     "output_type": "stream",
     "text": [
      "accuracy: 0.80\n",
      "precision: 0.739\n",
      "recall: 0.714\n",
      "f1: 0.727\n",
      "AUC: 0.853\n"
     ]
    },
    {
     "data": {
      "image/png": "[encoded data removed]",
      "text/plain": [
       "<Figure size 500x400 with 1 Axes>"
      ]
     },
     "metadata": {},
     "output_type": "display_data"
    }
   ],
   "source": [
    "# 테스트 데이터셋에 대한 정확도, 정밀도, 재현도, f1 score 출력\n",
    "print('accuracy: %.2f' % accuracy_score(y_test, y_pred))\n",
    "print('precision: %.3f' % precision_score(y_test, y_pred))\n",
    "print('recall: %.3f' % recall_score(y_test, y_pred))\n",
    "print('f1: %.3f' % f1_score(y_test, y_pred))\n",
    "\n",
    "# AUC 출력\n",
    "false_positive_rate, true_positive_rate, thresholds = roc_curve(y_test, y_pred_probability)\n",
    "auc_score = roc_auc_score(y_test, y_pred_probability)\n",
    "print('AUC: %.3f' % auc_score)\n",
    "\n",
    "# ROC Curve 그래프 출력\n",
    "plt.figure(figsize=(5,4))\n",
    "plt.plot(false_positive_rate, true_positive_rate,\n",
    "         label='ROC Curve (area = %.3f)' % auc_score,\n",
    "         color='red',\n",
    "         linewidth=4.0)\n",
    "plt.plot([0,1], [0,1], 'k--')\n",
    "plt.xlim([0.0, 1.0])\n",
    "plt.ylim([0.0, 1.0])\n",
    "plt.xlabel('False Positive Rate')\n",
    "plt.ylabel('True Positive Rate')\n",
    "plt.title('ROC Curve of Logistic Regression')\n",
    "plt.legend(loc='lower right')\n",
    "plt.show()"
   ]
  },
  {
   "cell_type": "markdown",
   "id": "ea3299ae",
   "metadata": {},
   "source": [
    "피처 엔지니어링 전 로지스틱 회귀 모델 평가 결과 비교   \n",
    "- accuracy: 0.80 -> 0.80\n",
    "- precision: 0.756 -> 0.739\n",
    "- recall: 0.67 -> 0.714\n",
    "- F1: 0.71 -> 0.727\n",
    "- AUC: 0.838 -> 0.853\n",
    "\n",
    "평가 점수를 비교해본 결과   \n",
    "정확도는 차이가 없고,\n",
    "정밀도, 재현율은 피처 엔지니어링 전이 더 높다.  \n",
    "하지만 F1과 AUC score는 피처 엔지니어링 후 더 높아졌다. "
   ]
  },
  {
   "cell_type": "markdown",
   "id": "82dbef6f",
   "metadata": {},
   "source": [
    "다음은 분류 모델에서 피처들의 영향력을 그래프로 살펴보자.  \n",
    "\n",
    "**피처 영향력 그래프 (회귀 분석 계수)**"
   ]
  },
  {
   "cell_type": "code",
   "execution_count": 198,
   "id": "12aa498a",
   "metadata": {},
   "outputs": [
    {
     "data": {
      "text/plain": [
       "<Figure size 500x400 with 0 Axes>"
      ]
     },
     "metadata": {},
     "output_type": "display_data"
    },
    {
     "data": {
      "image/png": "[encoded data removed]",
      "text/plain": [
       "<Figure size 640x480 with 1 Axes>"
      ]
     },
     "metadata": {},
     "output_type": "display_data"
    }
   ],
   "source": [
    "# 예측 대상인 survived 피처를 제외한 모든 피처명을 리스트로 반환 (그래프의 y 축)\n",
    "cols = df_train.columns.tolist()\n",
    "cols.remove('survived')\n",
    "y_pos = np.arange(len(cols))\n",
    "\n",
    "# 각 피처별 회귀 분석 계수를 그래프의 x 축으로 하여 피처 영향력 그래프를 출력\n",
    "plt.figure(figsize=(5,4))\n",
    "fig, ax = plt.subplots() # 전체, 낱개\n",
    "ax.barh(y_pos, lr.coef_[0], align='center', color='green')\n",
    "ax.set_yticks(y_pos)\n",
    "ax.set_yticklabels(cols)\n",
    "ax.invert_yaxis()\n",
    "ax.set_xlabel('Coefficients')\n",
    "ax.set_title('Features Coefficients')\n",
    "\n",
    "plt.show()"
   ]
  },
  {
   "cell_type": "code",
   "execution_count": 240,
   "id": "5dbda095",
   "metadata": {},
   "outputs": [
    {
     "data": {
      "text/plain": [
       "[('name_F', 1.245067826545517),\n",
       " ('sex_female', 0.7405626086533652),\n",
       " ('cabin_F', 0.5465546844974022),\n",
       " ('name_C', 0.5097336469946795),\n",
       " ('cabin_E', 0.42108007707937994)]"
      ]
     },
     "execution_count": 240,
     "metadata": {},
     "output_type": "execute_result"
    }
   ],
   "source": [
    "# {피쳐: 회귀 계수} 딕셔너리 생성\n",
    "coef_dict = {\n",
    "    feature: coef for feature, coef in zip(cols, lr.coef_[0])\n",
    "}\n",
    "\n",
    "# 분류에 영향력이 큰 피처 상위 5개 \n",
    "coef_top5 = sorted(coef_dict.items(), key=lambda x: x[1], reverse=True)[:5]\n",
    "coef_top5"
   ]
  },
  {
   "cell_type": "markdown",
   "id": "270dc72f",
   "metadata": {},
   "source": [
    "피처 영향력 그래프와 회귀 계수가 큰 피처 상위 5개를 살펴보았을 때,  \n",
    "피처 엔지니어링으로 생성된 'name'과 'cabin'이 모델 분석에 중요한 영향을 끼쳤다는 것을 알 수 있다.  "
   ]
  },
  {
   "cell_type": "markdown",
   "id": "57790fcb",
   "metadata": {},
   "source": [
    "### 1.4 평가: 모델 검증하기"
   ]
  },
  {
   "cell_type": "markdown",
   "id": "5e791462",
   "metadata": {},
   "source": [
    "다음의 두 가지 방법을 통해 모델의 **과적합 여부**를 검증해보자.  \n",
    "1. K-fold 교차 검증 (K-fold cross validation)\n",
    "2. 학습 곡선 (Learning Curve)"
   ]
  },
  {
   "cell_type": "markdown",
   "id": "65955d9e",
   "metadata": {},
   "source": [
    "**K-fold 교차 검증**  \n",
    "train과 test 데이터 셋을 나눌 때, 두 데이터는 불균등하게 나눠졌을 가능성이 있다.  \n",
    "K-fold 교차 검증은 이 가능성을 낮춰주는 방법으로, 데이터를 k개의 fold로 나누어 k-1개는 train 데이터, 나머지 한 개는 test 데이터로 사용한다.  \n",
    "\n",
    "예시) K: 5   \n",
    "Iteration 1 (**Test** | Train | Train | Train | Train)  \n",
    "Iteration 2 (Train | **Test** | Train | Train | Train)  \n",
    "Iteration 3 (Train | Train | **Test** | Train | Train)  \n",
    "Iteration 4 (Train | Train | Train | **Test** | Train)  \n",
    "Iteration 5 (Train | Train | Train | Train | **Test**)  \n",
    "\n",
    "예시에서는 총 5회의 학습(Iteration)을 통해 모델의 분할 검증(Test)을 5회 반복하는 것이다.  \n",
    "만약 이 K번의 검증 과정에서 테스트 점수 간의 차이가 크지 않다면 모델은 과적합이 일어났을 가능성이 낮은 것이다.  "
   ]
  },
  {
   "cell_type": "markdown",
   "id": "d7e80147",
   "metadata": {},
   "source": [
    "**K-fole 교차 검증**"
   ]
  },
  {
   "cell_type": "code",
   "execution_count": 249,
   "id": "95ab470d",
   "metadata": {},
   "outputs": [
    {
     "data": {
      "image/png": "[encoded data removed]",
      "text/plain": [
       "<Figure size 640x480 with 1 Axes>"
      ]
     },
     "metadata": {},
     "output_type": "display_data"
    }
   ],
   "source": [
    "from sklearn.model_selection import KFold\n",
    "# k=5로 설정\n",
    "k =5\n",
    "cv = KFold(k, shuffle=True, random_state=42)\n",
    "auc_history = []\n",
    "\n",
    "# k-fold를 5번의 분할 학습으로 반복\n",
    "for i, (train_data_row, test_data_row) in enumerate(cv.split(whole_df_encoded)): # enumerate(): 인덱스와 원소로 이루어진 튜플(tuple) 생성\n",
    "        \n",
    "        # 5개로 분할된 fold 중 4개를 학습 데이터셋, 1개를 테스트 데이터셋으로 지정한다. 매 반복시마다 테스트 데이터셋은 변경된다.\n",
    "        df_train = whole_df_encoded.iloc[train_data_row]\n",
    "        df_test = whole_df_encoded.iloc[test_data_row]\n",
    "        \n",
    "        # survived 피처를 y, 나머지 피처들을 x 데이터로 지정\n",
    "        splited_x_train = df_train.drop(['survived'], axis=1).values\n",
    "        splited_y_train = df_train['survived'].values\n",
    "        splited_x_test = df_test.drop(['survived'], axis=1).values\n",
    "        splited_y_test = df_test['survived'].values\n",
    "        \n",
    "        # 주어진 데이터로 로지스틱 회귀 모델을 학습\n",
    "        lr = LogisticRegression(max_iter=800, random_state=42)\n",
    "        lr.fit(splited_x_train, splited_y_train)\n",
    "        y_pred = lr.predict(splited_x_test)\n",
    "        y_pred_probability = lr.predict_proba(splited_x_test)[:,1]\n",
    "        \n",
    "        # 테스트 데이터셋의 AUC를 계산하여 auc_history에 저장\n",
    "        false_positive_rate, true_positive_rate, threshold = roc_curve(splited_y_test, y_pred_probability)\n",
    "        auc_score = roc_auc_score(splited_y_test, y_pred_probability)\n",
    "        auc_history.append(auc_score)\n",
    "\n",
    "# auc_history에 저장된 다섯 번의 학습 결과(AUC)를 그래프로 출력\n",
    "plt.xlabel('Iteration')\n",
    "plt.ylabel('AUC of splited test data')\n",
    "plt.plot(range(1, k+1), auc_history) # baseline # plt.plot(x,y)\n",
    "plt.title('AUC Scores of K-fold Cross Validation (K=5)')\n",
    "plt.show()"
   ]
  },
  {
   "cell_type": "markdown",
   "id": "32c790ec",
   "metadata": {},
   "source": [
    "그래프를 살펴본 결과, AUC가 큰 폭으로 변화하고 있는 것을 볼 수 있다.  \n",
    "따라서 이 모델은 다소 불안정한 모델이라고 할 수 있다.  \n",
    "다만 이러한 결과는 데이터의 개수가 적기 때문에 발생하는 현상이다.   \n",
    "게다가 모든 실행에서 공통적으로 Test AUC가 0.8 이상의 수치를 기록했기 떄문에 이 분류 모델은 '과적합이 발생했지만 대체로 높은 정확도를 가지는 모델'이라고 할 수 있다.  "
   ]
  },
  {
   "cell_type": "markdown",
   "id": "f80c1934",
   "metadata": {},
   "source": [
    "**학습 곡선**\n",
    "\n",
    "학습 데이터와 테스트 데이터의 점수가 벌어지는 과적합 상황은 학습 곡선을 관찰함으로써 더 쉽게 살펴볼 수 있다.  \n",
    "학습 데이터 샘플의 개수가 증가함에 따라 학습과 테스트 두 점수가 어떻게 변화하는지를 관찰해보자.  "
   ]
  },
  {
   "cell_type": "code",
   "execution_count": 251,
   "id": "340e4042",
   "metadata": {},
   "outputs": [
    {
     "data": {
      "image/png": "[encoded data removed]",
      "text/plain": [
       "<Figure size 640x480 with 1 Axes>"
      ]
     },
     "metadata": {},
     "output_type": "display_data"
    }
   ],
   "source": [
    "import scikitplot as skplt\n",
    "skplt.estimators.plot_learning_curve(lr, x_train, y_train)\n",
    "plt.show()"
   ]
  },
  {
   "cell_type": "markdown",
   "id": "c76b015a",
   "metadata": {},
   "source": [
    "이를 통해 데이터가 300개 이상인 경우에는 과적합의 위험이 낮아진다는 것을 알 수 있다.  "
   ]
  },
  {
   "cell_type": "markdown",
   "id": "167512bb",
   "metadata": {},
   "source": [
    "### 정리"
   ]
  },
  {
   "cell_type": "markdown",
   "id": "79abfc49",
   "metadata": {},
   "source": [
    "- **로지스틱 회귀 분류 모델**  \n",
    "    - 모델의 결과인 0~1 사이의 확률 값을 0 또는 1로 분류하는 방법이다.  \n",
    "    - 피처 영향력을 분석하기 용이하다는 장점이 있다.  \n",
    "- **결측값 처리**  \n",
    "    - 결측값을 처리하는 방법은 결측값을 삭제하는 방법 또는 임의의 수치로 채워 넣는 방법이 있다.\n",
    "- **분류 모델의 평가**  \n",
    "    - Confusion Matrix를 기반으로 한 분류 모델의 평가지표\n",
    "        - Confusion Matrix를 통해 계산된 Accuracy, Precision, Recall, F1-score, AUC 등의 수치로 분류 모델을 평가한다.  \n",
    "- **분류 모델의 개선**  \n",
    "    - 피처 엔지니어링: 모델에 사용할 피처를 가공하는 분석 작업\n",
    "- **분류 모델의 검증**  \n",
    "    - 모델의 성능을 검증하기 위해서는 모델의 과적합 여부를 판단한다.  \n",
    "    - 그 방법으로 K-fold 교차 검증, 학습 곡선의 관찰 등의 방법이 있다.  "
   ]
  },
  {
   "cell_type": "markdown",
   "id": "7bc60b51",
   "metadata": {},
   "source": [
    "## 2. 강남역 맛집 리뷰로 알아보는 감성 분류"
   ]
  },
  {
   "cell_type": "markdown",
   "id": "3a9c6ee0",
   "metadata": {},
   "source": [
    "분류 모델의 대표적인 활용 방법 중 하나는 **감성 분류**이다.  \n",
    "감성 분류란 문서를 긍정(positive) 또는 부정(negative) 의견으로 나누어 분류하는 것이다.  \n",
    "\n",
    "강남역 맛집 리뷰 데이터에 대해 감성 분류를 수행하고 맛집을 식별해주는 중요 키워드를 함께 알아보자.  "
   ]
  },
  {
   "cell_type": "markdown",
   "id": "4c357448",
   "metadata": {},
   "source": [
    "### 2.1 크롤링: 카카오맵 리뷰 크롤링"
   ]
  },
  {
   "cell_type": "markdown",
   "id": "316ae823",
   "metadata": {},
   "source": [
    "먼저 크롤링을 이용하여 감성 분류에 필요한 데이터를 직접 수집해보자.  \n",
    "크롤링할 데이터는 카카오맵의 음식점 랭킹 정보이다.  \n",
    "\n",
    "이전의 나무위키 크롤링과 마찬가지로, 이번 예제에서도 selenium을 이용한 크롤링을 수행한다.  \n",
    "카카오 맵 페이지의 경우, Javascript 기반으로 페이지의 정보가 동적 로딩되기 때문에,  \n",
    "나무위키 페이지보다 크롤링하기에 조금 더 까다로운 편이다.  \n",
    "\n",
    "우선 페이지의 구성을 보면, 검색어를 입력하면 그에 맞는 음식점이 결과로 나오는 형태이다.  \n",
    "필요한 정보는 각 음식점의 리뷰 데이터이기 때문에, 음식점마다 달려있는 '상세보기' 링크를 통해 리뷰 데이터를 수집해야 한다.  \n",
    "이를 얻기 위해 상세보기 링크를 추출하는 과정이 필요하다.  \n",
    "아래는 '강남역 고기집'을 검색했을 때 나오는 음식점들의 상세보기 링크를 크롤링한 것이다.  \n",
    "\n",
    "**카카오맵 검색 결과로 나오는 고기집의 '상세보기' 페이지 url 정보 구하기**"
   ]
  },
  {
   "cell_type": "code",
   "execution_count": 257,
   "id": "66395b40",
   "metadata": {},
   "outputs": [
    {
     "name": "stderr",
     "output_type": "stream",
     "text": [
      "/var/folders/hf/v7h_0c452jq2_96439gvcks40000gn/T/ipykernel_80572/4110363268.py:19: DeprecationWarning: executable_path has been deprecated, please pass in a Service object\n",
      "  driver = webdriver.Chrome(path)\n"
     ]
    },
    {
     "name": "stdout",
     "output_type": "stream",
     "text": [
      "https://place.map.kakao.com/95713992\n",
      "https://place.map.kakao.com/2011092566\n",
      "https://place.map.kakao.com/1503746075\n",
      "https://place.map.kakao.com/741391811\n",
      "https://place.map.kakao.com/1052874675\n",
      "https://place.map.kakao.com/168079537\n",
      "https://place.map.kakao.com/1648266796\n",
      "https://place.map.kakao.com/27238067\n",
      "https://place.map.kakao.com/26573718\n",
      "https://place.map.kakao.com/263830255\n",
      "https://place.map.kakao.com/1511737742\n",
      "https://place.map.kakao.com/1780387311\n",
      "https://place.map.kakao.com/27511865\n",
      "https://place.map.kakao.com/56929632\n",
      "https://place.map.kakao.com/785573131\n"
     ]
    }
   ],
   "source": [
    "import pandas as pd\n",
    "import numpy as np\n",
    "import matplotlib.pyplot as plt\n",
    "import seaborn as sns\n",
    "\n",
    "from selenium import webdriver\n",
    "from selenium.webdriver.common.by import By\n",
    "from bs4 import BeautifulSoup\n",
    "import re\n",
    "import time\n",
    "\n",
    "# brew로 설치된 chromdriver의 path\n",
    "path = '/usr/local/chromedriver'\n",
    "\n",
    "# 크롤링할 사이트 주소 정의\n",
    "source_url = \"https://map.kakao.com/\"\n",
    "\n",
    "# 크롬 드라이버 사용\n",
    "driver = webdriver.Chrome(path)\n",
    "\n",
    "# 카카오 지도에 접속\n",
    "driver.get(source_url)\n",
    "\n",
    "# 검색창에 검색어를 입력\n",
    "searchbox = driver.find_element(By.XPATH, \"//input[@id='search.keyword.query']\")\n",
    "searchbox.send_keys(\"강남역 고기집\")\n",
    "\n",
    "# 검색버튼을 놀러서 결과를 가져옵니다\n",
    "searchbutton = driver.find_element(By.XPATH, \"//button[@id='search.keyword.submit']\")\n",
    "driver.execute_script(\"arguments[0].click()\", searchbutton)\n",
    "\n",
    "# 검색 결과를 가져올 시간 대기\n",
    "time.sleep(2)\n",
    "\n",
    "# 검색 결과의 페이지 소스\n",
    "html = driver.page_source\n",
    "\n",
    "# BeautifulSoup을 이용하여 html 정보 파싱\n",
    "soup = BeautifulSoup(html, \"html.parser\")\n",
    "moreviews = soup.find_all(name=\"a\", attrs={\"class\":\"moreview\"})\n",
    "\n",
    "# a 태그의 href 속성을 리스트로 추출하여, 크롤링 할 페이지 리스트를 생성\n",
    "page_urls = []\n",
    "for moreview in moreviews:\n",
    "    page_url = moreview.get(\"href\")\n",
    "    print(page_url)\n",
    "    page_urls.append(page_url)\n",
    "\n",
    "# 크롤링에 사용한 브라우저 종료\n",
    "driver.close()"
   ]
  },
  {
   "cell_type": "markdown",
   "id": "9a67b19b",
   "metadata": {},
   "source": [
    "**가져온 식당별 '상세보기' 페이지의 평점과 리뷰 데이터 크롤링**"
   ]
  },
  {
   "cell_type": "code",
   "execution_count": 406,
   "id": "8b74993d",
   "metadata": {},
   "outputs": [
    {
     "name": "stderr",
     "output_type": "stream",
     "text": [
      "/var/folders/hf/v7h_0c452jq2_96439gvcks40000gn/T/ipykernel_80572/3356576542.py:4: DeprecationWarning: executable_path has been deprecated, please pass in a Service object\n",
      "  driver = webdriver.Chrome(path)\n"
     ]
    }
   ],
   "source": [
    "columns = ['score', 'review']\n",
    "df = pd.DataFrame(columns=columns)\n",
    "\n",
    "driver = webdriver.Chrome(path)\n",
    "\n",
    "for page_url in page_urls:\n",
    "    \n",
    "    # '상세보기' 페이지에 접속\n",
    "    driver.get(page_url)\n",
    "    time.sleep(2) \n",
    "    \n",
    "    # 리뷰 크롤링\n",
    "    html = driver.page_source\n",
    "    soup = BeautifulSoup(html, 'html.parser')\n",
    "    \n",
    "    # 리뷰를 제공하지 않는 경우, 다음 항목으로 넘어가기\n",
    "    try:  \n",
    "        contents_div = soup.find(name='ul', attrs={'class':'list_evaluation'})\n",
    "        \n",
    "        # '후기 더보기'를 다섯 번 클릭\n",
    "        for more_reviews in range(1, 6): \n",
    "            \n",
    "            # 오류가 나는 경우, 다음 항목으로 넘어가기\n",
    "            try: \n",
    "                another_reviews = driver.find_element(By.XPATH, \"//span[@class='txt_more']\")\n",
    "                another_reviews.click()\n",
    "                time.sleep(2) \n",
    "                \n",
    "                # 평점과 코멘트 가져오기\n",
    "                rates = contents_div.find_all(name='span', attrs={'class':'ico_star inner_star'})\n",
    "                reviews = contents_div.find_all(name='p', attrs={'class':'txt_comment'})\n",
    "\n",
    "                for rate, review in zip(rates, reviews):\n",
    "                    \n",
    "                    rate = int(int(str(rate)[-13:-11]) / 20)\n",
    "                    review = review.find(name='span').text\n",
    "                    row = [rate, review]\n",
    "                    df_new = pd.DataFrame([row], columns=columns)\n",
    "                    df = pd.concat([df, df_new], axis=0, ignore_index=True) \n",
    "                    \n",
    "            except:\n",
    "                pass       \n",
    "    except:\n",
    "        pass\n",
    "            \n",
    "driver.close()"
   ]
  },
  {
   "cell_type": "markdown",
   "id": "dd78e550",
   "metadata": {},
   "source": [
    "크롤링된 데이터에서 4점 이상의 리뷰를 긍정(1), 3점 이하를 부정(0) 리뷰라고 평가하자.    "
   ]
  },
  {
   "cell_type": "code",
   "execution_count": 407,
   "id": "f702176b",
   "metadata": {},
   "outputs": [
    {
     "name": "stdout",
     "output_type": "stream",
     "text": [
      "(180, 3)\n"
     ]
    },
    {
     "data": {
      "text/html": [
       "<div>\n",
       "<style scoped>\n",
       "    .dataframe tbody tr th:only-of-type {\n",
       "        vertical-align: middle;\n",
       "    }\n",
       "\n",
       "    .dataframe tbody tr th {\n",
       "        vertical-align: top;\n",
       "    }\n",
       "\n",
       "    .dataframe thead th {\n",
       "        text-align: right;\n",
       "    }\n",
       "</style>\n",
       "<table border=\"1\" class=\"dataframe\">\n",
       "  <thead>\n",
       "    <tr style=\"text-align: right;\">\n",
       "      <th></th>\n",
       "      <th>score</th>\n",
       "      <th>review</th>\n",
       "      <th>y</th>\n",
       "    </tr>\n",
       "  </thead>\n",
       "  <tbody>\n",
       "    <tr>\n",
       "      <th>175</th>\n",
       "      <td>0</td>\n",
       "      <td>고기 질이 좋았어요네이버로 예약하고가면 직원분께서 직접 구워주시는데 너무 잘 구워주...</td>\n",
       "      <td>0</td>\n",
       "    </tr>\n",
       "    <tr>\n",
       "      <th>176</th>\n",
       "      <td>0</td>\n",
       "      <td></td>\n",
       "      <td>0</td>\n",
       "    </tr>\n",
       "    <tr>\n",
       "      <th>177</th>\n",
       "      <td>0</td>\n",
       "      <td>존맛탱</td>\n",
       "      <td>0</td>\n",
       "    </tr>\n",
       "    <tr>\n",
       "      <th>178</th>\n",
       "      <td>0</td>\n",
       "      <td>고기 질이 좋았어요네이버로 예약하고가면 직원분께서 직접 구워주시는데 너무 잘 구워주...</td>\n",
       "      <td>0</td>\n",
       "    </tr>\n",
       "    <tr>\n",
       "      <th>179</th>\n",
       "      <td>0</td>\n",
       "      <td></td>\n",
       "      <td>0</td>\n",
       "    </tr>\n",
       "  </tbody>\n",
       "</table>\n",
       "</div>"
      ],
      "text/plain": [
       "    score                                             review  y\n",
       "175     0  고기 질이 좋았어요네이버로 예약하고가면 직원분께서 직접 구워주시는데 너무 잘 구워주...  0\n",
       "176     0                                                     0\n",
       "177     0                                                존맛탱  0\n",
       "178     0  고기 질이 좋았어요네이버로 예약하고가면 직원분께서 직접 구워주시는데 너무 잘 구워주...  0\n",
       "179     0                                                     0"
      ]
     },
     "execution_count": 407,
     "metadata": {},
     "output_type": "execute_result"
    }
   ],
   "source": [
    "df['y'] = df['score'].apply(lambda x: 1 if x > 3 else 0 )\n",
    "\n",
    "print(df.shape)\n",
    "df.tail()"
   ]
  },
  {
   "cell_type": "markdown",
   "id": "232c1bbf",
   "metadata": {},
   "source": [
    "### 2.2 텍스트 전처리: 분류 모델 피처로 변환하기"
   ]
  },
  {
   "cell_type": "markdown",
   "id": "06ddc0f9",
   "metadata": {},
   "source": [
    "다음 단계는 수집한 텍스트 데이터를 감성 분류의 피처로 사용할 수 있도록 하는 텍스트 전처리 과정이다.  \n",
    "\n",
    "먼저 데이터에서 한글 문자열을 필터링해보자.  \n",
    "\n",
    "**한글 텍스트 전처리**"
   ]
  },
  {
   "cell_type": "code",
   "execution_count": 415,
   "id": "d0ae6946",
   "metadata": {},
   "outputs": [
    {
     "name": "stdout",
     "output_type": "stream",
     "text": [
      "(155, 3)\n"
     ]
    },
    {
     "data": {
      "text/html": [
       "<div>\n",
       "<style scoped>\n",
       "    .dataframe tbody tr th:only-of-type {\n",
       "        vertical-align: middle;\n",
       "    }\n",
       "\n",
       "    .dataframe tbody tr th {\n",
       "        vertical-align: top;\n",
       "    }\n",
       "\n",
       "    .dataframe thead th {\n",
       "        text-align: right;\n",
       "    }\n",
       "</style>\n",
       "<table border=\"1\" class=\"dataframe\">\n",
       "  <thead>\n",
       "    <tr style=\"text-align: right;\">\n",
       "      <th></th>\n",
       "      <th>score</th>\n",
       "      <th>y</th>\n",
       "      <th>ko_text</th>\n",
       "    </tr>\n",
       "  </thead>\n",
       "  <tbody>\n",
       "    <tr>\n",
       "      <th>0</th>\n",
       "      <td>3</td>\n",
       "      <td>0</td>\n",
       "      <td>맛은 그냥 보통임 가운데에 치즈가 있어서 보기에는 괜춘함</td>\n",
       "    </tr>\n",
       "    <tr>\n",
       "      <th>1</th>\n",
       "      <td>1</td>\n",
       "      <td>0</td>\n",
       "      <td>일 방문 저녁 시쯤 방문하여 밥먹는데 벽에서 쥐나와서 활보함 쥐나왔는데 직원들은 별...</td>\n",
       "    </tr>\n",
       "    <tr>\n",
       "      <th>2</th>\n",
       "      <td>1</td>\n",
       "      <td>0</td>\n",
       "      <td>직원분이 너무 불친절하세요불키라는 말도 안해주고 계속 명령조로 얘기하십니다ㅎㅎ</td>\n",
       "    </tr>\n",
       "    <tr>\n",
       "      <th>3</th>\n",
       "      <td>3</td>\n",
       "      <td>0</td>\n",
       "      <td>맛은 그냥 보통임 가운데에 치즈가 있어서 보기에는 괜춘함</td>\n",
       "    </tr>\n",
       "    <tr>\n",
       "      <th>4</th>\n",
       "      <td>1</td>\n",
       "      <td>0</td>\n",
       "      <td>일 방문 저녁 시쯤 방문하여 밥먹는데 벽에서 쥐나와서 활보함 쥐나왔는데 직원들은 별...</td>\n",
       "    </tr>\n",
       "  </tbody>\n",
       "</table>\n",
       "</div>"
      ],
      "text/plain": [
       "  score  y                                            ko_text\n",
       "0     3  0                    맛은 그냥 보통임 가운데에 치즈가 있어서 보기에는 괜춘함\n",
       "1     1  0  일 방문 저녁 시쯤 방문하여 밥먹는데 벽에서 쥐나와서 활보함 쥐나왔는데 직원들은 별...\n",
       "2     1  0        직원분이 너무 불친절하세요불키라는 말도 안해주고 계속 명령조로 얘기하십니다ㅎㅎ\n",
       "3     3  0                    맛은 그냥 보통임 가운데에 치즈가 있어서 보기에는 괜춘함\n",
       "4     1  0  일 방문 저녁 시쯤 방문하여 밥먹는데 벽에서 쥐나와서 활보함 쥐나왔는데 직원들은 별..."
      ]
     },
     "execution_count": 415,
     "metadata": {},
     "output_type": "execute_result"
    }
   ],
   "source": [
    "import re\n",
    "\n",
    "# 텍스트 정제 함수: 한글 이외의 문자는 전부 제거 \n",
    "def text_cleaning(text):\n",
    "    # 한글의 정규표현식으로 한글만 추출\n",
    "    hangul = re.compile('[^ ㄱ-ㅣ가-힣]+')\n",
    "    result = hangul.sub('', text)\n",
    "    return result\n",
    "\n",
    "# 함수를 적용하여 리뷰에서 한글만 추출\n",
    "df['ko_text'] = df['review'].apply(lambda x: text_cleaning(x))\n",
    "df.drop(['review'], axis=1, inplace=True)\n",
    "\n",
    "# 한 글자 이상의 텍스트를 가지고 있는 데이터만 추출\n",
    "df = df[df['ko_text'].str.len() > 0]\n",
    "\n",
    "print(df.shape)\n",
    "df.head()"
   ]
  },
  {
   "cell_type": "markdown",
   "id": "4e18a363",
   "metadata": {},
   "source": [
    "**형태소 추출**"
   ]
  },
  {
   "cell_type": "code",
   "execution_count": 418,
   "id": "b0f36dbe",
   "metadata": {},
   "outputs": [
    {
     "name": "stdout",
     "output_type": "stream",
     "text": [
      "['맛/Noun', '은/Josa', '그냥/Noun', '보통/Noun', '임/Noun', '가운데/Noun', '에/Josa', '치즈/Noun', '가/Josa', '있어서/Adjective', '보기/Noun', '에는/Josa', '괜춘함/Noun']\n"
     ]
    }
   ],
   "source": [
    "from konlpy.tag import Okt\n",
    "\n",
    "# knolpy 라이브러리로 텍스트 데이터에서 형태소를 추출하는 함수 생성\n",
    "def get_pos(x):\n",
    "    tagger = Okt()\n",
    "    pos = tagger.pos(x)\n",
    "    pos = ['{}/{}'.format(word,tag) for word, tag in pos]\n",
    "    return pos\n",
    "\n",
    "# 형태소 추출 동작 테스트\n",
    "result = get_pos(df['ko_text'].values[0])\n",
    "print(result)"
   ]
  },
  {
   "cell_type": "markdown",
   "id": "fd451b33",
   "metadata": {},
   "source": [
    "마지막으로 텍스트 데이터를 분류 모델에 학습이 가능한(=연산 가능한) 데이터셋으로 만들어보자.  \n",
    "\n",
    "방법은 다음과 같다. \n",
    "1. 텍스트 데이터셋으로부터 말뭉치(corpus)를 생성한다.  \n",
    "   ex) '너무 맛있었습니다.' -> '너무' '맛'\n",
    "2. 서로 다른 n개의 형태소는 각 텍스트 데이터의 벡터 길이가 된다.  \n",
    "   만약 텍스트에 해당 단어가 존재하면 벡터의 값을 1로, 존재하지 않으면 벡터의 값을 0으로 할당한다.  \n",
    "   ex) 말뭉치에 만약 3개의 형태소가 있다고 가정하자. ('너무', '맛', '친절')  \n",
    "       이는 학습 데이터셋에서 벡터의 형태로 표현한다.  ['너무'|'맛'|'친절']   \n",
    "       따라서 '너무 친절했습니다'의 경우 학습 데이터셋에서는 [101] 이 된다.  "
   ]
  },
  {
   "cell_type": "markdown",
   "id": "09fa3c2a",
   "metadata": {},
   "source": [
    "**분류 모델의 학습 데이터로 변환하기: courpus index 생성**"
   ]
  },
  {
   "cell_type": "code",
   "execution_count": 419,
   "id": "8296e4c4",
   "metadata": {},
   "outputs": [
    {
     "name": "stderr",
     "output_type": "stream",
     "text": [
      "/Users/hyegwan/opt/anaconda3/envs/pybook/lib/python3.8/site-packages/sklearn/feature_extraction/text.py:528: UserWarning: The parameter 'token_pattern' will not be used since 'tokenizer' is not None'\n",
      "  warnings.warn(\n"
     ]
    },
    {
     "name": "stdout",
     "output_type": "stream",
     "text": [
      "(155, 644)\n"
     ]
    }
   ],
   "source": [
    "from sklearn.feature_extraction.text import CountVectorizer\n",
    "\n",
    "# 형태소를 벡터 형태의 학습 데이터셋(X 데이터)로 변환\n",
    "index_vectorizer = CountVectorizer(tokenizer = lambda x: get_pos(x)) # tokenizer: 텍스트 데이터의 전처리 방식을 입력\n",
    "X = index_vectorizer.fit_transform(df['ko_text'].tolist())\n",
    "\n",
    "print(X.shape)"
   ]
  },
  {
   "cell_type": "markdown",
   "id": "406f397d",
   "metadata": {},
   "source": [
    "학습 데이터셋과 말뭉치가 올바르게 생성되었는지를 직접 확인해보자.  \n"
   ]
  },
  {
   "cell_type": "code",
   "execution_count": 424,
   "id": "83764162",
   "metadata": {},
   "outputs": [
    {
     "name": "stdout",
     "output_type": "stream",
     "text": [
      "{'맛/Noun': 220, '은/Josa': 460, '그냥/Noun': 74, '보통/Noun': 299, '임/Noun': 489, '가운데/Noun': 14, '에/Josa..\n"
     ]
    }
   ],
   "source": [
    "print(str(index_vectorizer.vocabulary_)[:100]+'..')"
   ]
  },
  {
   "cell_type": "markdown",
   "id": "a8a6f921",
   "metadata": {},
   "source": [
    "만약 '맛'이라는 형태소를 포함한 텍스트라면 220번 피처의 벡터값은 1이 되는 것이다.  "
   ]
  },
  {
   "cell_type": "markdown",
   "id": "a35b2541",
   "metadata": {},
   "source": [
    "다음 실행 결과는 원래의 텍스트 데이터와 변환 이후의 데이터를 함께 출력한 것이다.  "
   ]
  },
  {
   "cell_type": "code",
   "execution_count": 425,
   "id": "72f35820",
   "metadata": {},
   "outputs": [
    {
     "name": "stdout",
     "output_type": "stream",
     "text": [
      "맛은 그냥 보통임 가운데에 치즈가 있어서 보기에는 괜춘함\n",
      "  (0, 220)\t1\n",
      "  (0, 460)\t1\n",
      "  (0, 74)\t1\n",
      "  (0, 299)\t1\n",
      "  (0, 489)\t1\n",
      "  (0, 14)\t1\n",
      "  (0, 428)\t1\n",
      "  (0, 572)\t1\n",
      "  (0, 5)\t1\n",
      "  (0, 496)\t1\n",
      "  (0, 291)\t1\n",
      "  (0, 429)\t1\n",
      "  (0, 56)\t1\n"
     ]
    }
   ],
   "source": [
    "print(df['ko_text'][0])\n",
    "print(X[0]) # 1이 있는 (x, y) 좌표. x가 1열밖에 없어서 y값이 곧 고유 인덱스 번호가 된다. "
   ]
  },
  {
   "cell_type": "markdown",
   "id": "39529eb2",
   "metadata": {},
   "source": [
    "변환된 학습 데이터 셋에서는 220, 460, 74, ..., 56번 위치의 X 피처가 1로 채워진 데이터가 된다.  "
   ]
  },
  {
   "cell_type": "markdown",
   "id": "91322d5e",
   "metadata": {},
   "source": [
    "하지만 텍스트 데이터에 **중복되는 형태소가 존재**한다면 어떻게 될까?  \n",
    "만약 '너무 좋았습니다', '너무 너무 너무 좋았습니다'라는 두 텍스트 데이터가 있다면  \n",
    "중복되는 형태소 '너무'가 존재하기 때문에 이 둘은 같은 데이터로 변환된다.  \n",
    "\n",
    "이 문제를 해결하기 위해 텍스트를 피처로 만드는 다른 방법인 **TF-IDF(Term Frequency - Inverse Document Frequency)** 를 적용해보자.  \n",
    "TF-IDF는 단어의 빈도를 나타내는 **TF**와 문서 빈도를 나타내는 DF의 역수(Inverse)인 **IDF를 곱한 값**을 의미한다.  \n",
    "\n",
    "ex) 1번 텍스트에 '맛집'이라는 단어가 3번 등장하고, 모든 데이터에서는 '맛집'이라는 단어가 10개의 텍스트에 등장한다고 할 때,  \n",
    "1번 문서에서 '맛집'의 TF=3, IDF=0.1이 된다.   \n",
    "\n",
    "따라서 TF-IDF는 **다른 문서들에서는 등장하지 않았지만 현재 문서에서는 많이 등장하는 단어**를 의미하며   \n",
    "**그 단어가 현재 문서에서 얼마나 중요한지를 피처로 나타낼 수 있는 방법**이다.  "
   ]
  },
  {
   "cell_type": "markdown",
   "id": "f7e03692",
   "metadata": {},
   "source": [
    "**분류 모델의 학습 데이터로 변환하기: TF-IDF로 변환**"
   ]
  },
  {
   "cell_type": "code",
   "execution_count": 427,
   "id": "cabef308",
   "metadata": {},
   "outputs": [
    {
     "name": "stdout",
     "output_type": "stream",
     "text": [
      "(155, 644)\n",
      "  (0, 572)\t0.3399591518921128\n",
      "  (0, 496)\t0.2915663050242128\n",
      "  (0, 489)\t0.2915663050242128\n",
      "  (0, 460)\t0.16909992607633365\n",
      "  (0, 429)\t0.2616514202501773\n",
      "  (0, 428)\t0.17733797918901945\n",
      "  (0, 299)\t0.3399591518921128\n",
      "  (0, 291)\t0.3399591518921128\n",
      "  (0, 220)\t0.18652491786293843\n",
      "  (0, 74)\t0.2616514202501773\n",
      "  (0, 56)\t0.3399591518921128\n",
      "  (0, 14)\t0.3399591518921128\n",
      "  (0, 5)\t0.14268508853247377\n"
     ]
    }
   ],
   "source": [
    "from sklearn.feature_extraction.text import TfidfTransformer\n",
    "\n",
    "# TF-IDF 방법으로 형태소를 벡터 형태의 학습 데이터셋(X 데이터)으로 변환\n",
    "tfidf_vectorizer = TfidfTransformer()\n",
    "X = tfidf_vectorizer.fit_transform(X)\n",
    "\n",
    "print(X.shape)\n",
    "print(X[0])"
   ]
  },
  {
   "cell_type": "markdown",
   "id": "abb3d59e",
   "metadata": {},
   "source": [
    "'맛은 그냥 보통임 가운데에 치즈가 있어서 보기에는 괜춘함'라는 텍스트 데이터가 TF-IDF 피처로 표현된 것을 확인할 수 있다.  "
   ]
  },
  {
   "cell_type": "markdown",
   "id": "b0b49be6",
   "metadata": {},
   "source": [
    "### 2.3 분류: 긍정/부정 리뷰 분류하기"
   ]
  },
  {
   "cell_type": "markdown",
   "id": "ac1e6915",
   "metadata": {},
   "source": [
    "이제 감성 분류를 위한 데이터셋이 모두 준비 되었다.  \n",
    "이 데이터를 이용하여 분류 모델을 학습시켜보자.  \n",
    "\n",
    "가장 먼저 학습 데이터셋과 테스트 데이터셋으로 데이터를 분리한다.  "
   ]
  },
  {
   "cell_type": "markdown",
   "id": "59a7f10b",
   "metadata": {},
   "source": [
    "**데이터셋 분리**"
   ]
  },
  {
   "cell_type": "code",
   "execution_count": 464,
   "id": "9af3d412",
   "metadata": {},
   "outputs": [
    {
     "name": "stdout",
     "output_type": "stream",
     "text": [
      "(116, 644)\n",
      "(39, 644)\n"
     ]
    }
   ],
   "source": [
    "from sklearn.model_selection import train_test_split\n",
    "\n",
    "y = df['y']\n",
    "x_train, x_test, y_train, y_test = train_test_split(X, y, test_size=0.25)\n",
    "\n",
    "print(x_train.shape)\n",
    "print(x_test.shape)"
   ]
  },
  {
   "cell_type": "markdown",
   "id": "ea79c5ba",
   "metadata": {},
   "source": [
    "**분류 모델링: 로지스틱 회귀 모델 학습 및 평가**"
   ]
  },
  {
   "cell_type": "code",
   "execution_count": 465,
   "id": "b12bb6e8",
   "metadata": {},
   "outputs": [
    {
     "name": "stdout",
     "output_type": "stream",
     "text": [
      "Accuracy: 0.90\n",
      "Precision: 1.000\n",
      "Recall: 0.333\n",
      "F1: 0.500\n"
     ]
    }
   ],
   "source": [
    "from sklearn.linear_model import LogisticRegression\n",
    "from sklearn.metrics import accuracy_score, precision_score, recall_score, f1_score\n",
    "\n",
    "# 로지스틱 회귀 모델 학습\n",
    "lr = LogisticRegression(random_state=42)\n",
    "lr.fit(x_train, y_train)\n",
    "y_pred = lr.predict(x_test)\n",
    "y_pred_probability = lr.predict_proba(x_test)[:, 1] # 1일 확률\n",
    "\n",
    "# 로지스틱 회귀 모델 성능 평가\n",
    "print('Accuracy: %.2f' % accuracy_score(y_test, y_pred)) # 정확도\n",
    "print('Precision: %.3f' % precision_score(y_test, y_pred)) # 정밀도\n",
    "print('Recall: %.3f' % recall_score(y_test, y_pred)) # 재현도\n",
    "print('F1: %.3f' % f1_score(y_test, y_pred))"
   ]
  },
  {
   "cell_type": "code",
   "execution_count": 467,
   "id": "428e2d94",
   "metadata": {},
   "outputs": [
    {
     "name": "stdout",
     "output_type": "stream",
     "text": [
      "AUC : 1.000\n"
     ]
    },
    {
     "data": {
      "text/plain": [
       "<matplotlib.legend.Legend at 0x7fd09a30b6d0>"
      ]
     },
     "execution_count": 467,
     "metadata": {},
     "output_type": "execute_result"
    },
    {
     "data": {
      "image/png": "[encoded data removed]",
      "text/plain": [
       "<Figure size 500x400 with 1 Axes>"
      ]
     },
     "metadata": {},
     "output_type": "display_data"
    }
   ],
   "source": [
    "from sklearn.metrics import roc_curve, roc_auc_score\n",
    "\n",
    "# AUC 계산\n",
    "false_positive_rate, true_positive_rate, thresholds = roc_curve(y_test, y_pred_probability)\n",
    "auc_score = roc_auc_score(y_test, y_pred_probability)\n",
    "print(\"AUC : %.3f\" % auc_score)\n",
    "\n",
    "# ROC curve 그래프 출력\n",
    "plt.figure(figsize=(5,4))\n",
    "plt.plot(false_positive_rate, true_positive_rate, label='ROC curve (area = %0.3f)' % roc_auc, \n",
    "         color='red', linewidth=4.0)\n",
    "plt.plot([0, 1], [0, 1], 'k--')\n",
    "plt.xlim([0.0, 1.0])\n",
    "plt.ylim([0.0, 1.0])\n",
    "plt.xlabel('False Positive Rate')\n",
    "plt.ylabel('True Positive Rate')\n",
    "plt.title('ROC curve of Logistic regression')\n",
    "plt.legend(loc=\"lower right\")"
   ]
  },
  {
   "cell_type": "markdown",
   "id": "1c050de3",
   "metadata": {},
   "source": [
    "성능 평가 결과, 대부분의 평가 수치가 매우 높은 것을 볼 수 있다.  \n",
    "\n",
    "이렇게 분류기의 성능이 비정상적으로 높은 경우에는 모델의 평가 방법이나 과정을 의심해볼 필요가 있다.  \n",
    "\n",
    "이러한 의심을 확인하기 위해 Confusion Matrix를 출력해보자.  "
   ]
  },
  {
   "cell_type": "markdown",
   "id": "ac1e378b",
   "metadata": {},
   "source": [
    "**Confusion Matrix**"
   ]
  },
  {
   "cell_type": "code",
   "execution_count": 431,
   "id": "419720f7",
   "metadata": {},
   "outputs": [
    {
     "name": "stdout",
     "output_type": "stream",
     "text": [
      "[[31  0]\n",
      " [ 4  4]]\n"
     ]
    }
   ],
   "source": [
    "from sklearn.metrics import confusion_matrix\n",
    "\n",
    "# Confusion Matrix 출력\n",
    "confmat = confusion_matrix(y_true=y_test, y_pred=y_pred)\n",
    "print(confmat)"
   ]
  },
  {
   "cell_type": "markdown",
   "id": "e4ea161b",
   "metadata": {},
   "source": [
    "대부분을 positive(1)로 예측하는 것을 알 수 있다.  \n",
    "이렇게 모델이 하나의 결과만을 예측하도록 잘못된 학습을 하는 경우를 **클래스의 불균형 문제**라고 한다.  "
   ]
  },
  {
   "cell_type": "code",
   "execution_count": 432,
   "id": "c851aa26",
   "metadata": {},
   "outputs": [
    {
     "data": {
      "text/plain": [
       "0    130\n",
       "1     25\n",
       "Name: y, dtype: int64"
      ]
     },
     "execution_count": 432,
     "metadata": {},
     "output_type": "execute_result"
    }
   ],
   "source": [
    "# y가 0과 1을 각각 얼마나 가지고 있는지를 출력\n",
    "df['y'].value_counts()"
   ]
  },
  {
   "cell_type": "markdown",
   "id": "6a0c4079",
   "metadata": {},
   "source": [
    "Negative와 Positive의 비율이 약 5:1인 것을 확인할 수 있다.  \n",
    "\n",
    "클래스 불균형 문제를 해결하기 위해 두 클래스 간의 비율을 동일하게 맞춰보자.  \n",
    "클래스를 1:1 비율로 샘플링 하기 위해 y가 1인 20개의 샘플, y가 0인 20개의 샘플을 임의로 추출한다.  \n",
    "그리고 이 데이터를 다시 학습데이터 셋 (30개)와 테스트 데이터셋(10개)으로 분리하는 방법을 사용한다.  "
   ]
  },
  {
   "cell_type": "markdown",
   "id": "71d05403",
   "metadata": {},
   "source": [
    "**클래스 불균형 문제 해결하기: 1:1 비율의 랜덤 샘플링**"
   ]
  },
  {
   "cell_type": "code",
   "execution_count": 459,
   "id": "8130b664",
   "metadata": {},
   "outputs": [
    {
     "name": "stdout",
     "output_type": "stream",
     "text": [
      "(30, 644)\n",
      "(10, 644)\n"
     ]
    }
   ],
   "source": [
    "# 1:1 비율로 랜덤 샘플링 수행\n",
    "df = df.reset_index()\n",
    "positive_random_idx = df[df['y']==1].sample(20, random_state=42).index.tolist()\n",
    "negative_random_idx = df[df['y']==0].sample(20, random_state=42).index.tolist()\n",
    "\n",
    "# 랜덤 데이터를 학습과 테스트 데이터셋으로 나누기\n",
    "random_idx = positive_random_idx + negative_random_idx\n",
    "sample_X = X[random_idx, :]\n",
    "y = df['y'][random_idx]\n",
    "\n",
    "x_train, x_test, y_train, y_test = train_test_split(sample_X, y, test_size=0.25, shuffle=True)\n",
    "\n",
    "print(x_train.shape)\n",
    "print(x_test.shape)"
   ]
  },
  {
   "cell_type": "markdown",
   "id": "7afd2ede",
   "metadata": {},
   "source": [
    "균형을 맞춰 샘플링한 데이터로 학습과 평가를 진행한다.\n",
    "\n",
    "**로지스틱 회귀 모델 재학습 및 재평가**"
   ]
  },
  {
   "cell_type": "code",
   "execution_count": 460,
   "id": "40a95439",
   "metadata": {},
   "outputs": [
    {
     "name": "stdout",
     "output_type": "stream",
     "text": [
      "Accuracy: 1.00\n",
      "Precision: 1.000\n",
      "Recall: 1.000\n",
      "F1: 1.000\n"
     ]
    }
   ],
   "source": [
    "# 로지스틱 회귀 모델 다시 학습\n",
    "lr = LogisticRegression(random_state=42)\n",
    "lr.fit(x_train, y_train)\n",
    "y_pred = lr.predict(x_test)\n",
    "y_pred_probability = lr.predict_proba(x_test)[:, 1]\n",
    "\n",
    "# 학습한 모델을 테스트 데이터로 평가\n",
    "print('Accuracy: %.2f' % accuracy_score(y_test, y_pred))\n",
    "print('Precision: %.3f' % precision_score(y_test, y_pred))\n",
    "print('Recall: %.3f' % recall_score(y_test, y_pred))\n",
    "print('F1: %.3f' % f1_score(y_test, y_pred))"
   ]
  },
  {
   "cell_type": "markdown",
   "id": "d9c67658",
   "metadata": {},
   "source": [
    "실행 결과, 성능이 더 떨어져야하는데......? 데이터 수가 너무 적어서 그런가...?\n",
    "\n",
    "일단 이전 문제가 잘 해결되었는지 확인하기 위해 다시 confusion matrix를 살펴보자.  "
   ]
  },
  {
   "cell_type": "code",
   "execution_count": 461,
   "id": "4517b97e",
   "metadata": {},
   "outputs": [
    {
     "name": "stdout",
     "output_type": "stream",
     "text": [
      "[[6 0]\n",
      " [0 4]]\n"
     ]
    }
   ],
   "source": [
    "# Confusion Matrix\n",
    "confmat = confusion_matrix(y_true=y_test, y_pred=y_pred)\n",
    "print(confmat)"
   ]
  },
  {
   "cell_type": "markdown",
   "id": "bb75d8e0",
   "metadata": {},
   "source": [
    "새롭게 학습한 분류 모델은 0과 1 두 클래스를 비슷한 비율로 예측하고 있는 것을 알 수 있다.  \n",
    "\n",
    "이처럼 **분류 모델의 평가 척도는 데이터셋의 샘플링 방법에 따라 성능과 기준이 달라질 수 있다.**  "
   ]
  },
  {
   "cell_type": "markdown",
   "id": "aed4c3b2",
   "metadata": {},
   "source": [
    "### 2.4 분석: 중요 키워드 분석하기"
   ]
  },
  {
   "cell_type": "markdown",
   "id": "132d982b",
   "metadata": {},
   "source": [
    "지금까지 학습한 감성 분류 모델에서는 어떤 형태소가 높은 영향력을 가지고 있을까?  \n",
    "이를 알아보기 위해 로지스틱 회귀 모델의 피처 영향력을 추출해보자. \n",
    "\n",
    "다음 그래프에서 양수인 피처들은 긍정적이라고 판단되는 형태소이며, 음수인 피처들은 부정적으로 판단되는 형태소이다.  "
   ]
  },
  {
   "cell_type": "markdown",
   "id": "25dbef94",
   "metadata": {},
   "source": [
    "**회귀 모델의 피처 영향력**"
   ]
  },
  {
   "cell_type": "code",
   "execution_count": 485,
   "id": "22078527",
   "metadata": {},
   "outputs": [
    {
     "data": {
      "image/png": "[encoded data removed]",
      "text/plain": [
       "<Figure size 800x600 with 1 Axes>"
      ]
     },
     "metadata": {},
     "output_type": "display_data"
    }
   ],
   "source": [
    "# 학습한 회귀 모델의 계수 출력\n",
    "plt.figure(figsize=(8,6))\n",
    "plt.bar(range(len(lr.coef_[0])), lr.coef_[0])\n",
    "plt.xlabel('Feature Index')\n",
    "plt.ylabel('Coefficient')\n",
    "plt.title('Coefficients of Features')\n",
    "plt.show()"
   ]
  },
  {
   "cell_type": "code",
   "execution_count": 491,
   "id": "c28fe24d",
   "metadata": {},
   "outputs": [
    {
     "name": "stdout",
     "output_type": "stream",
     "text": [
      "Positive \n",
      " [(0.7643379179938744, 78), (0.7332750855452875, 101), (0.6774125874138912, 3), (0.6467487932721763, 588), (0.60618188576975, 494)]\n",
      "Negative \n",
      " [(-0.31261004777800766, 583), (-0.31261004777800766, 535), (-0.31261004777800766, 438), (-0.31261004777800766, 89), (-0.34066887455909717, 165)]\n"
     ]
    }
   ],
   "source": [
    "# 앞에서 5개 (양수) 긍정적인 피처\n",
    "print('Positive \\n', sorted(((value, index) for index, value in enumerate(lr.coef_[0])), reverse=True)[:5]) \n",
    "\n",
    "# 뒤에서 5개 (음수) 부정적인 피처\n",
    "print('Negative \\n', sorted(((value, index) for index, value in enumerate(lr.coef_[0])), reverse=True)[-5:]) "
   ]
  },
  {
   "cell_type": "markdown",
   "id": "cafa7d51",
   "metadata": {},
   "source": [
    "**중요 변수의 형태소**  "
   ]
  },
  {
   "cell_type": "code",
   "execution_count": 492,
   "id": "25f0aa30",
   "metadata": {},
   "outputs": [],
   "source": [
    "# 회귀 모델의 계수를 높은 순으로 (= 긍정적인 피처 순으로) 정렬\n",
    "coef_pos_index = sorted(((value, index) for index, value in enumerate(lr.coef_[0])), reverse=True)"
   ]
  },
  {
   "cell_type": "markdown",
   "id": "5f700657",
   "metadata": {},
   "source": [
    "정렬된 계수를 -  *(계수, 인덱스)*    \n",
    "index_vectorizer 객체에 -  *{형태소: 인덱스}*  \n",
    "다시 맵핑하여  \n",
    "어떤 형태소인지를 출력한다. -  *(형태소, 계수)*"
   ]
  },
  {
   "cell_type": "code",
   "execution_count": 513,
   "id": "f4e614a9",
   "metadata": {},
   "outputs": [
    {
     "name": "stdout",
     "output_type": "stream",
     "text": [
      "{220: '맛/Noun', 460: '은/Josa', 74: '그냥/Noun', 299: '보통/Noun', 489: '임/Noun', 14: '가운데/Noun', 428: '에..\n"
     ]
    }
   ],
   "source": [
    "# 'key=인덱스: value=형태소'인 딕셔너리 생성 \n",
    "# (index_vectorizer.vocabulary_는 앞에서 CountVectorizer로 만든 말뭉치 dict{형태소: 인덱스}이다.)\n",
    "invert_index_vectorizer = {v: k for k, v in index_vectorizer.vocabulary_.items()}\n",
    "\n",
    "print(str(invert_index_vectorizer)[:100]+'..')"
   ]
  },
  {
   "cell_type": "markdown",
   "id": "e685b60b",
   "metadata": {},
   "source": [
    "**상위 20개 긍정 형태소**"
   ]
  },
  {
   "cell_type": "code",
   "execution_count": 514,
   "id": "297ce122",
   "metadata": {},
   "outputs": [
    {
     "name": "stdout",
     "output_type": "stream",
     "text": [
      "그램/Noun 0.7643379179938744\n",
      "나/Josa 0.7332750855452875\n",
      "ㅎㅎ/KoreanParticle 0.6774125874138912\n",
      "특색/Noun 0.6467487932721763\n",
      "있는/Adjective 0.60618188576975\n",
      "수/Noun 0.60618188576975\n",
      "고깃집/Noun 0.60618188576975\n",
      "필수/Noun 0.5419282760349746\n",
      "친절하/Adjective 0.5419282760349746\n",
      "심/Noun 0.5419282760349746\n",
      "맛있네요/Adjective 0.5419282760349746\n",
      "약간/Noun 0.520137446364018\n",
      "다/Adverb 0.5164565755007038\n",
      "구워주셔서/Verb 0.5164565755007038\n",
      "적당히/Adjective 0.5095586119959162\n",
      "셋트/Noun 0.5095586119959162\n",
      "보니/Verb 0.5095586119959162\n",
      "괜찮음/Adjective 0.5095586119959162\n",
      "이니/Josa 0.4784579742725242\n",
      "룸/Noun 0.47322154558581975\n"
     ]
    }
   ],
   "source": [
    "for coef in coef_pos_index[:20]: \n",
    "    print(invert_index_vectorizer[coef[1]], coef[0])\n",
    "    # coef[0]: 계수, coef[1]: 인덱스\n",
    "    # invert_index_vectorizer[coef[1]]: 상위 n개 인덱스에 해당하는 형태소 "
   ]
  },
  {
   "cell_type": "markdown",
   "id": "fcb601d9",
   "metadata": {},
   "source": [
    "더 나아가, '/'로 구분되어 있는 품사를 활용하여 품사별 형태소를 추출할 수 있다.  \n",
    "\n",
    "피처 영향력에 따라 정렬된 형태소에서 품사별(명사, 형용사) 긍정,부정 형태소를 10개씩 살펴보자.  "
   ]
  },
  {
   "cell_type": "markdown",
   "id": "247d14da",
   "metadata": {},
   "source": [
    "**상위 10개 명사/형용사 형태소**"
   ]
  },
  {
   "cell_type": "code",
   "execution_count": 531,
   "id": "1fb988dd",
   "metadata": {},
   "outputs": [],
   "source": [
    "noun_list = []\n",
    "adjective_list = []\n",
    "\n",
    "# 명사, 형용사별로 계수가 높은 상위 10개의  긍정적인 형태소 추출\n",
    "for coef in coef_pos_index:\n",
    "    pos_category = invert_index_vectorizer[coef[1]].split('/')[1] # 품사 = '/'를 기준으로 나눈 후 두 번째 것\n",
    "    if pos_category == 'Noun':\n",
    "        noun_list.append((invert_index_vectorizer[coef[1]], coef[0]))\n",
    "    \n",
    "    elif pos_category == 'Adjective':\n",
    "        adjective_list.append((invert_index_vectorizer[coef[1]], coef[0]))"
   ]
  },
  {
   "cell_type": "code",
   "execution_count": 532,
   "id": "0dd3eaef",
   "metadata": {},
   "outputs": [
    {
     "data": {
      "text/plain": [
       "[('그램/Noun', 0.7643379179938744),\n",
       " ('특색/Noun', 0.6467487932721763),\n",
       " ('수/Noun', 0.60618188576975),\n",
       " ('고깃집/Noun', 0.60618188576975),\n",
       " ('필수/Noun', 0.5419282760349746),\n",
       " ('심/Noun', 0.5419282760349746),\n",
       " ('약간/Noun', 0.520137446364018),\n",
       " ('셋트/Noun', 0.5095586119959162),\n",
       " ('룸/Noun', 0.47322154558581975),\n",
       " ('요/Noun', 0.4510022683652991)]"
      ]
     },
     "execution_count": 532,
     "metadata": {},
     "output_type": "execute_result"
    }
   ],
   "source": [
    "# 상위 10개의 명사 출력\n",
    "noun_list[:10]"
   ]
  },
  {
   "cell_type": "code",
   "execution_count": 533,
   "id": "61e17191",
   "metadata": {},
   "outputs": [
    {
     "data": {
      "text/plain": [
       "[('있는/Adjective', 0.60618188576975),\n",
       " ('친절하/Adjective', 0.5419282760349746),\n",
       " ('맛있네요/Adjective', 0.5419282760349746),\n",
       " ('적당히/Adjective', 0.5095586119959162),\n",
       " ('괜찮음/Adjective', 0.5095586119959162),\n",
       " ('친절하세요/Adjective', 0.4510022683652991),\n",
       " ('있진/Adjective', 0.4510022683652991),\n",
       " ('없어도/Adjective', 0.4039784749167168),\n",
       " ('아늑해서/Adjective', 0.4039784749167168),\n",
       " ('맛있어요/Adjective', 0.4039784749167168)]"
      ]
     },
     "execution_count": 533,
     "metadata": {},
     "output_type": "execute_result"
    }
   ],
   "source": [
    "# 상위 10개의 형용사 출력\n",
    "adjective_list[:10]"
   ]
  },
  {
   "cell_type": "markdown",
   "id": "9195a93b",
   "metadata": {},
   "source": [
    "품사별 형태소를 살펴본 결과,  \n",
    "\n",
    "명사에서는 '그램'(g), '특색', '고깃집', '필수','셋트' 등 이 긍정적인 키워드로 나타났고  \n",
    "\n",
    "형용사에서는 '친절하'/'친절하세요', '맛있네요'/'맛있어요, '적당히', '괜찮음', '아늑해서' 등 이 긍정적인 키워드로 나타났다.  \n",
    "\n",
    "긍정적인 키워드를 어느정도 잘 추려낸 것으로 보인다.  "
   ]
  },
  {
   "cell_type": "markdown",
   "id": "e34cdd80",
   "metadata": {},
   "source": [
    "### 정리"
   ]
  },
  {
   "cell_type": "markdown",
   "id": "80f24f4a",
   "metadata": {},
   "source": [
    "- **감성 분류의 피처**\n",
    "    - 텍스트를 분류 모델의 피처로 만드는 방법으로 '말뭉치' 개념을 사용한다.  \n",
    "      말뭉치에 등장한 형태소 셋(set) 만큼을 벡터의 길이로 한 뒤, 형태소 위치에 해당하는 피처의 값을 1로 지정한다.  \n",
    "- **TF-IDF**\n",
    "    - 단어의 중요도를 파악하는 TF-IDF는 현재 문서에서의 빈도(TF)와 전체 문서에서의 빈도(DF)를 이용 중요도를 파악하고 이를 피처로 사용한다. \n",
    "- **클래스 불균형**\n",
    "    - 분류 모델에서는 Positive sample, Negative sample의 비율 때문에 클래스 불균형 문제가 발생할 수 있다.  \n",
    "- **감성 키워드 분석**\n",
    "    - 로지스틱 회귀 모델에서의 변수 중요도(피처 영향력)를 활용하여 형태소의 감성 영향력을 분석할 수 있다. "
   ]
  }
 ],
 "metadata": {
  "kernelspec": {
   "display_name": "Python 3 (ipykernel)",
   "language": "python",
   "name": "python3"
  },
  "language_info": {
   "codemirror_mode": {
    "name": "ipython",
    "version": 3
   },
   "file_extension": ".py",
   "mimetype": "text/x-python",
   "name": "python",
   "nbconvert_exporter": "python",
   "pygments_lexer": "ipython3",
   "version": "3.8.16"
  },
  "toc": {
   "base_numbering": 1,
   "nav_menu": {},
   "number_sections": true,
   "sideBar": true,
   "skip_h1_title": false,
   "title_cell": "Table of Contents",
   "title_sidebar": "Contents",
   "toc_cell": false,
   "toc_position": {
    "height": "calc(100% - 180px)",
    "left": "10px",
    "top": "150px",
    "width": "165px"
   },
   "toc_section_display": true,
   "toc_window_display": true
  }
 },
 "nbformat": 4,
 "nbformat_minor": 5
}
